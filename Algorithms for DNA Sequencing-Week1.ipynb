{
 "cells": [
  {
   "cell_type": "markdown",
   "metadata": {},
   "source": [
    "# Algorithms for DNA Sequencing Labs\n",
    "## Week 1\n",
    "    1.1) string basics\n",
    "    1.2) manupulating DNA strings\n",
    "    1.3) parsing reference genome\n",
    "    1.4) working with sequencing reads\n",
    "    1.5) analyzing reads by position"
   ]
  },
  {
   "cell_type": "markdown",
   "metadata": {},
   "source": [
    "## 1.1 string basics"
   ]
  },
  {
   "cell_type": "code",
   "execution_count": null,
   "metadata": {},
   "outputs": [],
   "source": [
    "seq = 'ACGT'"
   ]
  },
  {
   "cell_type": "code",
   "execution_count": 2,
   "metadata": {},
   "outputs": [],
   "source": [
    "seq[1]"
   ]
  },
  {
   "cell_type": "code",
   "execution_count": 3,
   "metadata": {},
   "outputs": [],
   "source": [
    "len(seq)"
   ]
  },
  {
   "cell_type": "code",
   "execution_count": 4,
   "metadata": {},
   "outputs": [],
   "source": [
    "e = ''"
   ]
  },
  {
   "cell_type": "code",
   "execution_count": 5,
   "metadata": {},
   "outputs": [],
   "source": [
    "len(e)"
   ]
  },
  {
   "cell_type": "code",
   "execution_count": 6,
   "metadata": {},
   "outputs": [],
   "source": [
    "seq1 = 'CCAA'\n",
    "seq2 = 'GGTT'\n",
    "print(seq1+seq2)"
   ]
  },
  {
   "cell_type": "code",
   "execution_count": 7,
   "metadata": {},
   "outputs": [
    {
     "name": "stdout",
     "output_type": "stream",
     "text": [
      "ACGT\n"
     ]
    }
   ],
   "source": [
    "seqs = ['A', 'C', 'G', 'T']\n",
    "print(''.join(seqs))"
   ]
  },
  {
   "cell_type": "code",
   "execution_count": 8,
   "metadata": {},
   "outputs": [
    {
     "name": "stdout",
     "output_type": "stream",
     "text": [
      "A,C,G,T\n"
     ]
    }
   ],
   "source": [
    "seqs = ['A', 'C', 'G', 'T']\n",
    "print(','.join(seqs))"
   ]
  },
  {
   "cell_type": "code",
   "execution_count": 9,
   "metadata": {},
   "outputs": [
    {
     "data": {
      "text/plain": [
       "'G'"
      ]
     },
     "execution_count": 9,
     "metadata": {},
     "output_type": "execute_result"
    }
   ],
   "source": [
    "import random\n",
    "random.choice('ACGT')"
   ]
  },
  {
   "cell_type": "code",
   "execution_count": 10,
   "metadata": {},
   "outputs": [
    {
     "data": {
      "text/plain": [
       "'G'"
      ]
     },
     "execution_count": 10,
     "metadata": {},
     "output_type": "execute_result"
    }
   ],
   "source": [
    "random.seed(7)\n",
    "random.choice('ACGT')"
   ]
  },
  {
   "cell_type": "code",
   "execution_count": 11,
   "metadata": {},
   "outputs": [
    {
     "name": "stdout",
     "output_type": "stream",
     "text": [
      "CGAAATACAA\n"
     ]
    }
   ],
   "source": [
    "seq = ''\n",
    "for _ in range(10):\n",
    "    seq += random.choice('ACTG')\n",
    "print(seq)"
   ]
  },
  {
   "cell_type": "code",
   "execution_count": 12,
   "metadata": {},
   "outputs": [],
   "source": [
    "# we use the underscore above because we don't care what index \n",
    "# we're at in the iteration. use the _ bc we dnt want to save the number to a variable\n",
    "# otherwise we'd use 'i'"
   ]
  },
  {
   "cell_type": "code",
   "execution_count": 13,
   "metadata": {},
   "outputs": [
    {
     "name": "stdout",
     "output_type": "stream",
     "text": [
      "TTACATAACA\n"
     ]
    }
   ],
   "source": [
    "seq = ''.join([random.choice('ACGT') for _ in range(10)])\n",
    "print(seq)"
   ]
  },
  {
   "cell_type": "code",
   "execution_count": 14,
   "metadata": {},
   "outputs": [
    {
     "data": {
      "text/plain": [
       "'TA'"
      ]
     },
     "execution_count": 14,
     "metadata": {},
     "output_type": "execute_result"
    }
   ],
   "source": [
    "# substrings\n",
    "seq[1:3]"
   ]
  },
  {
   "cell_type": "code",
   "execution_count": 15,
   "metadata": {},
   "outputs": [
    {
     "data": {
      "text/plain": [
       "'TTA'"
      ]
     },
     "execution_count": 15,
     "metadata": {},
     "output_type": "execute_result"
    }
   ],
   "source": [
    "# prefix\n",
    "seq[:3]"
   ]
  },
  {
   "cell_type": "code",
   "execution_count": 16,
   "metadata": {},
   "outputs": [
    {
     "data": {
      "text/plain": [
       "'ACA'"
      ]
     },
     "execution_count": 16,
     "metadata": {},
     "output_type": "execute_result"
    }
   ],
   "source": [
    "# suffix\n",
    "seq[7:]"
   ]
  },
  {
   "cell_type": "code",
   "execution_count": 17,
   "metadata": {},
   "outputs": [
    {
     "data": {
      "text/plain": [
       "'ACA'"
      ]
     },
     "execution_count": 17,
     "metadata": {},
     "output_type": "execute_result"
    }
   ],
   "source": [
    "# another way to suffix\n",
    "seq[7:len(seq)]"
   ]
  },
  {
   "cell_type": "code",
   "execution_count": 18,
   "metadata": {},
   "outputs": [
    {
     "data": {
      "text/plain": [
       "'A'"
      ]
     },
     "execution_count": 18,
     "metadata": {},
     "output_type": "execute_result"
    }
   ],
   "source": [
    "seq[-3]"
   ]
  },
  {
   "cell_type": "markdown",
   "metadata": {},
   "source": [
    "## 1.2 manupulating DNA strings"
   ]
  },
  {
   "cell_type": "code",
   "execution_count": 19,
   "metadata": {},
   "outputs": [
    {
     "data": {
      "text/plain": [
       "'ACCA'"
      ]
     },
     "execution_count": 19,
     "metadata": {},
     "output_type": "execute_result"
    }
   ],
   "source": [
    "# write a function to find the longest common prefix between 2 strings\n",
    "def longestCommonPrefix(s1, s2):\n",
    "    i = 0 # index starting from zero\n",
    "    # as long as the index is within the range of \n",
    "    # both strings, we'll see whether the 2 strings are identical\n",
    "    # if so, we will increment the index\n",
    "    # using a while loop\n",
    "    while i < len(s1) and i < len(s2) and s1[i] == s2[i]:\n",
    "        i += 1 # increment i\n",
    "    # when we finish this loop, we'll be at the point\n",
    "    # where either we've exhausted one or both of the\n",
    "    # strings or we've reached a mismatch. \n",
    "    # now we can just return the part of either string\n",
    "    # up to but not including i\n",
    "    return s1[:i]\n",
    "longestCommonPrefix('ACCATGT', 'ACCAGAC')"
   ]
  },
  {
   "cell_type": "code",
   "execution_count": 20,
   "metadata": {},
   "outputs": [
    {
     "data": {
      "text/plain": [
       "True"
      ]
     },
     "execution_count": 20,
     "metadata": {},
     "output_type": "execute_result"
    }
   ],
   "source": [
    "# write func to see whether 2 strings match exactly\n",
    "def match(s1, s2):\n",
    "    if not len(s1) == len(s2):\n",
    "        return False\n",
    "    for i in range(len(s1)):\n",
    "        if not s1[i] == s2[i]:\n",
    "            return False\n",
    "        \n",
    "    return True\n",
    "\n",
    "match('ATGCT', 'ATGCT')"
   ]
  },
  {
   "cell_type": "code",
   "execution_count": 21,
   "metadata": {},
   "outputs": [
    {
     "data": {
      "text/plain": [
       "False"
      ]
     },
     "execution_count": 21,
     "metadata": {},
     "output_type": "execute_result"
    }
   ],
   "source": [
    "match('ATCGT', 'ATGGT')"
   ]
  },
  {
   "cell_type": "code",
   "execution_count": 22,
   "metadata": {},
   "outputs": [
    {
     "data": {
      "text/plain": [
       "False"
      ]
     },
     "execution_count": 22,
     "metadata": {},
     "output_type": "execute_result"
    }
   ],
   "source": [
    "# python already has a method that does this for us\n",
    "'ACTGC' == 'ACGTG'"
   ]
  },
  {
   "cell_type": "code",
   "execution_count": 23,
   "metadata": {},
   "outputs": [
    {
     "data": {
      "text/plain": [
       "'G'"
      ]
     },
     "execution_count": 23,
     "metadata": {},
     "output_type": "execute_result"
    }
   ],
   "source": [
    "# reverse complement of DNA strand\n",
    "# use dictionary\n",
    "complement = {'A': 'T', 'C': 'G', 'T': 'A', 'G':'C'}\n",
    "# dictionary is an associative array\n",
    "complement['C']"
   ]
  },
  {
   "cell_type": "code",
   "execution_count": 24,
   "metadata": {},
   "outputs": [
    {
     "data": {
      "text/plain": [
       "'ACCAGTGAGT'"
      ]
     },
     "execution_count": 24,
     "metadata": {},
     "output_type": "execute_result"
    }
   ],
   "source": [
    "def reverseComplement(s):\n",
    "    complement = {'A': 'T', 'C': 'G', 'T': 'A', 'G':'C'}\n",
    "    t = ''\n",
    "    for base in s:\n",
    "        t = complement[base] + t\n",
    "    return t\n",
    "reverseComplement('ACTCACTGGT')"
   ]
  },
  {
   "cell_type": "markdown",
   "metadata": {},
   "source": [
    "## 1.3 parsing reference genome"
   ]
  },
  {
   "cell_type": "code",
   "execution_count": 25,
   "metadata": {},
   "outputs": [
    {
     "name": "stdout",
     "output_type": "stream",
     "text": [
      "--2020-12-08 13:49:00--  http://d28rh4a8wq0iu5.cloudfront.net/ads1/data/lambda_virus.fa\n",
      "Resolving d28rh4a8wq0iu5.cloudfront.net (d28rh4a8wq0iu5.cloudfront.net)... 99.84.232.192, 99.84.232.26, 99.84.232.33, ...\n",
      "Connecting to d28rh4a8wq0iu5.cloudfront.net (d28rh4a8wq0iu5.cloudfront.net)|99.84.232.192|:80... connected.\n",
      "HTTP request sent, awaiting response... 200 OK\n",
      "Length: 49270 (48K) [application/octet-stream]\n",
      "Saving to: ‘lambda_virus.fa.2’\n",
      "\n",
      "lambda_virus.fa.2   100%[===================>]  48.12K  --.-KB/s    in 0.08s   \n",
      "\n",
      "2020-12-08 13:49:01 (587 KB/s) - ‘lambda_virus.fa.2’ saved [49270/49270]\n",
      "\n"
     ]
    }
   ],
   "source": [
    "# Following line downloads FASTA file containing the lambda phage reference genome\n",
    "# That ! before wget allows us to use iPython to run a command line script and obtain this file \n",
    "!wget http://d28rh4a8wq0iu5.cloudfront.net/ads1/data/lambda_virus.fa"
   ]
  },
  {
   "cell_type": "code",
   "execution_count": 26,
   "metadata": {},
   "outputs": [
    {
     "data": {
      "text/plain": [
       "'GGGCGGCGACCTCGCGGGTTTTCGCTATTTATGAAAATTTTCCGGTTTAAGGCGTTTCCGTTCTTCTTCGTCATAACTTAATGTTTTTATTTAAAATACC'"
      ]
     },
     "execution_count": 26,
     "metadata": {},
     "output_type": "execute_result"
    }
   ],
   "source": [
    "# function to read the genome\n",
    "def readGenome(filename):\n",
    "    genome = '' # set as empty string\n",
    "    with open(filename, 'r') as f: # open to read only\n",
    "        for line in f:\n",
    "            # ignore header line with genome information\n",
    "            if not line[0] == '>':\n",
    "                genome += line.rstrip() # rstrip removes any trailing whitespace from the end of the string\n",
    "    return genome\n",
    "genome = readGenome('lambda_virus.fa')\n",
    "genome[:100]"
   ]
  },
  {
   "cell_type": "code",
   "execution_count": 27,
   "metadata": {},
   "outputs": [],
   "source": [
    "# read more about with statements\n",
    "# https://www.geeksforgeeks.org/with-statement-in-python/"
   ]
  },
  {
   "cell_type": "code",
   "execution_count": 28,
   "metadata": {},
   "outputs": [
    {
     "data": {
      "text/plain": [
       "48502"
      ]
     },
     "execution_count": 28,
     "metadata": {},
     "output_type": "execute_result"
    }
   ],
   "source": [
    "len(genome)"
   ]
  },
  {
   "cell_type": "code",
   "execution_count": 29,
   "metadata": {},
   "outputs": [
    {
     "name": "stdout",
     "output_type": "stream",
     "text": [
      "{'A': 12334, 'C': 11362, 'G': 12820, 'T': 11986}\n"
     ]
    }
   ],
   "source": [
    "# count the frequency of each base\n",
    "# use a dictionary\n",
    "# have a key for each base\n",
    "# value for the number of times that base occurs (freq)\n",
    "# initialize each base count to zero\n",
    "counts = {'A': 0, 'C': 0, 'G': 0, 'T': 0} \n",
    "# now we'll loop through each base in the genome\n",
    "for base in genome:\n",
    "    counts[base] += 1\n",
    "print(counts)"
   ]
  },
  {
   "cell_type": "code",
   "execution_count": 30,
   "metadata": {},
   "outputs": [
    {
     "data": {
      "text/plain": [
       "Counter({'G': 12820, 'C': 11362, 'A': 12334, 'T': 11986})"
      ]
     },
     "execution_count": 30,
     "metadata": {},
     "output_type": "execute_result"
    }
   ],
   "source": [
    "import collections\n",
    "collections.Counter(genome)"
   ]
  },
  {
   "cell_type": "markdown",
   "metadata": {},
   "source": [
    "## 1.4 working with sequencing reads"
   ]
  },
  {
   "cell_type": "code",
   "execution_count": 32,
   "metadata": {},
   "outputs": [],
   "source": [
    "# review: clusters provide backup for data\n",
    "# Q scores help show confidence in calls\n",
    "# Q = -10log(p)\n",
    "# Q: base quality; p: probability that the base call is incorrect\n",
    "# Q = 10 --> 1 in 10 chance call is incorrect\n",
    "# Q = 20 --> 1 in 100\n",
    "# Q = 30 --> 1 in 1000"
   ]
  },
  {
   "cell_type": "code",
   "execution_count": 33,
   "metadata": {},
   "outputs": [],
   "source": [
    "# base qualities\n",
    "# usual ASCII encoding is Phred 33\n",
    "\n",
    "def QtoPhred33(Q):\n",
    "    \"\"\"Turn Q into Phred + 33 ASCII-Encoded quality\"\"\"\n",
    "    return chr(Q + 33)\n",
    "\n",
    "def phred33toQ(qual):\n",
    "    \"\"\"Turn Phred + 33 ASCII-Encoded quality into Q\"\"\"\n",
    "    return ord(qual)-33"
   ]
  },
  {
   "cell_type": "code",
   "execution_count": 34,
   "metadata": {},
   "outputs": [
    {
     "data": {
      "text/plain": [
       "'I'"
      ]
     },
     "execution_count": 34,
     "metadata": {},
     "output_type": "execute_result"
    }
   ],
   "source": [
    "QtoPhred33(40)"
   ]
  },
  {
   "cell_type": "code",
   "execution_count": 35,
   "metadata": {},
   "outputs": [
    {
     "data": {
      "text/plain": [
       "40"
      ]
     },
     "execution_count": 35,
     "metadata": {},
     "output_type": "execute_result"
    }
   ],
   "source": [
    "phred33toQ('I')"
   ]
  },
  {
   "cell_type": "code",
   "execution_count": 36,
   "metadata": {},
   "outputs": [
    {
     "name": "stdout",
     "output_type": "stream",
     "text": [
      "--2020-12-08 13:49:01--  http://d28rh4a8wq0iu5.cloudfront.net/ads1/data/SRR835775_1.first1000.fastq\n",
      "Resolving d28rh4a8wq0iu5.cloudfront.net (d28rh4a8wq0iu5.cloudfront.net)... 99.84.232.26, 99.84.232.33, 99.84.232.227, ...\n",
      "Connecting to d28rh4a8wq0iu5.cloudfront.net (d28rh4a8wq0iu5.cloudfront.net)|99.84.232.26|:80... connected.\n",
      "HTTP request sent, awaiting response... 200 OK\n",
      "Length: 224786 (220K) [application/octet-stream]\n",
      "Saving to: ‘SRR835775_1.first1000.fastq.2’\n",
      "\n",
      "SRR835775_1.first10 100%[===================>] 219.52K  --.-KB/s    in 0.1s    \n",
      "\n",
      "2020-12-08 13:49:02 (1.48 MB/s) - ‘SRR835775_1.first1000.fastq.2’ saved [224786/224786]\n",
      "\n"
     ]
    }
   ],
   "source": [
    "# download FASTQ file\n",
    "!wget http://d28rh4a8wq0iu5.cloudfront.net/ads1/data/SRR835775_1.first1000.fastq"
   ]
  },
  {
   "cell_type": "code",
   "execution_count": 37,
   "metadata": {},
   "outputs": [],
   "source": [
    "# write function to read FASTQ file and parse it\n",
    "# each time you go through this loop, you read 4 lines (traditional FASTQ format)\n",
    "# FASTQs have 4 lines: 1) machine/exp info 2) sequence 3) + sign 4) quality scores in ASCII format\n",
    "def readFASTQ(filename):\n",
    "    sequences = []\n",
    "    qualities = []\n",
    "    with open(filename) as fh:\n",
    "        while True: # this is where you parse each line of each FASTQ entry\n",
    "            fh.readline().rstrip() # add rstrip to remove white space\n",
    "            seq = fh.readline()\n",
    "            fh.readline()\n",
    "            qual = fh.readline().rstrip()\n",
    "            if len(seq) == 0:\n",
    "                break\n",
    "            sequences.append(seq)\n",
    "            qualities.append(qual)\n",
    "    return sequences, qualities\n",
    "seqs, quals = readFASTQ('SRR835775_1.first1000.fastq')"
   ]
  },
  {
   "cell_type": "code",
   "execution_count": 38,
   "metadata": {},
   "outputs": [
    {
     "name": "stdout",
     "output_type": "stream",
     "text": [
      "['TAACCCTAACCCTAACCCTAACCCTAACCCTAACCCTAACCCTAACCCTAACCCTCACCCTAACCCTAACCCTAACCGTATCCGTCACCCTAACCCTAAC\\n', 'TAACCCTAACCCTAACCCTAACCCTAACCCTAACCCTAACCCTAACCCTAACCCTACCCTAACCCTAACCCTAACCCTAACCCTAACCCTAACCCTAACC\\n', 'TAGGGTTAGGGTTAGGGTTAGGGTTAGGGTTAGGGTTAGGGTTAGGGTTAGGGTTAGGGTTAGGGTTAGGGTTAGGGTTAGGGTTAGGGTTAGGGTTAGG\\n', 'TAGGGTTAGGGTTAGGGTTAGGGTTAGGGTTAGGGTTAGGGTTAGGGTTAGGGTTAGGGTTAGGGTTAAGGGTTGGGGGTTAGGGGTAGGGGTAGGGTTA\\n', 'CTAACCCTAACCCTAACCCTAACCCTACCCTAACCCTAACCCTAACCCTAACCCTAACCCTAACCCTAACCCTAACCCAACCCTAACCCTAACCCTCACC\\n']\n"
     ]
    }
   ],
   "source": [
    "print(seqs[:5])"
   ]
  },
  {
   "cell_type": "code",
   "execution_count": 39,
   "metadata": {},
   "outputs": [
    {
     "name": "stdout",
     "output_type": "stream",
     "text": [
      "['???B1ADDD8??BB+C?B+:AA883CEE8?C3@DDD3)?D2;DC?8?=BAD=@C@(.6.6=A?=?@##################################', 'CCCFFFFFGHHGHJJJJJIJGIIJJJJJJJIJIJJJJJFJJFGIIIIH=CBFCF=CCEG)=>EHB2@@DEC>;;?=;(=?BBD?59?BA###########', '@@<DD?DDHHH<CBHII:CFGIGAGHIIG?CCGGE0BDHIIHIGICH8=FHGI=@EHGGGEEHH>);?CC@.;(=;?59,5<A599?CB>ABBCB><88A', '@CCFFDDFHHHDFHIJJCGGIJJHIIHJC?DHHIJ0?DGHI9BBFHICGGIGI=CDEGI=?AAEF7@?################################', '@<@FDFDDBBFHH@EBGGGEH@FFHE;EHIEGGBHG?)9?8BDGGBGGBCDGI=93=C6==C;CCD(?@>@#############################']\n"
     ]
    }
   ],
   "source": [
    "print(quals[:5])"
   ]
  },
  {
   "cell_type": "code",
   "execution_count": 40,
   "metadata": {},
   "outputs": [],
   "source": [
    "# histogram of quality scores\n",
    "# first need to use the function to convert ASCII to quality\n",
    "def phred33toQ(qual):\n",
    "    \"\"\"Turn Phred + 33 ASCII-Encoded quality into Q\"\"\"\n",
    "    return ord(qual)-33"
   ]
  },
  {
   "cell_type": "code",
   "execution_count": 41,
   "metadata": {},
   "outputs": [
    {
     "data": {
      "text/plain": [
       "2"
      ]
     },
     "execution_count": 41,
     "metadata": {},
     "output_type": "execute_result"
    }
   ],
   "source": [
    "phred33toQ('#')"
   ]
  },
  {
   "cell_type": "code",
   "execution_count": 42,
   "metadata": {},
   "outputs": [
    {
     "data": {
      "text/plain": [
       "41"
      ]
     },
     "execution_count": 42,
     "metadata": {},
     "output_type": "execute_result"
    }
   ],
   "source": [
    "phred33toQ('J')"
   ]
  },
  {
   "cell_type": "code",
   "execution_count": 43,
   "metadata": {},
   "outputs": [
    {
     "name": "stdout",
     "output_type": "stream",
     "text": [
      "[0, 0, 6178, 0, 0, 54, 108, 574, 345, 83, 193, 124, 79, 165, 49, 236, 184, 327, 514, 238, 531, 254, 313, 798, 992, 888, 1396, 1488, 993, 1752, 3387, 4487, 3248, 5476, 8375, 11814, 4243, 7827, 6579, 8179, 9349, 8180, 0, 0, 0, 0, 0, 0, 0, 0]\n"
     ]
    }
   ],
   "source": [
    "def createHist(qualities):\n",
    "    hist = [0] * 50\n",
    "    for qual in qualities:\n",
    "        for phred in qual:\n",
    "            q = phred33toQ(phred)\n",
    "            hist[q] += 1\n",
    "    return hist\n",
    "h = createHist(quals)\n",
    "print(h)"
   ]
  },
  {
   "cell_type": "code",
   "execution_count": 44,
   "metadata": {},
   "outputs": [
    {
     "data": {
      "text/plain": [
       "<Figure size 640x480 with 1 Axes>"
      ]
     },
     "metadata": {},
     "output_type": "display_data"
    }
   ],
   "source": [
    "import matplotlib.pyplot as plt\n",
    "plt.bar(range(len(h)), h)\n",
    "plt.show()"
   ]
  },
  {
   "cell_type": "code",
   "execution_count": 45,
   "metadata": {},
   "outputs": [],
   "source": [
    "def readFastq(filename):\n",
    "    sequences = []\n",
    "    qualities = []\n",
    "    with open(filename) as fh:\n",
    "        while True:\n",
    "            fh.readline() # skip name line\n",
    "            seq = fh.readline().rstrip() # read base sequence\n",
    "            fh.readline() # skip placeholder line\n",
    "            qual = fh.readline().rstrip() #base quality line\n",
    "            if len(seq) == 0:\n",
    "                break\n",
    "            sequences.append(seq)\n",
    "            qualities.append(qual)\n",
    "    return sequences, qualities\n",
    "seqs, quals = readFastq('SRR835775_1.first1000.fastq')"
   ]
  },
  {
   "cell_type": "code",
   "execution_count": 46,
   "metadata": {},
   "outputs": [],
   "source": [
    "def phred33ToQ(qual):\n",
    "    return ord(qual) - 33"
   ]
  },
  {
   "cell_type": "code",
   "execution_count": 47,
   "metadata": {},
   "outputs": [
    {
     "name": "stdout",
     "output_type": "stream",
     "text": [
      "[0, 0, 6178, 0, 0, 54, 108, 574, 345, 83, 193, 124, 79, 165, 49, 236, 184, 327, 514, 238, 531, 254, 313, 798, 992, 888, 1396, 1488, 993, 1752, 3387, 4487, 3248, 5476, 8375, 11814, 4243, 7827, 6579, 8179, 9349, 8180, 0, 0, 0, 0, 0, 0, 0, 0]\n"
     ]
    }
   ],
   "source": [
    "def createHist(qualities):\n",
    "    # Create a histogram of quality scores\n",
    "    hist = [0]*50\n",
    "    for qual in qualities:\n",
    "        for phred in qual:\n",
    "            q = phred33ToQ(phred)\n",
    "            hist[q] += 1\n",
    "    return hist\n",
    "h = createHist(quals)\n",
    "print(h)"
   ]
  },
  {
   "cell_type": "code",
   "execution_count": 48,
   "metadata": {},
   "outputs": [
    {
     "data": {
      "image/png": "[encoded data removed]",
      "text/plain": [
       "<Figure size 432x288 with 1 Axes>"
      ]
     },
     "metadata": {
      "needs_background": "light"
     },
     "output_type": "display_data"
    }
   ],
   "source": [
    "%matplotlib inline\n",
    "import matplotlib.pyplot as plt\n",
    "plt.plot(range(len(h)), h)\n",
    "plt.show()"
   ]
  },
  {
   "cell_type": "markdown",
   "metadata": {},
   "source": [
    "## 1.5 analyzing reads by position"
   ]
  },
  {
   "cell_type": "code",
   "execution_count": 49,
   "metadata": {},
   "outputs": [
    {
     "data": {
      "image/png": "[encoded data removed]",
      "text/plain": [
       "<Figure size 432x288 with 1 Axes>"
      ]
     },
     "metadata": {
      "needs_background": "light"
     },
     "output_type": "display_data"
    }
   ],
   "source": [
    "# use same data set and plot GC content at each position in the reads\n",
    "# GC content differs from species to species\n",
    "# different species will have different characteristic GC contents\n",
    "def findGCbypos(reads):\n",
    "    gc = [0] * 100 # list of number of GC bases we've seen at each position in the reads\n",
    "                   # all reads in this data set are length 100bp\n",
    "    totals = [0] * 100 # list of total number of bases we've seen at each position\n",
    "                        # then we can divide out each index (gc/total)\n",
    "    for read in reads:# loop through each read in our set of reads\n",
    "        for i in range(len(read)):# for each index i in the length of the read\n",
    "            if read[i] == 'C' or read[i] == 'G':# check if read is a C or a G\n",
    "                gc[i] += 1# increment GC array at index i\n",
    "                totals[i] += 1# regardless of what that base is, we want to increment the totals array in index i\n",
    "    for i in range(len(gc)):\n",
    "        if totals[i] > 0:# avoid divide by 0 error\n",
    "            gc[i] /= float(totals[i]) # convert to float\n",
    "    return gc\n",
    "\n",
    "gc = findGCbypos(seqs)\n",
    "plt.plot(range(len(gc)), gc)\n",
    "plt.show()"
   ]
  },
  {
   "cell_type": "code",
   "execution_count": 50,
   "metadata": {},
   "outputs": [
    {
     "data": {
      "image/png": "[encoded data removed]",
      "text/plain": [
       "<Figure size 432x288 with 1 Axes>"
      ]
     },
     "metadata": {
      "needs_background": "light"
     },
     "output_type": "display_data"
    }
   ],
   "source": [
    "def findGCByPos(reads):\n",
    "    ''' Find the GC ratio at each position in the read '''\n",
    "    # Keep track of the number of G/C bases and the total number of bases at each position\n",
    "    gc = [0] * 100\n",
    "    totals = [0] * 100\n",
    "    for read in reads:\n",
    "        for i in range(len(read)):\n",
    "            if read[i] == 'C' or read[i] == 'G':\n",
    "                gc[i] += 1\n",
    "            totals[i] += 1\n",
    "    # Divide G/C counts by total counts to get the average at each position\n",
    "    for i in range(len(gc)):\n",
    "        if totals[i] > 0:\n",
    "            gc[i] /= float(totals[i])\n",
    "    return gc\n",
    "\n",
    "gc = findGCByPos(seqs)\n",
    "plt.plot(range(len(gc)), gc)\n",
    "plt.show()"
   ]
  },
  {
   "cell_type": "code",
   "execution_count": 51,
   "metadata": {},
   "outputs": [
    {
     "data": {
      "text/plain": [
       "Counter({'T': 21836, 'A': 21132, 'C': 28272, 'G': 28742, 'N': 18})"
      ]
     },
     "execution_count": 51,
     "metadata": {},
     "output_type": "execute_result"
    }
   ],
   "source": [
    "import collections\n",
    "count = collections.Counter()\n",
    "for seq in seqs:\n",
    "    count.update(seq)\n",
    "count"
   ]
  },
  {
   "cell_type": "markdown",
   "metadata": {},
   "source": [
    "## 1.6 naive exact matching: matching artificial reads"
   ]
  },
  {
   "cell_type": "code",
   "execution_count": 52,
   "metadata": {},
   "outputs": [],
   "source": [
    "# matching artificial reads\n",
    "# naive exact matching algorithm"
   ]
  },
  {
   "cell_type": "code",
   "execution_count": 53,
   "metadata": {},
   "outputs": [
    {
     "name": "stdout",
     "output_type": "stream",
     "text": [
      "--2020-12-08 13:49:04--  http://d28rh4a8wq0iu5.cloudfront.net/ads1/data/phix.fa\n",
      "Resolving d28rh4a8wq0iu5.cloudfront.net (d28rh4a8wq0iu5.cloudfront.net)... 99.84.232.33, 99.84.232.227, 99.84.232.192, ...\n",
      "Connecting to d28rh4a8wq0iu5.cloudfront.net (d28rh4a8wq0iu5.cloudfront.net)|99.84.232.33|:80... connected.\n",
      "HTTP request sent, awaiting response... 200 OK\n",
      "Length: 5528 (5.4K) [application/octet-stream]\n",
      "Saving to: ‘phix.fa.2’\n",
      "\n",
      "phix.fa.2           100%[===================>]   5.40K  --.-KB/s    in 0s      \n",
      "\n",
      "2020-12-08 13:49:04 (87.9 MB/s) - ‘phix.fa.2’ saved [5528/5528]\n",
      "\n"
     ]
    }
   ],
   "source": [
    "# download genome for PhiX\n",
    "!wget http://d28rh4a8wq0iu5.cloudfront.net/ads1/data/phix.fa"
   ]
  },
  {
   "cell_type": "code",
   "execution_count": 54,
   "metadata": {},
   "outputs": [],
   "source": [
    "# use the readGenome function to read this\n",
    "def readGenome(filename):\n",
    "    genome = ''\n",
    "    with open(filename, 'r') as f:\n",
    "        for line in f:\n",
    "            if not line[0] == '>':\n",
    "                genome += line.rstrip()\n",
    "    return genome\n",
    "genome = readGenome('phix.fa')"
   ]
  },
  {
   "cell_type": "code",
   "execution_count": 55,
   "metadata": {},
   "outputs": [],
   "source": [
    "def naive(p, t):\n",
    "    occurrences = [] # keep track of all indices where p matches t\n",
    "    for i in range(len(t)-len(p) + 1):# loop through every position where p could start\n",
    "        # create a boolean variable match which we'll initialize to be true\n",
    "        # compare every character of P against the corresponding position in t\n",
    "        # if there's a mismatch, set match to false\n",
    "        # for j in range up to the length of p\n",
    "        match = True\n",
    "        for j in range(len(p)):\n",
    "            if not t[i+j] == p[j]:\n",
    "                match = False\n",
    "                break\n",
    "        if match:\n",
    "            occurrences.append(i)\n",
    "    return occurrences"
   ]
  },
  {
   "cell_type": "code",
   "execution_count": 56,
   "metadata": {},
   "outputs": [
    {
     "data": {
      "text/plain": [
       "[0, 5, 9]"
      ]
     },
     "execution_count": 56,
     "metadata": {},
     "output_type": "execute_result"
    }
   ],
   "source": [
    "t = 'AGCTTAGATAGC'\n",
    "p = 'AG'\n",
    "naive(p, t)"
   ]
  },
  {
   "cell_type": "code",
   "execution_count": 57,
   "metadata": {},
   "outputs": [],
   "source": [
    "# generate reads from genome\n",
    "import random\n",
    "def generateReads(genome, numReads, readLen):\n",
    "    '''Generate reads from random positions in the given genome'''\n",
    "    \n",
    "    reads = []\n",
    "    for _ in range(numReads):\n",
    "        start = random.randint(0, len(genome) - readLen) - 1\n",
    "        reads.append(genome[start : start+readLen])\n",
    "    return reads"
   ]
  },
  {
   "cell_type": "code",
   "execution_count": 58,
   "metadata": {},
   "outputs": [
    {
     "name": "stdout",
     "output_type": "stream",
     "text": [
      "100 / 100 reads matched exactly!\n"
     ]
    }
   ],
   "source": [
    "reads = generateReads(genome, 100, 100)\n",
    "\n",
    "numMatched = 0\n",
    "for r in reads:\n",
    "    matches = naive(r, genome) # read is pattern, genome is text\n",
    "    if len(matches) > 0:\n",
    "        numMatched += 1\n",
    "print('%d / %d reads matched exactly!' % (numMatched, len(reads)))"
   ]
  },
  {
   "cell_type": "markdown",
   "metadata": {},
   "source": [
    "## 1.7 naive exact matching: matching real reads"
   ]
  },
  {
   "cell_type": "code",
   "execution_count": 59,
   "metadata": {},
   "outputs": [
    {
     "name": "stdout",
     "output_type": "stream",
     "text": [
      "--2020-12-08 13:49:05--  http://d28rh4a8wq0iu5.cloudfront.net/ads1/data/ERR266411_1.first1000.fastq\n",
      "Resolving d28rh4a8wq0iu5.cloudfront.net (d28rh4a8wq0iu5.cloudfront.net)... 99.84.232.227, 99.84.232.192, 99.84.232.26, ...\n",
      "Connecting to d28rh4a8wq0iu5.cloudfront.net (d28rh4a8wq0iu5.cloudfront.net)|99.84.232.227|:80... connected.\n",
      "HTTP request sent, awaiting response... 200 OK\n",
      "Length: 254384 (248K) [audio/mpeg]\n",
      "Saving to: ‘ERR266411_1.first1000.fastq.2’\n",
      "\n",
      "ERR266411_1.first10 100%[===================>] 248.42K   690KB/s    in 0.4s    \n",
      "\n",
      "2020-12-08 13:49:06 (690 KB/s) - ‘ERR266411_1.first1000.fastq.2’ saved [254384/254384]\n",
      "\n"
     ]
    }
   ],
   "source": [
    "!wget http://d28rh4a8wq0iu5.cloudfront.net/ads1/data/ERR266411_1.first1000.fastq"
   ]
  },
  {
   "cell_type": "code",
   "execution_count": 60,
   "metadata": {},
   "outputs": [],
   "source": [
    "def readFastq(filename):\n",
    "    sequences = []\n",
    "    qualities = []\n",
    "    with open(filename) as fh:\n",
    "        while True:\n",
    "            fh.readline()\n",
    "            seq = fh.readline().rstrip()\n",
    "            fh.readline()\n",
    "            qual = fh.readline().rstrip()\n",
    "            if len(seq) == 0:\n",
    "                break\n",
    "            sequences.append(seq)\n",
    "            qualities.append(qual)\n",
    "    return sequences, qualities\n",
    "seqs, quals = readFastq('ERR266411_1.first1000.fastq')"
   ]
  },
  {
   "cell_type": "code",
   "execution_count": 61,
   "metadata": {},
   "outputs": [
    {
     "data": {
      "text/plain": [
       "Counter({'TAAACAAGCAGTAGTAATTCCTGCTTTATCAAGATAATTTTTCGACTCATCAGAAATATCCGAAAGTGTTAACTTCTGCGTCATGGAAGCGATAAAACTC': 3,\n",
       "         'AACAAGCAGTAGTAATTCCTGCTTTATCAAGATAATTTTTCGACTCATCAGAAATATACGAAAGTGTTAACTTCTGCGTCATGGACACGAAAAAACTCCC': 1,\n",
       "         'AACAAGCAGTAGTAATTCCTGCTTTATCAAGATAATTTTTCGACTCATCAGAAATATCCGAAAGTGTTAACTTCTGCGTCATGGAAGCGATAAAACTCTG': 2,\n",
       "         'AGCCGACGTTTTGGCGGCGCAACCTGTGACGACAAATCTGCTCAAATTTATGCGCGCTTCGATAAAAATGATTGGCGTATCCAACCTGCAGAGTTTTATC': 13,\n",
       "         'GACAAATCTGCTCAAATTTATGCGCGCTTCGATAAAAATGATTGGCGTATCCAACCTGCAGAGTTTTATCGCTTCCATGACGCAGAAGTTAACACTTTCG': 3,\n",
       "         'CTGTAGCCGACGTTTTGGCGGCGCAACCTGTGACGACAAATCTGCTCAAATTTATGCGCGCTTCGATAAAAATGATTGGCGTATCCAACCTGCAGAGTTT': 14,\n",
       "         'CTGTGACGACAAATCTGCTCAAATTTATGCGCGCTTCGATAAAAATGATTGGCGTATCCAACCTGCAGAGTTTTATCGCTTCCATGACGCAGAAGTTAAC': 3,\n",
       "         'CAAATCTGCTCAAATTTATGCGCGCTTCGATAAAAATGATTGGCGTATCCAACCTGCAGAGTTTTATCGCTTCCATGACGCAGAAGTTAACACTTTCGGA': 4,\n",
       "         'GTAAACAAGCAGTAGTAATTCCTGCTTTATCAAGATAATTTTTCGACTCATCAGCAATATCCGAAAGAGTTAACTTTTGCGTCATGGAAGCGATAAAACC': 1,\n",
       "         'GTAAACAAGCAGTAGTAATTCCTGCTTTATCAAGATAATTTTTCGACTCATCAGAAATATCCGAAAGTGTTAACTTCTGCGTCATGGAAGCGATAAAACT': 2,\n",
       "         'TTACTGTAGCCGACGTTTTGGCGGCGCAACCTGTGACGACAAATCTGCTCAAATTTATGCGCGCTTCGATAAAAATGATTGGCGTATCCAACCTGCAGAG': 13,\n",
       "         'AAACAAGCAGTAGTAATTCCTGCTTTATCAAGATAATTTTTCGACTCATCAGAAATATCCGAAAGTGTTAACTTCTGCGTCATGGAAGCGATAAAACTCT': 1,\n",
       "         'GGAGTGCTTAATCCAACTTACCAAGCTGGGTTACGACGCGACCCCGTTCAACCAGAGCTTCAAGTGGAAGACAAAAAGAGCGATGAAAATGAGACTCGGA': 1,\n",
       "         'AACCTGTGACGACAAATCTGCTCAAATTTATGCGCGCTTCGATAAAAATGATTGGCGTATCCAACCTGCAGAGTTTTATCGCTTCCATGACGCAGAAGTT': 12,\n",
       "         'CTGCTCAAATTTATGCGCGCTTCGATAAAAATGATTGGCGTATCCAACCTGCAGAGTTTTATCGCTTCCATGACGCAGAAGTTAACACTTTCGGATATTT': 2,\n",
       "         'ATCTGCTCAAATTTATGCGCGCTTCGATAAAAATGATTGGCGTATCCAACCTGCAGAGTTTTATCGCTTCCATGACGCAGAAGTTAACACTTTCGGATAT': 3,\n",
       "         'CGTAAACAAGCAGTAGTAATTCCTGCTTTATCAAGATAATTTTTCGACTCATCAGAAATATCCGAAAGTGTTAACTTCTGCGTCATGGAAGCGATAAAAC': 2,\n",
       "         'ACCTGTGACGACAAATCTGCTCAAATTTATGCGCGCTTCGATAAAAATGATTGGCGTATCCAACCTGCAGAGTTTTATCGCTTCCATGACGCAGAAGTTA': 3,\n",
       "         'TTGGCGGCGCAACCTGTGACGACAAATCTGCTCAAATTTATGCGCGCTTCGATAAAAATGATTGGCGTATCCAACCTGCAGAGTTTTATCGCTTCCATGA': 14,\n",
       "         'TCGTAAACAAGCAGTAGTAATTCCTGCTTTATCAAGATAATTTTTCGACTCATCAGAAATATCCGAAAGTGTTAACTTCTGCGTCATGGAAGCGATAAAA': 2,\n",
       "         'AGTTACTGTAGCCGACGTTTTGGCGGCGCAACCTGTGACGACAAATCTGCTCAAATTTATGCGCGCTTCGATAAAAATGATTGGCGTATCCAACCTGCAG': 21,\n",
       "         'TTTGGCGGCGCAACCTGTGACGACAAATCTGCTCAAATTTATGCGCGCTTCGATAAAAATGATTAGCGTATCCAACCTGCAGAGTTTTATCGCTTCCATG': 1,\n",
       "         'TGGCGGCGCAACCTGTGACGACAAATCTGCTCAAATTTATGCGCGCTTCGATAAAAATGATTGGCGTATCCAACCTGCAGAGTTTTATCGCTTCCATGAC': 2,\n",
       "         'TTCGTAAACAAGCAGTAGTAATTCCTGCTTTATCAAGATAATTTTTCGACTCATCAGAAATATCCGAAAGTGTTAACTTCTGCGTCATGGAAGCGATAAA': 1,\n",
       "         'GCGACGCCGTTCAACCAGATATTGAAGCAGAACGCAAAAAGAGAGATGAGATTGAGGCTTGGAAAAGATACTGTAGCCGACGGTTTGGCGGGGCGACCCG': 1,\n",
       "         'ATTCGTAAACAAGCAGTAGTAATTCCTGCTTTATCAAGATAATTTTTCGACTCATCAGAAATATCCGAAAGGGTTAACTTCTGCGTCATGGAAGCGATAA': 1,\n",
       "         'GTTCAACCAGATATTGAAGCAGAACGCAAAAAGAGGGATGAGATTGAGGCTGGGAAAAGGTACTGTAGCCGACGTTTTGGCGGGGCCACCTGGGACGGCA': 1,\n",
       "         'ATTCGTAAACAAGCAGTAGTAATTCCTGCTTTATCAAGATAATTTTTCGACTCATCAGAAATATCCGAAAGTGTTAACTTCTGCGTCATGGAAGCGATAA': 2,\n",
       "         'ACGCAAAAAGAGAGATGAGATTGAGGCTGGGAAAAGATACTGTAGCCGACGTTTTGGCGGAGCAACCTGTGACGACAAATATTCACAAAATTATGGGCGC': 1,\n",
       "         'ATTCGTAAACAAGCAGTAGTAATTCCTGCTTTTTCAAGATAATTTTTCGACTCATCAGAAATATCCGAAAGTGTTAACTTCTGCGTCATGGAAGCGATAA': 1,\n",
       "         'GTGACGACAAATCTGCTCAAATTTATGCGCGCTTCGATAAAAATGATTGGCGTATCCAACCTGCAGAGTTTTATCGCTTCCATGACGCAGAAGTTAACAC': 2,\n",
       "         'AGTTACTGTAGCCGACGTTTTGGCGGCGCAACCTGTGACGACAAATCTGCTCAAATTTATGCGCGCTTCGATAAAAATGATTAGCGTATCCAACCTCCAG': 1,\n",
       "         'AATTCGTAAACAAGCAGTAGTAATTCCTGCTTTATCAAGATAATTTTTCGACTCATCAGAAATATCCGAAAGTGTTAACTTCTGCGTCATGGAAGCGATA': 5,\n",
       "         'CCAGATATTGAAGCAGAACGCAAAAAGAGAGATGAGATTGAGGCTGGGAAAAGATTCTTTAGGCGACGTTTTGGCGGCGCAACCCGTGTCGACACATCTC': 1,\n",
       "         'AAAAGAGAGATGAGATTGAGGCTGGGAAAAGTTACTGTAGCCGACGTTTTGGCGGCGCAACCTGTGACGCAAAACCTGCTCAAATTTATGGCGGCTTGGA': 1,\n",
       "         'CAAATTTATGCGCGCTTCGATAAAAATGATTGGCGTATCCAACCTGCAGAGTTTTATCGCTTCCATGACGCAGAAGTTAACACTTTCGGATATTTCTGAT': 7,\n",
       "         'TAATTCGTAAACAAGCAGTAGTAATTCCTGCTTTATCAAGATAATTTTTCGACTCATCAGAAATATCCGAAAGTGTTAACTTCTGCGTCATGGAAGCGAT': 1,\n",
       "         'AATCAGAATGAGCCGAAACTTCGGGATGAAAATGCTCACAATGACAAATCTGTCCACGGAGTGCTTAACATCACTTACACAGCTGGGTTACGACGCGACG': 1,\n",
       "         'CCAGATATTGAAGCAGAACGCAAAAAGAGAGATGAGATTGGGGCTGGGAAAAGATACTGTAAACTACGTTTTGGCAGGGAAACCGTTGACAACAAAACTG': 1,\n",
       "         'CGCGCTTCGATAAAAATGATTGGCGTATCCAACCTGCAGAGTTTTATCGCTTCCATGACGCAGAAGTTAACACTTTCGGATATTTCTGATGAGTCGAAAA': 3,\n",
       "         'TTAATTCGTAAACAAGCAGTAGTAATTCCTGCTTTATCAAGATAATTTTTCGACTCATCAGAAATATCCGAAAGTGTTAACTTCTGCGTCATGGAAGCGA': 2,\n",
       "         'GCTTCGATAAAAATGATTGGCGTATCCAACCTGCAGAGTTTTATCGCTTCCATGACGCAGAAGTTAACACTTTCGGATATTTCTGATGAGTCGAAAAATT': 3,\n",
       "         'GACGTTTTGGCGGCGCAACCTGTGACGACAAATCTGCTCAAATTTATGCGCGCTTCGATAAAAATGATTGGCGTATCCAACCTGCAGAGTTTTATCGCTT': 26,\n",
       "         'TTTAATTCGTAAACAAGCAGTAGTAATTCCTGCTTTATCAAGATAATTTTTCGACTCATCAGAAATATCCGAAAGTGTTAACTTCTGCGTCATGGAAGCG': 1,\n",
       "         'TGGAATTTTTGATATAAATCTTCTGGTTCGCACTGTAAACCTTGTACCGCCATATCCATTTTATTCATAAACAAGACTGGCTTTATTCTTTCAGCAATTG': 1,\n",
       "         'ATTTAATTCGTAAACAAGCAGTAGTAATTCCTGCTTTATCAAGATAATTTTTCGACTCATCAGAAATATCCGAAAGTGTTAACTTCTGCGTCATGGAAGC': 1,\n",
       "         'CGACGTTTTGGCGGCGCAACCTGTGACGACAAATCTGCTCAAATTTATGCGCGCTTCGATAAAAATGATTGGCGTATCCAACCTGCAGAGTTTTATCGCT': 14,\n",
       "         'GATTTAATTCGTAAACAAGCAGTAGTAATTCCTGCTTTATCAAGATAATTTTTCGACTCATCAGAAATATCCGAAAGTGTTAACTTCTGCGTCATGGAAG': 1,\n",
       "         'TACTGTAGCCGACGTTTTGGCGGCGCAACCTGTGACGACAAATCTGCTCAAATTTATGCGCGCTTCGATAAAAATGATTGGCGTATCCAACCTGCAGAGT': 12,\n",
       "         'GATTTAATTCGTAAACAAGCAGTAGTAATTCCTGCTTTTTCAAGATAATTTTTCGACTCATCAGAAATATCCGAAAGTGTTAACTTCTGCGTCATGGAAG': 1,\n",
       "         'CGATTTAATTCGTAAACAAGCAGTAGTAATTCCTGCTTTATCAAGATAATTTTTCGACTCATCAGAAATATCCGAAAGTGTTAACTTCTGCGTCATGGAA': 4,\n",
       "         'GCAACCTGTGACGACAAATCTGCTCAAATTTATGCGCGCTTCGATAAAAATGATTGGCGTATCCAACCTGCAGAGTTTTATCGCTTCCATGACGCAGAAG': 8,\n",
       "         'GAACGCAAAAAGAGAGATGAGATTGAGGCTGGGAAAAGTTACTGTAGCCGACGTTTTGGGGGGGGGGGGGGGGGGGGGGGGGGGGGGGGGGGGGGGGGGG': 1,\n",
       "         'GCCGACGTTTTGGCGGCGCAACCTGTGACGACAAATCTGCTCAAATTTATGCGCGCTTCGATAAAAATGATTGGCGTATCCAACCTGCAGAGTTTTATCG': 4,\n",
       "         'GCAAAAAGAGAGATGAGATTGAGGCTGGGAAAAGCTACTGAAACCGACGGTTTGGCGGAGCAACCTGTGACTACAAATCTCCTCAAATTTATGCGCGCCT': 1,\n",
       "         'GCGCAACCTGTGACGACAAATCTGCTCAAATTTATGCGCGCTTCGATAAAAATGATTGGCGTATCCAACCTGCAGAGTTTTATCGCTTCCATGACGCAGA': 13,\n",
       "         'CGCAACCTGTGACGACAAATCTGCTCAAATTTATGCGCGCTTCGATAAAAATGATTGGTGTATCCAACCTGCAGAGTTTTATCGCTTCCATGACGCAGAA': 1,\n",
       "         'TCAAATTTATGCGCGCTTCGATAAAAATGATTGGCGTATCCAACCTGCAGAGTTTTATCGCTTCCATGACGCAGAAGTTAACACTTTCGGATATTTCTGA': 1,\n",
       "         'TTCGATTTAATTCGTAAACAAGCAGTAGTAATTCCTGCTTTATCAAGATAATTTTTCGACTCATCAGAAATATCCGAAAGTGTTAACTTCTGCGTCATGG': 3,\n",
       "         'TTTGGCGGCGCAACCTGTGACGACAAATCTGCTCAAATTTATGCGCGCTTCGATAAAAATGATTGGCGTATCCAACCTGCAGAGTTTTATCGCTTCCATG': 9,\n",
       "         'ACAAATCTGCTCAAATTTATGCGCGCTTCGATAAAAATGATTGGCGTATCCAACCTGCAGAGTTTTATCGCTTCCATGACGCAGAAGTTAACACTTTCGG': 4,\n",
       "         'GCTTAATCCAACTTACCAAGCTGGGTTACGACGCGACGCAGTTCAACCACATATTGAAGCAGAACGCCAAAAGAAAGAAGAGATGGAGGCGGGGAAAAGT': 1,\n",
       "         'CTTCGATTTAATTCGTAAACAAGCAGTAGTAATTCCTGCTTTATCAAGATAATTTTTCGACTCATCAGAAATATCCGAAAGTGTTAACTTCTGCGTCATG': 1,\n",
       "         'ACTTCGATTTAATTCGTAAACAAGCAGTAGTAATTCCTGCTTTATCAAGATAATTTTTCGACTCATCAGAAATATCCGAAAGTGTTAACTTCTGCGTCAT': 1,\n",
       "         'CGATAAAAATGATTGGCGTATCCAACCTGCAGAGTTTTATCGCTTCCATGACGCAGAAGTTAACACTTTCGGATATTTCTGATGAGTCGAAAAATTATCT': 3,\n",
       "         'GTTTTGGCGGCGCAACCTGTGACGACAAATCTGCTCAAATTTATGCGCGCTTCGATAAAAATGATTGGCGTATCCAACCTGCAGAGTTTTATCGCTTCCA': 12,\n",
       "         'ATGCGCGCTTCGATAAAAATGATTGGCGTATCCAACCTGCAGAGTTTTATCGCTTCCATGACGCAGAAGTTAACACTTTCGGATATTTCTGATGAGTCGA': 3,\n",
       "         'CACTTCGATTTAATTCGTAAACAAGCAGTAGTAATTCCTGCTTTATCAAGATAATTTTTCGACTCATCAGAAATATCCGAAAGTGTTAACTTCTGCGTCA': 3,\n",
       "         'CGCAACCTGTGACGACAAATCTGCTCAAATTTATGCGCGCTTCGATAAAAATGATTGGCGTATCCAACCTGCAGAGTTTTATCGCTTCCATGACGCAGAA': 3,\n",
       "         'TTTTGGCGGCGCAACCTGTGACGACAAATCTGCTCAAATTTATGCGCGCTTCGATAAAAATGATTGGCGTATCCAACCTGCAGAGTTTTATCGCTTCCAT': 5,\n",
       "         'CCACTTCGATTTAATTCGTAAACAAGCAGTAGTAATTCCTGCTTTATCAAGATAATTTTTCGACTCATCAGAAATATCCGAAAGTGTTAACTTCTGCGTC': 2,\n",
       "         'TTCAACCAGATATTGAAGCAGAACGCAAAAAGAGAGATGAGATTGAGGCTGGGAAAAGGTACTGTAGACGAAGTTTTGGCGGGGCAACCTGTGAAGAAAA': 1,\n",
       "         'TCCACTTCGATTTAATTCGTAAACAAGCAGTAGTAATTCCTGCTTTATCAAGATAATTTTTCGACTCATCAGAAATATCCGAAAGTGTTAACTTCTGCGT': 6,\n",
       "         'CCGACGTTTTGGCGGCGCAACCTGTGACGACAAATTTGCTCAAATTTATGCGCGCTTCGATAAAAATGATTGGCGTATCCAACCTGCAGAGTTTTATCGC': 1,\n",
       "         'GTCCACTTCGATTTAATTCGTAAACAAGCAGTAGTAATTCCTGCTTTATCAAGATAATTTTTCGACTCATCAGAAATATCCGAAAGTGTTAACTTCTGCG': 3,\n",
       "         'TTTATGCGCGCTTCGATAAAAATGATTGGCGTATCCAACCTGCAGAGTTTTATCGCTTCCATGACGCAGAAGTTAACACTTTCGGATATTTCTGATGAGT': 2,\n",
       "         'TTTAGTTTAAGCTAATTTCTTAGATTGTTGTTGTTTCTTTTATAATCTCTTATGCTTGATATTAGCATTTTGTTTTTTTAAAAGATATATTAATTGTTTT': 1,\n",
       "         'GACGCGACGCCGTTCAACCAGATATTGAAGCAGAAGGCAAAAAGAGAGATGAGATTGAGGCTGGGAAACGATACTGTAGCCGAAGCTTTTGGGGCGCCAC': 1,\n",
       "         'AGTCCACTTCGATTTAATTCGTAAACAAGCAGTAGTAATTCCTGCTTTATCAAGATAATTTTTCGACTCATCAGAAATATCCGAAAGTGTTAACTTCTGC': 8,\n",
       "         'CGACAAATCTGCTCAAATTTATGCGCGCTTCGATAAAAATGATTGGCGTATCCAACCTGCAGAGTTTTATCGCTTCCATGACGCAGAAGTTAACACTTTC': 6,\n",
       "         'AGTCCACTTCGATTTAATTCGTAAACAAGCAGTAGTAATTCCTGCTTTATCAAGATAATTTTTCGACTAATCAGAAATATACGAAAGTGTTAACTTCTGC': 1,\n",
       "         'AACGCAAAAAGAGAGATGAGATTGAGGCTGGGAAAAGTTACTGTAGCCGACGGTTTGGCGGCGCAACCCGGGACGACAAATCCGCCCAAATTTATGCGCC': 1,\n",
       "         'ACTGTAGCCGACGTTTTGGCGGCGCAACCTGTGACGACAAATCTTCTCAAATTTATGCGCGCTTCGATAAAAATGATTGGCGTATCCAACCTGCAGAGTT': 1,\n",
       "         'CAGTCCACTTCGATTTAATTCGTAAACAAGCAGTAGTAATTCCTGCTTTATCAAGATAATTTTTCGACTCATCAGAAATATCCGAAAGTGTTAACTTCTG': 7,\n",
       "         'AAATTTATGCGCGCTTCGATAAAAATGATTGGCGTATCCAACCTGCAGAGTTTTATCGCTTCCATGACGCAGAAGTTAACACTTTCGGATATTTCTGATG': 2,\n",
       "         'GTAGCCGACGTTTTGGCGGCGCAACCTGTGACGACAAATCTGCTCAAATTTATGCGCGCTTCGATAAAAATGATTGGCGTATCCAACCTGCAGAGTTTTA': 9,\n",
       "         'TGCGCGCTTCGATAAAAATGATTGGCGTATCCAACCTGCAGAGTTTTATCGCTTCCATGACGCAGAAGTTAACACTTTCGGATATTTCTGATGAGTCGAA': 3,\n",
       "         'TGGGTTACGACGCGACGCCGTTCAACCAGATATTGAAGCAGAACGCAAAAAGAGAGATGAGATTGAGGCTGGGGAAAAATACTGTAACCCACGCTTTGGC': 1,\n",
       "         'TGAGATTGAGGCTGGGAAAAGTTACTGTAGGCGACGTTTTGGCGGGGCAACCTGTGAGGACAAATCTGCTCAAAATTATGGGCGCTCCGATAACAATGAT': 1,\n",
       "         'GCAGTCCACTTCGATTTAATTCGTAAACAAGCAGTAGTAATTCCTGCTTTATCAAGATAATTTTTCGACTCATCAGAAATATCCGAAAGTGTTAACTTCT': 4,\n",
       "         'GCAGTACACTTCGATTTAATTCGTAAACAAGCAGTAGTAATTCCTGCTTTATCAAGATAATTTTTCGACTCATCAGAAATATCTGAAAGTGCTAACATCT': 1,\n",
       "         'ACGACAAATCTGCTCAAATTTATGCGCGCTTCGATAAAAATGATTGGCGTATCCAACCTGCAGAGTTTTATCGCTTCCATGACGCAGAAGGTAACACTTT': 1,\n",
       "         'AGCAGTCCACTTCGATTTAATTCGTAAACAAGCAGTAGTAATTCCTGCTTTATCAAGATAATTTTTCGACTCATCAGAAATATCCGAAAGTGTTAACTTC': 4,\n",
       "         'CAGCAGTCCACTTCGATTTAATTCGTAAACAAGCAGTAGTAATTCCTGCTTTATCAAGATAATTTTTCGACTCATCAGAAATATCCGAAAGAGTTAATTT': 1,\n",
       "         'CAAAAAGAGAGATGAGATTGAGGCTGGGAAAAGTTACTTTAACCGACGCTTTGGCGGCGCAACCTGTGACGAAAAAATTTCTCAAATTTATTAGCGACTC': 1,\n",
       "         'GACGACAAATCTGCTCAAATTTATGCGCGCTTCGATAAAAATGATTGGCGTATCCAACCTGCAGAGTTTTATCGCTTCCATGACGCAGAAGTTAACACTT': 5,\n",
       "         'CAGCAGTCCACTTCGATTTAATTCGTAAACAAGCAGTAGTAATTCCTGCTTTATCAAGATAATTTTTCGACTCATCAGAAATATCCGAAAGTGTTAACTT': 8,\n",
       "         'CGTTTTGGCGGCGCAACCTGTGACGACAAATCTGCTCAAATTTATGCGCGCTTCGATAAAAATGATTGGCGTATCCAACCTGCAGAGTTTTATCGCTTCC': 4,\n",
       "         'ACCTGCAGAGTTTTATCGCTTCCATGACGCAGAAGTTAACACTTTCGGATATTTCTGATGAGTCGAAAAATTATCTTGCTAAAGAAGGAATTACTACTGC': 1,\n",
       "         'ATTTATGCGCGCTTCGATAAAAATGATTGGCGTATCCAACCTGCAGAGTTTTATCGCTTCCATGACGCAGAAGTTAACACTTTCGGATATTTCTGATGAG': 3,\n",
       "         'CAGCAGTCCACTTCGATTTAATTCGTAAACAAGCAGTAGTAATTCCTGCTTTATCAAGATAATTTTTCGACTCATCAGAAATATCCGAAAGAGTTAACTT': 1,\n",
       "         'AATGATTGGCGTATCCAACCTGCAGAGTTTTATCGCTTCCATGACGCAGAAGTTAACACTTTCGGATATTTCTGATGAGTCGAAAAATTATCTTGATAAA': 4,\n",
       "         'ACGCCGTTCAACCAGATATTGAAGCAGAACGCAAAAAGAGAGAAGAGATTGAGGCTGGGAAAAGTTACTGTAACCGAGGTTTTGGGGGGGGCACCTGCCA': 1,\n",
       "         'GTCCACGGAGTGCTTAATCCAACTTACCAAGCTGGGTAACGACGCGCCCCCGTTCAACCAGATATTGAAGCAGAACGCAAAAAGGGAGAGGAGTTGGAGG': 1,\n",
       "         'TCAACCAGATATTGAAGCAGAACGCAAAAAGAGAGATGAGATTGAGGCTGGGAAAAGTTACTGAAACCGACGTTTTCGCGGTCCCAACAGCGCCGACAAA': 1,\n",
       "         'GTTACTGTAGCCGACGTTTTGGCGGCGCAACCTGTGACGACAAATCTGCTCAAATTTATGCGCGCTTCGATAAAAATGATTGGCGTATCCAACCTGCAGA': 7,\n",
       "         'ACGCGACGCCGTTCAACCAGATATTGAAGCAGAACGCAAAAAGAGAGGTGAGATTGAGGCTGGGAAAAAATACTGAAACCGACGCTTTGGCGGGGCAACC': 1,\n",
       "         'GCCAGCAGTCCACTTCGATTTAATTCGTAAACAAGCAGTAGTAATTCCTGCTTTATCAAGATAATTTTTCGACTCATCAGAAATATCCGAAAGTGTTAAC': 6,\n",
       "         'CAACCAGATATTGAAGCAGAACGCAAAAAGAGAGATGAGGTTGAGGCTGGGAAAAGTTACTGTAGCCGTCGGTTTGGCCGGGGAACCCGTGACGACAAAT': 1,\n",
       "         'GCCAGCAGTCCACTTCGATTTAATTCGAAAACAAGCAGTAGTAATTCCTGCTTTATCAAGATAATTTTTCGACTCATCAGAAATATCCGAAAATGTTAAC': 1,\n",
       "         'TGTAGCCGACGTTTTGGCGGCGCAACCTGTGACGACAAATCTGCTCAAATTTATGCGCGCTTCGATAAAAATGATTGGCGTATCCAACCTGCAGAGTTTT': 8,\n",
       "         'CCCAGCAGTCCACTTCGATTTAATTCGTAAACAAGCAGTAGTAATTCCTGCTTTATCAAGATAATTTTTCGACTCATCAGAAATATCCGAAAGTGTTAAC': 1,\n",
       "         'TATGCGCGCTTCGATAAAAATGATTGGCGTATCCAACCTGCAGAGTTTTATCGCTTCCATGACGCAGAAGTTAACACTTTCGGATATTTCTGATGAGTCG': 4,\n",
       "         'AAAGGGGGGGGGGGGGCGGAGGGGGGGGCACGGGCGGAGGATGGGGAAGGCAGGGGTTGTGGGGGGTGAGGGGCCAAAGGGAGGACCGGCCCAGCGTAAC': 1,\n",
       "         'CCTGTGACGACAAATCTGCTCAAATTTATGCGCGCTTCGATAAAAATGATTGGCGTATCCAACCTGCAGAGTTTTATCGCTTCCATGACGCAGAAGTTAA': 4,\n",
       "         'CGCCAGCAGTCCACTTCGATTTAATTCGTAAACAAGCAGTAGTAATTCCTGCTTTATCAAGATAATTTTTCGACTCATCAGAAATATCCGAAAGTGTTAA': 2,\n",
       "         'TTTACTGTAGCCGACGTTTTGGCGGCGCAACCTGTGACGACAAATCTGCTCAAATTTATGCGCGCTTCGATAAAAATGATTGGCGTATCCAACCTGCAGA': 1,\n",
       "         'TGGCGTATCCAACCTGCAGAGTTTTATCGCTTCCATGACGCAGAAGTTAACACTTTCGGATATTTCTGATGAGTCGAAAAATTATCTTGATAAAGCAGGA': 2,\n",
       "         'AAATCTGCTCAAATTGATGCGCGCTTCGATAAAAATGATTGGCGTATCCAACCTGCAGAGTTTTATCGCTTCCATGACGCAGAAGTTAACACTTTCGGAT': 1,\n",
       "         'CGCCAGCAGTCCACTTCGATTTAATTCGTAAACAAGCAGTAGTAATTCCTGCTTTATCAAGATAATTTTTCGACTCATCAGAAATATCCGAAAGAGTTAA': 1,\n",
       "         'TTTGGCGGCGCAACCTGTGACGACAAATCTGCTCAAATTTATGCGCGCTTCGATAAAAATGATTGGCGTATCCAACCTCCAAAGTTTTATGGTTTCCTTA': 1,\n",
       "         'CCGCCAGCAGTCCACTTCGATTTAATTCGTAAACAAGCAGTAGTAATTCCTGCTTTATCAAGATAATTTTTCGACTCATCAGAAATATCCGAAAGTGTTA': 1,\n",
       "         'ACTGTAGCCGACGTTTTGGCGGCGCAACCTGTGACGACAAATCTGCTCAAATTTATGCGCGCTTCGATAAAAATGATTGGCGTATCCAACCTGCAGAGTT': 10,\n",
       "         'ACGCGACGCCGTTCAACCAGATATTGAAGCAGAACGCAAAAAGAGAGATGAGGTTGAGGCTGGGGAAAGTTACTGTAACCGACGTTTTGGGGGGGGAACC': 1,\n",
       "         'TCCGCCAGCAGTCCACTTCGATTTAATTCGTAAACAAGCAGTAGTAATTCCTGCTTTATCAAGATAATTTTTCGACTCATCAGAAATATCCGAAAGTGTT': 3,\n",
       "         'TAACACTTTCGGATATTTCTGATGAGTCGAAAAATTATCTTGATAAAGCAGGAATTACTACTGCTTGTTTACGAATTAAATCGAAGTGGACTGCTGGCGG': 1,\n",
       "         'TCCGCCAGCAGTCCACTTCGATTTAATTCGTAAACAAGCAGTAGTAATTCATGCTTTATCAAGATAATTTTTCGACTCATCAGAAATATCCGAAAGTGTT': 1,\n",
       "         'GGCGTATCCAACCTGCAGAGTTTTATCGCTTCCATGACGCAGAAGTTAACACTTTCGGATATTTCTGATGAGTCGAAAAATTATCTTGATAAAGCAGGAA': 4,\n",
       "         'TTCGATAAAAATGATTGGCGTATCCAACCTGCAGAGTTTTATCGCTTCCATGACGCAGAAGTTAACACTTTCGGATATTTCTGATGAGTCGAAAAATTAT': 2,\n",
       "         'TTCCGCCAGCAGTCCACTTCGATTTAATTCGTAAACAAGCAGTAGTAATTCCTGCTTTATCAAGATAATTTTTCGACTCATCAGAAATATCCGAAAGTGT': 4,\n",
       "         'CGCAAAAAGAGAGATGAGATTGAGGCTGGGAAAAGTTACTGTAGCCGAAGTTTTGGCGGCGCAACCCGTGACGGCAAAACTGCTCAAATTTTTGGGCGCT': 1,\n",
       "         'ACTGTAGCCGACGTTTTGGCGGCGCAACCTGTGACGACAAATCTCCTCAAATTTATGCGCGCTTCGATAAAAATGATTGGCGTATCCCACCTGCAGAGTT': 1,\n",
       "         'TGTGACGACAAATCTGCTCAAATTTATGCGCGCTTCGATAAAAATGATTGGCGTATCCAACCTGCAGAGTTTTATCGCTTCCATGACGCAGAAGTTAACA': 1,\n",
       "         'GCAGAACGCAAAAAGAGAGAAGAGATTGAGGCCGGGGAAAAATAATTTAAGCGCAGGTTTTGGGGGGGGACACATGATGAAAAAACTCTCTCAAATTTTA': 1,\n",
       "         'TGCTCAAATTTATGCGCGCTTCGATAAAAATGATTGGCGTATCCAACCTGCAGAGTTTTATCGCTTCCATGACGCAGAAGTTAACACTTTCGGATATTTC': 4,\n",
       "         'TTTCCGCCAGCAGTCCACTTCGATTTAATTCGTAAACAAGCAGTAGTAATTCCTGCTTTATCAAGATAATTTTTCGACTCATCAGGAAAATGCGGAAGGG': 1,\n",
       "         'CCGACGTTTTGGCGGCGCAACCTGTGACGACAAATCTGCTCAAATTTATGCGCGCTTCGATAAAAATGATTGGCGTATCCAACCTGCAGAGTTTTATCGC': 7,\n",
       "         'TTTCCGCCAGCAGTCCACTTCGATTTAATTCGTAAACAAGCAGTAGTAATTCCTGCTTTATCAAGATAATTTTTCGACTCATCAGAAATATCCGAAAGTG': 3,\n",
       "         'GGCGGCGCAACCTGTGACGACAAATCTGCTCAAATTTATGCGCGCTTCGATAAAAATGATTGGCGTATCCAACCTGCAGAGTTTTATCGCTTCCATGACG': 3,\n",
       "         'TTTTCCGCCAGCAGTCCACTTCGATTTAATTCGTAAACAAGCAGTAGTAATTCCTGCTTTATCAAGATAATTTTTCGACTCATCAGAAATATCCGAAAGT': 3,\n",
       "         'CAACCTGTGACGACAAATCTGCTCAAATTTATGCGCGCTTCGATAAAAATGATTGGCGTATCCAACCTGCAGAGTTTTATCGCTTCCATGACGCAGAAGT': 1,\n",
       "         'TGTGACGACAAATCTGCTCAAATTTATGCGCGCTTCGATAAAAATGATTGGTGTATCCAACCTGCAGAGTTTTATCGCTTCCATGACGCAGAAGTTAACA': 1,\n",
       "         'ACGTTTTGGCGGCGCAACCTGTGACGACAAATCTGCTCAAATTTATGCGCGCTTCGATAAAAATGATTGGCGTATCCAACCTGCAGAGTTTTATCGCTTC': 4,\n",
       "         'AATCTGCTCAAATTTATGCGCGCTTCGATAAAAATGATTGGCGTATCCAACCTGCAGAGTTTTATCGCTTCCATGACGCAGAAGTTAACACTTTCGGATA': 1,\n",
       "         'ATTTTCCGCCAGCAGTCCACTTCGATTTAATTCGTAAACAAGCAGTAGTAATTCCTGCTTTATCAAGATAATTTTTCGACTCATCAGAAATATCCGAAAG': 2,\n",
       "         'TTTCCGCCAGCAGTCCACTTCGATTTAATTCGTAAACAAGCAGTAGTAATTCCTGCTTTATCAAGATAATTTTTCGACTCATCAGAAATATCCGAAAGTC': 1,\n",
       "         'CAACCAGATATTGAAGCAGAACGCAAAAAGAGAGATGAGATTGAGGCTGGGAAAGGTACCTTAGGCGGACGTTTGGGGGGCGAACCCTGGACCGCAAAAC': 1,\n",
       "         'CATTTTCCGCCAGCAGTCCACTTCGATTTAATTCGTAAACAAGCAGTAGTAATTCCTGCTTTATCAAGATAATTTTTCGACTCATCAGAAATATCCGAAA': 8,\n",
       "         'ACGACAAATCTGCTCAAATTTATGCGCGCTTCGATAAAAATGATTGGCGTATCCAACCTGCAGAGTTTTATCGCTTCCATGACGCAGAAGTTAACACTTT': 5,\n",
       "         'TCATTTTCCGCCAGCAGTCCACTTCGATTTAATTCGTAAACAAGCAGTAGTAATTCCTGCTTTATCAAGATAATTTTTCGACTCATCAGAAATATCCGAA': 2,\n",
       "         'GGCGCAACCTGTGACGACAAATCTGCTCAAATTTATGCGCGCTTCGATAAAAATGATTGGCGTATCCAAACTGCAGAGATTTATCGCTTCCATGACGCAG': 1,\n",
       "         'CTCATTTTCCGCCAGCAGTCCACTTCGATTTAATTCGTAAACAAGCAGTAGTAATTCCTGCTTTATCAAGATAATTTTTCGACTCATCAGAAATATCCGA': 12,\n",
       "         'CTCATTTTCCGGCAGCAGTCCACTTCGATTTAATTCGTAAACAAGCAGTAGTAATTCCTGCTTTATCAAGATAATTTTTCGACTCATCAGAAATATCCGA': 1,\n",
       "         'AAAAATGATTGGCGTATCCAACCTGCAGAGTTTTATCGCTTCCATGACGCAGAAGTTAACACTTTCGGATATTTCTGATGAGTCGAAAAATTATCTTGAT': 1,\n",
       "         'TCTCATTTTCCGCCAGCAGTCCNCTTCGATTTAANTCGNAAACAAGCAGTNGTAATTCCTGCTTTATCAAGATAATTTTTCGACTCATCAGAAATATCCG': 1,\n",
       "         'TCTCATTTTCCGCCAGCAGTCCACTTCGATTTAATTCGTAAACAAGCAGTAGTAATTCCTGCTTTATCAAGATAATTTTTCGACTCATCAGAAATATCCG': 6,\n",
       "         'GACGTTTTGGCGGCGCAACCTGTGACGACAAATCTGCTCAAATTTATGCGCGCTTCGATAAAAATGATTGGCGTATCCAACCTGCAGAGGTTTATCGCTT': 2,\n",
       "         'TTCTCATTTTCCGCCAGCAGTCCACTTCGATTTAATTCGTAAACAAGCAGTAGTAATTCCTGCTTTATCAAGATAATTTTTCGACTCATCAGAAATATCC': 4,\n",
       "         'CGCTTCGATAAAAATGATTGGCGTATCCAACCTGCAGAGTTTTATCGCTTCCATGACGCAGAAGTTAACACTTTCGGATATTTCTGATTAGTCGAAAAAT': 1,\n",
       "         'GCGCTTCGATAAAAATGATTGGCGTATCCAACCTGCAGAGTTTTATCGCTTCCATGACGCAGAAGTTAACACTTTCGGATATTTCTGATGAGTCGAAAAA': 3,\n",
       "         'GCGGCGCAACCTGTGACGACAAATCTGCTCAAATTTATGCGCGCTTCGATAAAAATGATTGGCGTATCCAACCTGCAGAGTTTTATCGCTTCCATGACGC': 2,\n",
       "         'AGTTACTGTAGCCGACGTTTTGGCGGCGCAACCTGTGACGACAAATCTGCTCAAATTTATGCGCGCTTCGATAAAACTGATTGGCGTATCCAACCTGCAG': 1,\n",
       "         'TTTCTCATTTTCCGCCAGCAGTCCACTTCGATTTAATTCGTAAACAAGCAGTAGTAATTCCTGCTTTATCAAGATAATTTTTCGACTCATCAGAAATATC': 5,\n",
       "         'AGAGTTTTATCGCTTCCATGACGCAGAAGTTAACACTTTCGGATATTTCTGATGAGTCGAAAAATTATCTTGATAAAGCAGGAATTACTACTGCTTGTTT': 1,\n",
       "         'TTTTCTCATTTTCCGCCAGCAGTCCACTTCGATTTAATTCGTAAACAAGCAGTAGTAATTCCTGCTTTATCAAGATAATTTTTCGACTCATCAGAAATAT': 9,\n",
       "         'TCTGCTCAAATTTATGCGCGCTTCGATAAAAATGATTGGCGTATCCAACCTGCAGAGTTTTATCGCTTCCATGACGCAGAAGTTAACACTTTCGGATATT': 1,\n",
       "         'ACTGTAGCCGACGTTTTGGCGGCGCAACCTGTGACGACAAATCTGCTCAAATTTATGCGCGCTTCGATAAAAATGATTGGCGTATCCAACCTGCAGAGAT': 1,\n",
       "         'AGAAGTTAACACTTTCGGATATTTCTGATGAGTCGAAAAATTATCTTGATAAAGCAGGAATTACTACTGCTTGTTTACGAATTAAATCGAAGTGGACTGC': 1,\n",
       "         'TGTAGCCGACGTTTTGGCGGCGCAACCTGTGACGACAAATCTGCTCAAATTTATGCGCGCTTCGATAAAAATGATTGGCGTATCCAACCTACAGAGTTTT': 1,\n",
       "         'CAGAACGCAAAAAGAGAGATGAGATTGAGGCTGGGAAAAGATACTTTAGCCGACGTTTTGGCGGCGCAAACTGTGCCGACAAAACTGCCCAAATTTATTC': 1,\n",
       "         'CGACGCGACGCCGTTCAACCAGATATTGAAGCAGAACGCAAAAGGAGTAATGATTATGAGACGCGATAAAGATACTTAACTCATCATATTAATGGTTCAA': 1,\n",
       "         'ATTTTCTCATTTTCCGCCAGCAGTCCACTTCGATTTAATTCGTAAACAAGCAGTAGTAATTCCTGCTTTATCAAGATAATTTTTCGACTCATCAGAAATA': 1,\n",
       "         'AATTTTCTCATTTTCCGCCAGCAGTCCACTTCGATTTAATTCGTAAACAAGCAGTAGTAATTCCTGCTTTATCAAGATAATTTTTCGACTCATCAGAAAT': 8,\n",
       "         'TGAAGCAGAACGCAAAAAGAGAGATGAGATTGAGGCTGGGAAAAGTTACTGTAGCCGACGTTTTGGCGGTGCCACCTGTGACGACTAATATGTTTTAATT': 1,\n",
       "         'TGGGTTACGACGCGACGCCGTTCAACCAGATATTGAGGCAGAACGAAAAAAGAGAGATGAGTTTGAGGCGGGGAAAAGTAATTTAACCCGAGGTTTTGGG': 1,\n",
       "         'AACTTTCTCATTTTCCGCCAGCAGTCCACTTCGATTTAATTCGTAAACAAGCAGTAGTAATTCCTGCTTTATCAAGATAATTTTTCGACTCATCAGAAAT': 1,\n",
       "         'GAATTTTCTCATTTTCCGCCAGCAGTCCACTTCGATTTAATTCGTAAACACGAAGTAGTAATTCCTGCTTTATCAAGATAATTTTTCGACTCATCAGAAA': 1,\n",
       "         'GAATTTTCTCATTTTCCGCCAGCAGCCCACTTCGATTTAATTCGTAAACAAGCAGTAGCAATTCCTGTTTTATCAAGATAATTTTTGGACTCATCAGAAA': 1,\n",
       "         'GAATTTTCTCATTTTCCGCCAGCAGTCCACTTCGATTTAATTCGTAAACAAGCAGTAGTAATTCCTGCTTTATCAAGATAATTTTTCGACTCATCAGAAA': 5,\n",
       "         'TGACGACAAATCTGCTCAAATTTATGCGCGCTTCGATAAAAATGATTGGCGTATCCAACCTGCAGAGTTTTATCGCTTCCATGACGCAGAAGTTAACACT': 5,\n",
       "         'TAGCCGACGTTTTGGCGGCGCAACCTGTGACGACAAATCTGCTCAAATTTATGCGCGCTTCGATAAAAATGATTGGCGTATCCAACCTGCAGAGTTTTAT': 5,\n",
       "         'AAATCTGCTCAAATTTATGCGCGCTTCGATAAAAATGATTGGCGTATCCAACCTGCAGAGTTTTATCGCTTCCATGACGCAGAAGTTAACACTTTCGGAT': 4,\n",
       "         'CGAATTTTCTCATTTTCCGCCAGCAGTCCACTTCGATTTAATTCGTAAACAAGCAGTAGTAATTCCTGCTTTATCAAGATAATTTTTCGACTCATCAGAA': 5,\n",
       "         'GCTCAAATTTATGCGCGCTTCGATAAAAATGATTGGCGTATCCAACCTGCAGAGTTTTATCGCTTCCATGACGCAGAAGTTAACACTTTCGGATATTTCT': 3,\n",
       "         'CGTTCAACCAGATATTGAAGCAGAACGCAAAAAGAGAGATGCGATTGAGGCTGGGAAAAGTTACTCTAGCCGACGGTTTGGCGGCGGAACCTGGGAAACA': 1,\n",
       "         'GACGCGACGCCGTTCAACCAGATATTGAAGCAGAACGCAAAAAGAGAGATGAGATTGAGGCTGGGGAAAGTTACTGTAGGCGGGGTGTTTGGGGCGGAAC': 1,\n",
       "         'GTTACTGTAGCCGACGTTTTGGCGGCGCAACCTGTGACGACAAATCTGCTCAAATTTATGCGCGCATCGATAAAAATGATTGGCGTATCCAACCTGCAGA': 1,\n",
       "         'AAATGATTGGCGTATCCAACCTGCAGAGTTTTATCGCTTCCATGACGCAGAAGTTAACACTTTCGGATATTTCTGATGAGTCGAAAAATTATCTTGATAA': 3,\n",
       "         'TTATGCGCGCTTCGATAAAAATGATTGGCGTATCCAACCTGCAGAGTTTTATCGCTTCCATGACGCAGAAGTTAACACTTTCGGATATTTCTGATGAGTC': 2,\n",
       "         'GTTCAACCAGATATTGAAGCAGAACGCAAAAAGAGAGATGAGATTGAGGCTGGGAAAAGTTACTGAAGACGACGCTTTCGAGGTGCAACCAGTGCCGGCA': 1,\n",
       "         'TCGAATTTTCTCATTTTCCGCCAGCAGTCCACTTCGATTTAATTCGTAAACAAGCAGTAGTAATTCCTGCTTTATCAAGATAATTTTTCGACTCATCAGA': 4,\n",
       "         'AAGAGAGATGAGATTGAGGCTGGGAAAAGTTACTGTAGCCGACGTTTTGGCGGCGCAAGCTGTGACGGCAAAACTGCTCAAAGTTATGCGGGATTCGGAA': 1,\n",
       "         'AAAAAGAGAGATGAGATTGAGGCTGGGAAAAGGTACTGTAGCCGACGTTTTGGCGGCGCAAACCGTGACGACAAATCTGCTCAAATTTAGGCAGCATTTG': 1,\n",
       "         'GTGTTGGCGGCGCAACCTGTGACGACAAATCTGCTCAAATTTATGCGCGCTTCGATAAAAATGATTGGCGTATCCAACCTGCAGAGTTTTATCGCTTCCA': 1,\n",
       "         'TCGAATGTTCTAATTTTCCGCCAGCAGTCCACTTCGATTTAATTCGTAAACAAGCAGTAGTAATTCCTGCTTTATCAAGATAATTTTTCGACTCATCAGA': 1,\n",
       "         'GTCGAATTTTCTCATTTTCCGCCAGCAGTCCACTTCGATTTAATTCGTAAACAAGCAGTAGTAATTCCTGCTTTATCAAGATAATTTTTCGACTCATCAG': 6,\n",
       "         'TTTGGCGGCGCAACCTGTGACGACAAATCTGCTCAAATTTATGCGCCCTTCGATAAAAATGATTGGCGTATCCAACCTGCAGAGTTTTATCGCTTCCATG': 1,\n",
       "         'GTCGAATTTTCTCATTTTCCGCCAGCAGTCCACTTCGATGTAATTCGTAAACAAGCAGTAGTAATTCCTGCTTTATCAAGATAATTTTTCGACTCATCAG': 1,\n",
       "         'AGCAGAACGCAAAAAGAGAGATGAGATTGAGGCTGGGAAAAGTACCTGAAGCCGCGGTTTGGGGGGGGCACCCGGGGAGGCAAAACTGCCCAAAATTTTG': 1,\n",
       "         'ACGTTTTGGCGGCGCAACCTGTGACGACAAATCTGCTCAAATTTATGCGCGCTTCGATAAAAATGATTGGCGTATCCAACCTGCAAAGTTTTATCGCTTC': 1,\n",
       "         'ACTGTAGCCGACGTTTTGGCGGCGCAACCTGTGACGACAAATCTGCTCAAATTTATGCGCGCTTCGATAAAAATGATTGGCGTATCCAACCTGCAGAGCT': 1,\n",
       "         'GGTCGAATTTTCTCATTTTCCGCCAGCAGTCCACTTCGATTTAATTCGTAAACAAGCAGTAGTAATTCCTGCTTTATCAAGATAATTTTTCGACTCATCA': 9,\n",
       "         'GGTCGAATTTTCTCATTTTCCGCCAGCAGTCCAATTCGATTTAATTCGTAAACAAGCAGTAGTAATTCCTGCTTTATCAAGATAATTTTTCGACTCATCA': 1,\n",
       "         'GGTCGAATTTTCTCATTTTCCGCCAGCAGTCCACTTCGATTTAATTCGTAAACAACCAGTAGTAATTCCTGCTTTATCAAGATAATTTTTCGACTCATCA': 1,\n",
       "         'AGGTCGAATTTTCTCATTTTCCGCCAGCAGTCCACTTCGATTTAATTCGTAAACAAGCAGTAGTAATTCCTGCTTTATCAAGATAATTTTTCGACTCATC': 12,\n",
       "         'ATGTCGAATTTTCTCATTTTCCGCCAGCAGTCCACTTCGATTTAATTCGTAAACAAGCAGTAGTAATTCCTGCTTTATCAAGATAATTTTTCGACTCATC': 1,\n",
       "         'TAGGTCGAATTTTCTCATTTTCCGCCAGCAGTCCACTTCGATTTAATTCGTAAACAAGCAGTAGTAATTCCTGCTTTATCAAGATAATTTTTCGACTCAT': 12,\n",
       "         'TTGAAGCAGAACGCAAAAAGAGAGATGCGATTGAGGCTGGGAAAAGTTAATGTAGCCGACGTTTTGGCGGGGCAACCTGAGAAGACAAAACTGCTCAAAT': 1,\n",
       "         'GCTTCCATGACGCAGAAGTTAACACTTTCGGATATTTCTGATGAGTCGAAAAATTATCTTGATAAAGCAGGAATTACTACTGCTTGTTTACGAATTAAAT': 1,\n",
       "         'ATAGGTCGAATTTTCTCATTTTCCGCCAGCAGTCCACTTCGATTTAATTCGTAAACAAGCAGTAGTCATTCCTGCTTTATCAAGATAATTTTTTGACTCA': 1,\n",
       "         'ATAGGTCGAATTTTCTCATTTTCCGCCAGCAGTCCACTTCGATTTAATTCGTAAACAAGCAGTAGTAATTCCTGCTTTATCAAGATAATTTTTCGACTCA': 4,\n",
       "         'GATAGGTCGAATTTTCTCATTTTCCGCCAGCAGTCCACTTCGATTTAATTCGTAAACAAGCAGTAGTAATTCCTGCTTTATCAAGATAATTTTTCGACTC': 10,\n",
       "         'TCGATAAAAATGATTGGCGTATCCAACCTGCAGAGTTTTATCGCTTCCATGACGCAGAAGTTAACACTTTCGGATATTTCTGATGAGTCGAAAAATTATC': 2,\n",
       "         'TGTAGCCGACGTTTTGGCGGCGCAACCTGTGACGACAAATCTGCTCAAATTTATGCGCGCTTCGATAAAAATGATTAGCGTATCCAACCTGCAGAGTTTT': 1,\n",
       "         'GNCGTTTTGGCGGCGCAACCTGTGACGACAAATCTGCTCAAATTTATGCGCGCTTCGATAAAAATGATTGGCGTATCCAACCTGCAGAGTTTTATCGCTT': 1,\n",
       "         'TATTGAAGCAGAACGCAAAAAGAGAGATGAGATTGAGGCTGGGAAAAGGTACTGTAGACGACGGTTTGGCGGCGTTACCGGATGCGACAAATGAGCACAA': 1,\n",
       "         'TTTTGGCGGCGCAACCTGTGACGACAAATCTGCTCAAATTTATGCGCGCTTCGATAAAAATGATTGGCGTATCCAACCTGCAGAGTTTCATCGCTTCCAT': 1,\n",
       "         'GGATAGGTCGAATTTTCTCATTTTCCGCCAGCAGTCCACTTCGATTTAATTCGTAAACAAGCAGTAGTAATTCCTGCTTTATCAAGATAATTTTTCGACT': 6,\n",
       "         'ATGATTGGCGTATCCAACCTGCAGAGTTTTATCGCTTCCATGACGCAGAAGTTAACACTTTCGGATATTTCTGATGAGTCGAAAAATTATCTTGATAAAG': 2,\n",
       "         'AGGATAGGTCGAATTTTCTCATTTTCCGCCAGCAGTCCACTTCGATTTAATTCGTAAACAAGCAGTAGTAATTCCTGCTTTATCAAGATAATTTTTCGAC': 15,\n",
       "         'GATAAATCTGCTCAAATTTATGCGCGCTTCGATAAAAATGATTGGCGTATCCAACCTGCAGAGTTTTATCGCTTCCATGACGCAGAAGTTAACACTTTCG': 1,\n",
       "         'ATGATAGGTCGAATTTTCTCATTTTCCGCCAGCAGTCCACTTCGATTTAATTCGTAAACAAGCAGTAGTAATTCCTGCTTTATCAAGATAATTTTTCGAC': 1,\n",
       "         'CCGACGTTTTGGCGGCACAACCTGTGACGACAAATCTGCTCAAATTTATGCGCGCTTCGATAAAAATGATTGGCGTATCCAACCTGCAGAGTTTTATCGC': 1,\n",
       "         'AGGATAGGTCGAATTTTCTCATTTTCCTCCAGCAGTCCACTTCGATTTAATTCGTAAACAAGCAGTAGTAATTCCTGCTTTATCAAGATAATTTTTCGCC': 1,\n",
       "         'TGGATAGGTCGAATTTTCTCATTTTCCGCCAGCAGTCCACTTCGATTTAATTCGTAAACAAGCAGTAGTAATTCCTGCTTTATCAAGATAATTTTTCGAC': 1,\n",
       "         'AGGATAGGTCGAATTTTCTCATTTTCCGCCAGCAGTCCACTTCGATTTAATTCGTAAACAAGCAGTAGTAATTCCTGCTTTATCAAGATAATTTTTAGAC': 1,\n",
       "         'GCGCTTCAATAAAAATGATTGGCGTATCCAACCTGCAGAGTTTTATCGCTTCCATGACGCAGAAGTTAACACTTTCGGATATTTCTGATGAGTCGAAAAA': 1,\n",
       "         'AAGGATAGGTCGAATTTTCTCATTTTCCGCCAGCAGTCCACTTCGATTTAATTCGTAAACAAGCAGTAGTAATTCCTGCTTTATCAAGATAATTTTTCGA': 15,\n",
       "         'AAGGATAGGTCGAATTTTCTCATTTTCCGCCAGCAGTCCACTTCGATTTAATTCGTAAACAAGCAGTAGTAATTCCTGCTCTATCAAGATAATTTTTCGA': 1,\n",
       "         'TTTCCTGCTCCTGTTGAGTTTATTGCTGCCGTCATTGCTTATTATGTTCATCCCGTCAACATTCAAACGGCCTGTCTCATCATGGAAGGTTAACACTTTC': 1,\n",
       "         'GGCGCAACCTGTGACGACAAATCTGCTCAAATTTATGCGCGCTTCGATAAAAATGATTGGCGTATCCAACCTGCAGAGTTTTATCGCTTCCATGACGCAG': 1,\n",
       "         'ATATTGAAGCAGAACGCAAAAAGAGAGATGAGATTGAGGCTGGGAAAAGTTACTGGAGCCGACGTTTTTGGGGGGCAACCTGTGAAGACAAAACTGCGCA': 1,\n",
       "         'TCCGATCTAGATTGAGGCTGGGAAAAGTTACTGTAGCCGACGTTTTGGCGGCGCAACCTGTGACGACAAATCTGCTCAAATTTATGCGCGCTTCGATAAA': 1,\n",
       "         'AAGGATAGGTCGAATTTTCTCATTTTCCGCCAGCAGTCCACTTCGATTTAATTCGTAAACAAGCAGTAGAAATTCCTGCTTTATCAAGATAATTTTTCGA': 1,\n",
       "         'AAGAGAGATGAGATTGAGGCTGGGAAAAGCTACTTTAGCCGACGTTTTGGCGGCGCAACCTGTGGCGACAAATTTGCGCCAATTTATGCGCGCTTCCGTA': 1,\n",
       "         'AAGGATAGGTCGAATTTTCTCATTTTCCGCCAGCAGTCCACTTCGATTTAATTCGTAAACAAGCAGGAGTAATTCCTGCTTTATTAAGATAATATTTCAA': 1,\n",
       "         'GCAACCTGTGACGACAAATCTGCTCAAATTTATGCGCGCTTCGATAAAAATGATTGGCGTATCAAACCTGCAGACTTTTATCGCTTCCCTGCCGCAGAAG': 1,\n",
       "         'GCGCGCTTCGATAAAAATGATTGGCGTATCCAACCTGCAGAGTTTTATCGCTTCCATGACGCAGAAGTTAACACTTTCGGATATTTCTGATGAGTCGAAA': 2,\n",
       "         'AGGTCGAATTTTCTCATTTTCCGCCAGCAGTCCACTTCGATTTAATTCGTAAACAAGCAGTAGTGATTCCTGCTTTATCAAGATAATTTTTCGCGTCATC': 1,\n",
       "         'ACTGTAGCCGACGTTTTGGGGGCGCAACCTGTGACGACAAATCTGCTCAAATTTATGCGCGCTTCGATAAAAATGATTGGCGTATCCAACCTGCAGAGTT': 1,\n",
       "         'CAAGGATAGGTCGAATTTTCTCATTTTCCGCCAGCAGTCCACTTCGATTTAATTCGTAAACAAGCAGTAGTAATTCCTGCTTTATCAAGATAATTTTTCG': 10,\n",
       "         'GCGTATCCAACCTGCAGAGTTTTATCGCTTCCATGACGCAGAAGTTAACACTTTCGGATATTTCTGATGAGTCGAAAAATTATCTTGATAAAGCAGGAAT': 3,\n",
       "         'AAAAGAGAGATGAGATTGAGGCTGGGAAAAGTTACTGTAGCCGACGGTTTGGCGGGGCGACCTTTTACGACAAAACTCCTCAAATTTTTTCGCGCTTCCT': 1,\n",
       "         'GCAAGGATAGGTCGAATTTTCTCATTTTCCGCCAGCAGTCCACTTCGATTTAATTCGTAAACAAGCAGTAGTAATTCCTGCTTTATCAAGATAATTTTTC': 24,\n",
       "         'TACTGTAGCCGACGTTTTGGCGGCGCAACCTGTGACGACAAATCTGCTCCAATTTTTACGCGCTTCGATAAAAATGATTGGCGTACCCACCCAGCAGTGT': 1,\n",
       "         'CCTGCAGAGTTTTATCGCTTCCATGACGCAGAAGTTAACACTTTCGGATATTTCTGATGAGTCGAAAAATTATCTTGATAAAGCAGGAATTACTACTGCT': 3,\n",
       "         'AAAAAGAGAGATGAGATTGAGGCTGGGAAAAGTTACTGTAGCCGACGTTTTGGCGGCGCCACCCGTTACGACAAAACTGCTCAAATTTATACGCCCATCA': 1,\n",
       "         'CAACCTGCAGAGTTTTATCGCTTCCATGACGCAGAAGTTAACACTTTCGGATATTTCTGATGAGTCGAAAAATTATCTTGATAAAGCAGGAATTACTACT': 1,\n",
       "         'GCGGCGCAACCTGTGACGACAAATCTGCTCAAATTTATGCGCGCTTCGATAAAAATGATTGGCGTATCCACCCTGCAGAGTTTTATCGCTTCCATGACGC': 1,\n",
       "         'CGCAAGGATAGGTCGAATTTTCTCATTTTCCGCCAGCAGTCCACTTCGATTTAATTCGTAAACAAGCAGTAGTAATTCCTGCTTTATCAAGATAATTTTT': 9,\n",
       "         'TGCAGAGTTTTATCGCTTCCATGACGCAGAAGTTAACACTTTCGGATATTTCTGATGAGTCGAAAAATTATCTTGATAAAGCAGGAATTACTACTGCTTG': 2,\n",
       "         'CGCAAAAAGAGAGATGAGATTGAGGCTGGGAAAAGTTACTGTATCCGACGATTTGGCGGAGCGAACTGGGACGACAAATCTTTTCAAATTTATGCTCGCT': 1,\n",
       "         'CCTGTGACGACAAATCTGCTCAAATTTATGCGCGCTTCGCTAAAAAAAAATTGGGTGTCCCACCCCCAGAGGTTTTTTGCTTTCATTACGCCGAAGGTAA': 1,\n",
       "         'GATTGGCGTATCCAACCTGCAGAGTTTTATCGCTTCCATGACGCAGAAGTTAACACTTTCGGATATTTCTGATGAGTCGAAAAATTATCTTGATAAAGCA': 1,\n",
       "         'GCGCAAGGATAGGTCGAATTTTCTCATTTTCCGCCAGCAGTCCACTTCGATTTAATTCGTAAACAAGCAGTAGTAATTCCTGCTTTATCAAGATAATTTT': 14,\n",
       "         'AAGAGAGATGAGATTGAGGCTGGGAAAAGTTACTGTAGCCGACGTTTTGGCGGCGCAACCCGCGACGACAAAACTGCACAAAATTATGCGCGCTTCGAAA': 1,\n",
       "         'GCGCAAGGATAGGTCGAATTTTCTCATTTTCCGCCAGCAGTCCACTTCGTTTTAATTCGTAAACAAGCAGTAGTAATTCCTGCTTTATCAAGATAATTTT': 1,\n",
       "         'GAAAAATGATTGGCGTATCCAACCTGCAGAGTTTTATCGCTTCCATGACGCAGAAGTTAACACTTTCGGATATTTCTGATGAGTCGAAAAATTATCTTGA': 1,\n",
       "         'GCAGAAGTTAACACTTTCGGATATTTCTGATGAGTCGAAAAATTATCTTGATAAAGCAGGAATTACTACTGCTTGTTTACGAATTAAATCGAAGTGGACT': 1,\n",
       "         'TGCGCAAGGATAGGTCGAATTTTCTCATTTTCCGCCAGCAGTCCACTTCGATTTAATTCGTAAACAAGCAGTAGTAATTCCTGCTTTATCAAGATAATTT': 36,\n",
       "         'TTCGCAAGGATAGGTCGAATTTTCTCATTTTCCGCCAGCAGTCCACTTCGGTTTAATTCGTAGACAAGCAGTAGTAATTCCTGCTTTATCAAGATACTTT': 1,\n",
       "         'GTTTTATCGCTTCCATGACGCAGAAGTTAACACTTTCGGATATTTCTGATGAGTCGAAAAATTATCTTGATAAAGCAGGAATTACTACTGCTTGTTTACG': 1,\n",
       "         'ATCCGACGTTTTGGCGGCGCAACCTGTGACGACAAATCTGCTCAAATTTATGCGCGCTTCGATAAAAATGATTGCCGATCCCAACCGCCGAGTCTCATCC': 1,\n",
       "         'CTTCGATAAAAATGATTGGCGTATCCAACCTGCAGAGTTTTATCGCTTCCATGACGCAGAAGTTAACACTTTCGGATATTTCTGATGAGTCGAAAAATTA': 1,\n",
       "         'GACGTTTTGGCGGCGCAACCTGTGACGACAAATCTGCTCAAATTTATGCGCGCTTCGATAAAAATGATTGGAGTTTCCAACCTGCAGAGTTTTATCGTTT': 1,\n",
       "         'AGCCGACGTTTTGGCGGCGCAACCTGTGACGACAAATCTGCTCAAATTTATGCGCGCTTCGATAAAAATGATTGGCGTATCCAACCTGCAGAGCTTTATC': 1,\n",
       "         'GACGTTTTGGCGGCGCAACCTGTGACGACAAATCTGCTCAAATTTATGCGCGCTTCGATAAAAATGAGTGGCGTATCCAACCTGCAGAGTTTTATCGCTT': 1,\n",
       "         'CTGCGCAAGGATAGGTCGAATTTTCTCATTTTCCGCCAGCAGTCCACTTCGATTTAATTCGTAAACAAGCAGTAGTAATTCCTGCTTTATCAAGATAATT': 14,\n",
       "         'CGCAGAAGTTAACACTTTCGGATATTTCTGATGAGTCGAAAAATTATCTTGATAAAGCAGGAATTACTACTGCTTGTTTACGAATTAAATCGAAGTGGAC': 1,\n",
       "         'CTGCGGAAGGATAGGTCGAATTTTCTCATTTTCCGCCAGCAGTCCACTTCGATTTAATTCGTAAACAAGCAGTAGTAATTCCTGCTTTATCAAGATAATT': 1,\n",
       "         'AACCTGTTACGACAAATCTGCTCAAATTTATGCGCGCTTCGATAAAAATGATTGGCGTATCCAACCTGCAGAGTTTTATCGCTTCCATGACGCAGAAGTT': 1,\n",
       "         'TCAAATTTATGCGCGCTTCGATAAAAATGATTGGCGTATCCAACCTGCAGAGTTTTATCGCTTCCATCACGCAGAAGTTAACACTTTCGGATATTTCTGA': 1,\n",
       "         'CNGCGCAAGGATAGGTCGAATTTTCTCATTTTCCGCCAGCAGTCCACTTCGATTTAATTCGTAAACAAGAAGTAGTAATTCCTGCTTTATCAAGATAATT': 1,\n",
       "         'AATTATCTTGATAAAGCAGGAATTACTACTGCTTGTTTACGAATTAAATCGAAGTGGACTGCTGGCGGAAAATGAGAAAATTCGACCTATCCTTGCGCAG': 1,\n",
       "         'GCTGCGCAAGGATAGGTCGAATTTTCTCATTTTCCGCCAGCAGTCCACTTCGATTTAATTCGTAAACAAGCAGTAGTAATTCCTGCTTTATCAAGATAAT': 11,\n",
       "         'GCTGCGCAAGGATAGGTCGAATTTTCTCATTTTCCGCCAGCAGTCCACTTCGATTTAATTCGTAAACAAGCAGTAGTAATTCCTGCTTTATTAAGATAAT': 1,\n",
       "         'AGTTACTGTAGCCGACGTTTTGGCGGCGCAACCTGTGACGAAAAATCTGCTCAAATTTATGCGCGCTTCGATAAAAATGATTGGCGTATCCAACCTGCAG': 1,\n",
       "         'CGGCGCAACCTGTGACGACAAATCTGCTCAAATTTATGCGCGCTTCGATAAAAATGATTGGCGTATCCAACCTGCAGAGTTTTATCGCTTCCATGACGCA': 2,\n",
       "         'CTGGGAAAAGTTACTGTAGCCGACGTTTTGGCGGCGCAACCTGTGAAGACAAATCTGGTCAAATTTATGCGCGATTCGGTAAAAAAAATTGGCGAATACA': 1,\n",
       "         'AGCTGCGCAAGGATAGGTCGAATTTTCTCATTTTCCGCCAGCAGTCCACTTCGATTTAATTCGTAAACAAGCAGTAGTAATTCCTGCTTTATCAAGATAA': 18,\n",
       "         'CTGTAGCCGACGTTTTGGCGGCGCAACCTGTGACGACAAATCTGCTCAAATTTATGCGCGCTTCGATAAAAATGATTGGCGTATCCAACCTGCAGAGCTT': 1,\n",
       "         'ATATTGAAGCAGAACGCAAAAAGAGAGATGAGATTGAGGCTGGGAAAAAGAACTGTAGCCGACGTTATGGCGGCGCAAACCGTCACGACAAATCTGCTCA': 1,\n",
       "         'AAAATGATTGGCGTATCCAACCTGCAGAGTTTTATCGCTTCCATGACGCAGAAGTTAACACTTTCGGATATTTCTGATGAGTCGAAAAATTATCTTGATA': 1,\n",
       "         'AGCTGCGCAAGGATAGGTCGAATTTTCTCATTTTCCGCCAGCAGTCCACTTCTATTTAATTCGTAAACAAGCAGTAGTAATTCCTGCTTTATCAAGATAA': 1,\n",
       "         'ATTGGCGTATCCAACCTGCAGAGTTTTATCGCTTCCATGACGCAGAAGTTAACACTTTCGGATATTTCTGATGAGTCGAAAAATTATCTTGATAAAGCAG': 1,\n",
       "         'AGCTGCGCAAGGATAGGTCGAATTTTCTCATTTTCCGCCAGCAGTCCCCTTCGATTTAATTCGTAAACAAGCAGTAGCAATTCCTGCTTTATCAAGATAA': 1,\n",
       "         'TTGGCGGCGCAACCTGTGACGACAAATCTGCTCAAATTTATGCGCGCTTCGATAAAAATGATTGGCGTATCCTACCTGCAGAGTTTTATCGACTCCATGA': 1,\n",
       "         'AATTTATGCGCGCTTCGATAAAAATGATTGGCGTATCCAACCTGCAGAGTTTTATCGCTTCCATGACGCAGAAGTTAACACTTTCGGATATTTCTGATGA': 3,\n",
       "         'AGCTGCGCAAGGATAGGTCGAATTTTCTCATTTTCCGCCAGCAGTCCACTTCGATTTAATTCGTTAACAAGCAGGAGTAATTCATGCTTTATCAAGATAA': 1,\n",
       "         'TATGCGCGCTTCGATAAAAATGATTGGCGTATCCAACCTGCAGAGTTTTGTCGCTTCCATGACGCAGAAGTTAACACTTTCGGATATTTCTGATGAGTCG': 1,\n",
       "         'GAGCTGCGCAAGGATAGGTCGAATTTTCTCATTTTCCGCCAGCAGTCCACTTCGATTTAATTCGTAAACAAGCAGTAGTAATTCCTGCTTTATCAAGATA': 29,\n",
       "         'ACGTTTTGGCGGCGCAACCTGTGACGACAAATCTGCTCAAATTTATGCGCGCTTCGATAAAAATGATTGGCGAATCCAACCTGCAGAGATTTATCGCTTC': 1,\n",
       "         'CGTTCAACCAGATATTGAAGCAGAACGCAAAAAGAGAGATGAGATTGAGGCTGGGAAAAGTTACTGTAGTCGCCGTTTTGGCAGCGCAACATGGGACGAA': 1,\n",
       "         'ACCTGCAGAGTTTTATCGCTTCCATGACGCAGAAGTTAACACTTTCGGATATTTCTGATGAGTCGAAAAATTATCTTGATAAAGCAGGAATTACTACTGC': 1,\n",
       "         'ATAAAAATGATTGGCGTATCCAACCTGCAGAGTTTTATCGCTTCCATGACGCAGAAGTTAACACTTTCGGATATTTCTGATGAGTCGAAAAATTATCTTG': 1,\n",
       "         'GAGCTGCGCAAGGATAGGTCGAATTTTCTCATTTTCCGCCAGCAGTCCACTTCGATTAAATTCGTAAACAAGCAGTAGTAATTCCTGCTTTATCAAGATA': 1,\n",
       "         'ATGCGCGCTTCGATAAAAATGATTGGCGTATCCAACCTGCAGGGTTTTATCGCTTCCATGACGCAGAAGTTAACACTTTCGGATATTTCTGATGAGCCGA': 1,\n",
       "         'CGAGCTGCGCAAGGATAGGTCGAATTTTCTCATTTTCCGCCAGCAGTCCACTTCGATTTAATTCGTAAACAAGCAGTAGTAATTCCTGCTTTATCAAGAT': 18,\n",
       "         'CAGAACGCAAAAAGAGAGATGAGATTGAGGCTGGGAAAAGTTACTGTAACCGACGCTTTGCCGGCGCAAACTGTGACGAAAAAACTGCTCAAATTTTTGC': 1,\n",
       "         'TACTGTAGCCGACGTTTTGGCGGCGCAACCTGTGACTACAAATCTGCTCAAATTTATGCGCGCTTCGATAAAAATGATTGGCGTATCCAACCTGCAGAGT': 1,\n",
       "         'CGAGCTGCGCAAGGATAGGACGAATTTTCTCATTTTCCGCCAGCAGTCCACTTCGATTTAATTCGCAAACAAGCAGTAGGAATTCCTGCTTTATCAAGAT': 1,\n",
       "         'CGAGCTGCGCAAGGATAGGTCGAATTTTCACATTTTCCGCCAGCAGTCCACTTCGATTTAATTCGTAAACAAGCAGTAGTAATTCCTGCTTTATCAAGAT': 1,\n",
       "         'B@DFEFFFGEGGGHEHGHGHGGGGHIFGFIFHICFGHGHGJGHFGHGIHEHGGHJGFEFHGHEGGHHGHIFGFGDIFGGFGGGFHGGGHGGGAGIFGGCG': 1,\n",
       "         \"=@@CEBF@BGBG6GF1E<04C3E7E.9G=H<H:HH;HBH;G69F7,7DG((EG8A8,-5-8,?,,,AE>C,B?,,,64$AC'+'='+4'3*4+E322*'(\": 1,\n",
       "         '@@DFEEFFGFGGGFFHGHGGIGGGHIHGFIEHGHHHHFIGGEHFGHGFHGHEGHGGFGFDGHHGIHCGDFFDFDGEIGGFGHGGHGCFFGGGDGEFCFCD': 1,\n",
       "         'A@DFEFFFGDGGGHFHHHGHGGFGHILGFGEHHHFHHFIGHGHFGHGGGEHGGHJGGHFGFGHHEHFGHICKFGJEIGGIFGGGHGGFHIEEGGEFGKGD': 1,\n",
       "         'B@DFEHFEGEGGGHGFGHGHFFGGGI@GDFHHFFHGHGGFHCHFGHCIGEH9CHGEFGFHFDHEIHCGFGFDDCCGIDGIGKGGHGCFGIFGG;HFGFIE': 1,\n",
       "         '8@DCDD=@GGBGGGHEEHGAGCF@=IG?EAE8:DF;7BBGGGGF7@7GH8ACAHAE7H=AE,E@7D4C5CEGGB>BBBG54>G4=AG44@F4GEB<G*2G': 1,\n",
       "         'B@DFEHFFGEGGGFFHGHGHFGFGFIGGFGEHIHHHHFIEGGEFGHGGGFHFGHGGGHFHGHHHEHHGHFHGGGJJIGGGGGGGJGGFHGGEGGHFGGG@': 1,\n",
       "         'B@DFEDFEGGGGGFFHEHGIGGGGFIGGHHFHHHHGHGFGHHHFGEGFGGHGGHJGGHFHGEHH,HGGHFHGFAGEHHGIGCGGFGEFHFFGGDGFEGGD': 1,\n",
       "         '@@DFE9DFGEGDGD?HGHGBFCFEEDE?DFDDGG97BFHB6GEDA@GGGEHEGAHCEGFFAEFHEHFGHFEK?DJEHDGIGDGGHGGGJF@GFFE9C2GE': 1,\n",
       "         'B@DFEEFEGIGGGGGGGHGHGGGGFIFGGIFHFHHEHFHGHGHFGEGGHG8EGHGGHGFGIGHGIHGEFFHFGGJJIIGIGHGGHGGFJEGGGFGFGGGE': 1,\n",
       "         'B@DFEFFEGGGGGHFHGHGGGGGGFIGGFFEHGHFGHBFGGDHFG@GIGFHEGHGGHJFHGBHFGHGGHEHFFGJIEGGIGGGGFDCEFIGEGFFFGGGE': 1,\n",
       "         '8@@C@BFDBHBGB6F>A<GFCEH@F>H@EGFHBEFH?B9FDGA9GC@I@88D7H,8G9BH8E?6IF?6F?IB?6>I,H,5>C4G=:=A=3D44FB?DG+9': 1,\n",
       "         'B@DFFDFGGEGGGDGEGHGHGGFGHIGGDHFEGEHGHFHGHGHFGHGGHGHEGHGGGJFGGHFGIEHCHFHBFGIEHIGIGHGGHD@FFEFEGEGFGEG@': 1,\n",
       "         '@@DFEEFEGEGGGDGFEHGHGGFGFIGGGGEEFFFHHBBFGDHDG@BFGEHGGHGGGEFFEFCDGHFGFCHFGGFB?HGFCH@CFDCEG@@EGDBCGF+E': 1,\n",
       "         '3@DFEEFEGB6@B6F.GH0A>FGBH2FGEGF8GGHAHGGEGGEDGEGDGEHDGHHGEEFGFFEEE6FCFCHFFGCEEGGFGDGG=GGAFFE4AEEG;F27': 1,\n",
       "         'B@DFEHFEGEGGGGGHGHGHGEGGFHGGEEEHHGHGHFHEGHHHGHGIGEHFGHFGGHFHGHHGIFH=H6FBGCIJHHGFFHGCFGGF=FGGDFGBG<C1': 1,\n",
       "         '?@:C@6F@GBGGGAHHAHGA>G?@=>F9EA<ABDHEH9H;GB-9,@G7@EH-2,DD,-+(+,))(&*,526)EE,II+,24C@C+G+44G2G4*C9*22D': 1,\n",
       "         'B@DFEEFFGHGGGGFEGHGGFGGGHIGGGEHHHFFHHGFFGHHFGHGIGGHEGHJGHBFHGHHFIHGCHGFFGGFIFGGIJGGFHAGFFIFFFFIFG@G9': 1,\n",
       "         'B@DFEHFEGEGGGFGHGHGIGFGGGIHGGEEHGFFGHGHGGGHFGHGIIGHGGHJGHGFFGHHFIHFGHEIFGGGJIHG?GDGGJGGFJIGEGGGFGGED': 1,\n",
       "         'B@DFEHFFGHGGGFGHGHGHFGFGHIFGFIEHIGHHHFFEDEEFGHGFGGHDGHGGFJFGIHHGGHFGHGFFFGJIIIGIGDGGHGGFHGGGGGEF2GEG': 1,\n",
       "         'B@DFEBF3BFGGGGFHGBGHFGFGHHGGFFEHFFHGHBEGHGHFGHGIGEHGGHJGEHFDGHEHBH?GFGCGEGGJFGGGJKCFHGGFDFGFGFEBGGGG': 1,\n",
       "         'B@DFEFFFGHGGFFFGGHGGGGFGF6EGGGEGFEHHCGHEGCFDDGC@HEHCGHGGFECGBF<:GEFGFCICECFI:IGFDDGKCFFGBGFGFFGFDGEE': 1,\n",
       "         'B@@CDFF@BBD@BHE2GH?AF@F@ECFGEFGHHHFHHFGFGGHF@H@FG8HDGHAGGCIDGFFGCF4=F?FBFGFJE4=FIC=G4GCFF@GEG23AGCEG': 1,\n",
       "         'B@DFHB=DBHG@GGF>DHGCDKEGDCDBGFFAF:FGEBHEGEE9GFG9GEHGGHGGHGBAFGEGCHFCDGFGFBIBHGDF4GGF4?GFGIEFGFCF2@?D': 1,\n",
       "         'B@DFEEFFGEGGGHFFDHGFFGGEFIHGHFHEHGFHHFFGGCHFGHGFHFHDGHJGFJFGGHHGGHACFEFGEGJJEGGIG>G>FGGFDFGGFGGFGGE>': 1,\n",
       "         '@@DFEHFF8EGGGFEGH<GGGGGGHIFGGGEHHFH;HBIGDGHFGHGFGEHGGAGGFHFHG7HFIHGGH,FHGDIIFG?IGHGGFGGGHGDF4GHCGFC9': 1,\n",
       "         '@@@FEDF3BEBGGDGED<GFFFGGGC9GEFFHFGFAD99FGFCHG?GF@8ED7HJCHHFGAB?DGF+=A,FBFG>J?4GFGD=CF>@F=IFEGFC?GGCD': 1,\n",
       "         '8@@CEBF@GID@6AEEAHGGGG?FFIGBEAF8:HFDBFBF@DEFG6@D6GHDDHHGGCBH8DE6BHAG56>D7DJGEB6F>C4G4:E>=IGE>2+?G@CE': 1,\n",
       "         '?@D<DBFD8BGGGAG>GFGA>CFGDIF9E9GHGFHGDFHFG6C9GFGFDEHD@HFGG9FA8F,@,HFC5CCBFGIGJ4>IGDGG44GG4@EBD;GFGE;1': 1,\n",
       "         'B@DFEHFFGEGGGGGEGHGHCGGGHIGGHHGHFHHHHFHEGEHFGHGFGEHFGHGGFGFHGHFHIEAGHIFF?GJJEIGG4K4FJGGFGIGEGEIFGKGD': 1,\n",
       "         '=@DFEHFFGHGGGFG6GEAHGGGBH7FGGFEHHFFHHGHFDHGHGFGFGEHGGHGGFHFGGGHGEHFGFEEHFFJEIIGGFKGFFDGGHIGHGGFGGGC>': 1,\n",
       "         'B@DFEHFEG<GGGFGHDHGIDGFEFIFDFHEHHFHGHFHGGHHFGHGFGFHFGHGGGEFGFHHGGHFEHECGFGGJEIGFJHGCFGGFGFEGGFC?CGGG': 1,\n",
       "         \"A@DCFFFGGDGGGFFFGHGGFGF@HIFGEFEHHFHGHGHEGCEDGF7F@E8ECHAGFCFDFF,DED+,AC>+7'>?,GG54++CCD+>=EE+A2+F*G2>\": 1,\n",
       "         'B@@FEB=FGEG@BA@EA<GHF@H@=HG?GICHGHBEHBB;GBHGGFGDD8HDDHDGEC=D87?@EDCGHIC+?GDJFIGIJDGC4GGF4@GBA;B<EEEE': 1,\n",
       "         \"A@DFFFFFGDGGGF@FAHGEG@GCHIFGFFGEGEF-H9EF@FC9@CDFGEDEGHDGHCB-G7E@G6+6BF>BDGC6B4GA4DC4C4'AD3&44D<A?*;9\": 1,\n",
       "         'B@@FFHFEGDGGGHGEACGFD@FGDCHGGEEHHEFGHFHFGFCHGHGFGFHDGEAGGCFGGDDGIHHGDCFFFDDIEGGFGDGGHDGGG@FEFFHFD@EE': 1,\n",
       "         \"?@@<@FF@GBG@B64HH<?4>@?@DI99E9G8GDF-,FHEG,-9,BG-H889-(,879F9$,,DBD4CD,,D7,CG64G?+4+C4:GE=3*F>'32?*+C\": 1,\n",
       "         '2@DCFBF@G7BGBG@H5B?EFGF@DIFGGEFE:GBHH9GEH6HFGE>F6GHEGHGC79F9EBC6EHAEA6F5,FJB,DGACHGG4+CABDEG>F<2D<ED': 1,\n",
       "         'B@DCEBFFABGGGGFDAAGIGGGEFIHGHFHHGHHHHBHFGGEFGHGFH=HGGGJGEEFHEFF@IHACFFF>DG>GHIGFF4CG=GGAJ3*GG2<?G2GE': 1,\n",
       "         'B@DFEHFFGFGGGGHHGHGIGGHCHIGGHEHHGGHHHGHGHHH9GHGIHFHFGHJGGHFHGHHFEHCGFIEKFGJIJIGIJDGGFGGGFFFGGGIFGKEE': 1,\n",
       "         \"B@:<@BFE8EG@BAEDABGGC@E@H>-9.AEHB-F(,99.7FAF7,GF+,H9-8G?79F987,,7646F?H>7GDE?4,I'+++=+C4H@DE4D39**C@\": 1,\n",
       "         '8@DF@FFEBBGGGAFEGFG4)FG@HCFGGA<ABFEHHFFEG6-FGHGG@@8EGHDGABF-E?HEEHFGHFEB,FIEB4GD>G?>HDE4FGD4+2F92CC9': 1,\n",
       "         '8@@CEB/DGEGGGHEFACGEFGF@HIF?=FGEIEHHHGBG@GH9GCBGHEH9GHDEFGBH8G?GBHF=5CIF,GFJ?IGFCGGC4DGE43G+GFCCC@I9': 1,\n",
       "         '@@DFFEFFGEGGGFFHGHGGDEFGHCFBEIGHGGEGHGHGGGEFGHGIHGHEDHGGGHFHGGFEIHGGACIF?GD?IIGGGDG>FGGFD>DGGFB<?CIC': 1,\n",
       "         \"?8D<3E=FG7GG6AH25H3A>FE@=099EG<EGFF-,(-GD6997FG96@8E78A8A-((F,76CD4GBCC+'B'E,>?'4D+C4'++'+2'+D+C'F'*\": 1,\n",
       "         'B@DFEHFEGDGGGHGEGHGGGKFGDIGGDGEHGGEGHGHEGEEFGHGIHEHEEHJGFGFHGGHHGHHGHEFFFGJIIGGIFDGGFDGGGFGGGFFFEGGG': 1,\n",
       "         '8@DFEHFFGFGGGFFHEHGIFGGGHIHGHIEHIFHHHFHGHGHFGHGGGGHFGHGGFJFHGGHHIHGGFIEFGGIJFIGFJGGGFGGGHFGEGFIFEKIG': 1,\n",
       "         \"B@DFEEFGGEGGGFFHEHGIFGGGHIFGGEH8HHFAEGFF@HEBGH@GGFEEEHJ8HEFGFFDGCHCG+',BF6,,,4,,+DG>HG3+++*++*+F2*;*\": 1,\n",
       "         'B@:CEBFEGEGGGGFDGHGDGGGGFIFGGFFHGGHEHFHEGFEBGFD9HEDGGHGGFJFFFFE6IHGCHFFG7FFGHHGFCDGGFGGFHFFFGFHCEEID': 1,\n",
       "         'B@DFEHFGAGGGGFFHGAGHIGGGFIFGFFHHIGHGHGFGJHHFGHGIH9HEGHJGFHFHFGHHIHGGHIHHGGGJ?IGIGDGGFGGFFIGGGEFFGGGG': 1,\n",
       "         'B@DFEHFFGFGGGFGGEHGGGEGGHIGGGEFHIHEHHFHGGHHFGHGGGEHDGHJGGHFHGEFFGHGGHFHBGGJEIGGIGKGFHGGFJIGEGFHCCGIE': 1,\n",
       "         \"B@@F06FF1BG@GG/2A1GHDGF@FI@-F5CH::F;C(FFG6EF7H7G&6#D'GAG,HF9A(E6(,GE+6(+,A,66D,5'4GC=D<>4FFBG23<E2?1\": 1,\n",
       "         \"?)7FE+F@87BG6/F25B3A>F/BEI@GGA/H(DB;79B;,B-B76,DHE-D-$AGHE5$87,'(A4)F,>F7,,,,','+>4C$4+4GF2G+'3F22;1\": 1,\n",
       "         'B@DCEFFGGGGGGGFFE<GEF@EBHIFGFAHHHFFGHGHFDCHFGEGFGGHDCHJGEEF9FFFEIFFGFGCFGDCIBGGFCDGCHGGAFDFFADGB?FCG': 1,\n",
       "         'B@DFEEFFGEGGGGGEGHGGGE?@FIFGGGCHGFHDEGHGDGEFGH>FGEHFGHGDAHFFFHEHIHHGHGEGFDCGJIGGGCGGFGGFHIGGGDIFGG;E': 1,\n",
       "         'B@DFEFFFGGGGGFFHGHGGGGGGHIGGGFHHGHHGHFFGHGGFGHGGIFHEGHGGHHFHGEHGGHFGHEHBFC>GEIGFJGGKHGGFHIGFFGFFGCCE': 1,\n",
       "         'B@DFEFFEGHGGGFGHGHGFGGGGFIHGHIHEHGFHDGBEGGEFGHGGHEHGGHGGHHFHAHHGEHGGHIEGFGJIEGGIJDGGFGGFFIEFFDFFEBG@': 1,\n",
       "         'B@DFEHFEGFGGGHGHEHGIGFGGFIFGEEEHFGFGHFHEGGHGGFGFGGHDGHJGEGFGIFEHGHGGH6IFGDFIII=IGGGGHAGFD>GGGFFF?GED': 1,\n",
       "         'B@DFEHFFGEGGGHFHGHGIIGHGHILGGHEEIFHHDFHFGHHFGHGGIEHGGHJGHJFHFHFHIHGGHEHHFGJEIIGGGGGGJGGFD@GFGGHFEKGC': 1,\n",
       "         'B@DFEEFEGEGGGFGFGHGHFGGGHIGGEGEHHEHGHGHFHEEFGHGDHGHEGHGDGGFHFFHGGFFCHFHKGDIGHGGIG>GCF>GFDFEBAGEFGG?G': 1,\n",
       "         '?@DCCDFFBGGGBFFFDHGCGGGGFIGGEEEHIHFDHGEFHGGHGHGDGFCDGHHGGGFGEFHDGHCG5G>FFFCBBGGFFHGGFGGFF@EGAFCF;CG@': 1,\n",
       "         'B@DCCBFEBD6GBFFFGHGHGGFFFI-G=HHAGFFE7BEGG69FGB7DHEHGGHFG(-5HGECDG6AGBGFFEGGE?HDFC4+G+?G4GGF>D;IA*FCG': 1,\n",
       "         '?@DCEDFDGBGGFAFFGAGCFGEEEGEGGEFGBEFGHGH;GCFDDGC4@GH;GEGGHJ6GBH<<G7FEDCFCECFB;GGIDGGKCFFFBFGEF@E5GF29': 1,\n",
       "         'B@DC@BFFGBGGBGEFD<GGFCF4FIG@D9GHGDE;CBGF@FAHGFGDGEHGEEJGFBFDFFHFC6FGFFHF7CDEHIGA4DG>4DGFH>GGG;CFG<C>': 1,\n",
       "         '8@:<DE=DGBG@GA4>AC?AG@3CD>DGE9<EFDBGHBGF@GE9G6GG+ECGGHDGFCBHFFEDEHF=FFE5,G6GE+GD4D@G=434BFDGDD<2CG;@': 1,\n",
       "         'A@@FEDFEGDA@BGFEEHGHF@?@G>FG=FEEFEFABBGEGFCFG6@9D@DGGDGC7HFGAFHGEDFG>CF>DDIE?GGIGHGGHGC>G>@GGFEFGGG9': 1,\n",
       "         '@@DFEEFEGGGGGFGHGHGFFGHGFIHGGHHHHEFEHGHFHGHFGHGIGEHGGHJGGHFGIHHGGHFGHFEBFGJGIIGIJGGKHGGFGFGFGFHCGGEC': 1,\n",
       "         '6@DFEFFEBGGGGFFGEHGIF@FGGIFGEEFHFFHEDGBEGBHHGHGFHEHGGDGGFHFHFFEGEHCGFIGFFFGIFGGIGG4GHGGFJG@EG2FCGCGE': 1,\n",
       "         'B@DFEFFFGEGGGFGHHHGEIGH@FHDGDHEH:HEGHGHEHFGFGHGDHEHEGHJGGHFHGHHGGHHGFIHFFGGGFGGFFDGCHGGFHGGEDFECD:G1': 1,\n",
       "         '8@@<EB=EGDBGBAF>GH?FC@?GHIDGF8<HGGFGHG-EGBH9GHBD@EH97.8@E9FGEBE6EDFGACFFDADG,4GFFDGGF>3>+@2B+@E**<2*': 1,\n",
       "         'B@DFEFFFGHGGGFHHEHGFFGHGHIFGHIHHGFHHHFFGGHHHGHGGGEHFGHJGGHFGGHHHIHGGHIHFFGIJIGGIGGGFFGGGJIGFGGFFGGIE': 1,\n",
       "         'A@@CHEFEGGGGBFFHEHGGGCFGFCGB=FFEFDFEHGHFGDGFGHGGGFHGGHDEHGFDFFHGGFFGFICHGCFGBGAFFHGFHAGFBFGEAGG?D2ED': 1,\n",
       "         'B@DFEHFEGDGGFFGHGHGHFFGGFGEGFEHGHGFHHGHFGCFDDGC@IGHCGHGGHJCGBH<=GEFGHCICECFGCGBFDDGFCFFABIGGFFF6EEE>': 1,\n",
       "         'A@DFEBFEGIGGGG@FDEGEFEGGD>GGGHEHIEB-HBEFGGEFG6>DD8-9DDGGGE5DEFH@ID4=HF>>EGCB?G65FDGGFDGAD@EEGE<CGF?>': 1,\n",
       "         '3@DFFBFDGBGGBDE.HHAIICFB=.FGEAF-FGHEEBBF@HH9GHBFD@8CCAAG7GF98BC@GDCGAG>H?6CJE46IFCCG4+G>B@<BDFC2DE2:': 1,\n",
       "         'B@DFEHFFGGGGGGFHGHGGIGGGHIGGFIEHFHHGCFFGGHHFGHGGHEDGGHJGHHFGEGHEEHFGHFHGFDJEFIGGGHGFFGGFDIGGFEFAGGGE': 1,\n",
       "         'A@DFEHFGGEGGBHFHGHGHIGFBDHGGEIFEFGHGHFHFGFEFGHGDDEHGGEFGEJFHEGHGIEHGBGFHGDFGIH>FC>GCFGCAJFGGG@EF2G?1': 1,\n",
       "         \"B@DFEHFFGDGGGFFH:HGGIGGGFIHDHGHHGEHGCGBEGGHHGHGDHE8EGHHGGHFAGHFE7A4,5,>>EC>IBB,5+4++C:3+'+*4'*3*22E@\": 1,\n",
       "         'B@DFEHFEGGGGBHFHGHGHFGEGHCFGEIHHFGFEHFFGHHEFGCGFGEHEDHGGGHFGEEHHGFFCDFHHGDDIIGGAGDGCHDGFG>EEAEHFECG9': 1,\n",
       "         'B@DFEHFFGFGGGFFHDHGHGGHGFHHGHEHEIHHGHBEEDGHFGHGFGEHGGHHGHGFDGFEHEHGGHGFGGGGI6BGIGGGGHGGFJEFGGFHFGGI>': 1,\n",
       "         'B@DFEFFEGHGCGGGHGHGHFEF8HIGGDFHHGGEEHBIFGGGFGHGFGEHGGEGGGHFGGHHHCHGGAFHDF6JJIIGIJGGFHGGGH3FBGFBFGGG>': 1,\n",
       "         \"A@8<EB0(8BB'66,-5<?A>3F@DID9=8<BG:--D-(.(6'FG6@96,-GG)8(,B(-AF7,I6H6F,6+7CF,IB,D+4+G+43+=3G++;'AC@'1\": 1,\n",
       "         'B82FEHFEGEGGG8FHGHGHGGBGHI@GGHHHGGHGHGHFGHHFGHGGHGHEG>FGFHFGFFHGGHH5FIEDD6JIIGGIJGGGHGGGFIG>DFGFEFID': 1,\n",
       "         'B@DFEHFFGHGGGFFHGHGIFGGFHIGGGIEEHGFGHGHFHGEHGHGIHFHFGDJGFGFHGFHHGHGCHGHGFAJGI4GFFDGCFDGGDFEGFGGFGGEC': 1,\n",
       "         'A@DFEFFFGEDGGFFEGHGHFGGGFIHGDHHHGEFGEGEEGGGFGCGGHEHDGHGGHHFGGDEHGHGGHCEFFGJJBGGGGDGFHGGADEGGJGIFGFEG': 1,\n",
       "         'B@DFEHFFGHGGGFHHHHGDGGGGHIHGHIHHFGFHHFFGHEHFGFGGGEHEGHJGFGFHGHEHIHGGHEHHFGGJFIGGGGEKFGGGGEGHGGEFEGGC': 1,\n",
       "         'B@DFEEFFGEGGGFFHGHGHFGGGHIGGFIHHGHHGHGIGJFHFGHGIGFHGGHJGFJFHGGHGIHGGHEFFGGJJJIGF>HGKFGGFHIGFGEIFGKGE': 1,\n",
       "         'B@DFEFFGGEGGGFFGGHGIIFEGFFGGEFCHGGHGHGBEGEHHGHGGHEHECHHGGEFFFFHGIFFEFGCHFGFEIGGIGDGFFGGF=F2EG2<FGCE1': 1,\n",
       "         'A@DFEE=EBDGGGDFFEBGGGGGFFIFBHEFBFHFGHGFEHF9DGHCEGGHEDHJDFGFF:FG;CBFEF;EC=EIJIGGDFC4C=GGFF@<GAFCBDCCE': 1,\n",
       "         'B@DFEHFFGEGGGHGHGHGIGGGGHCGGFHEHHHFGEFGGHHHFGHGEHFHGDHGDHHFGFGG=IBFGFDECEEJJJGGDFCGFHGGFGIGEGGHFGCGE': 1,\n",
       "         'B@@CEEFDGDDGGAFFGHGAGFHGFILGGGEHGGHHHBEGHECFGHGIHEHEDHDCEBFDEF?EEFFGFGHHFFCBEGGAFDGGCAG>FIG>GGGBEFG1': 1,\n",
       "         '8@@<E6FE8DBGB6+FGC?H>@F4DIF9.A/EB:FG7BEGGDHDG6@DHE8GGAJGHC5FG7EEE6AEHFFH7FD??GG5+D?>FD3FFID4>E+F;*;D': 1,\n",
       "         'B@DFFFFFGEGGGFFHGHGGIGGBEIGGGIHHFDHHHGFFHHHHGHBFHGHFCHHGHGFFGEHGEHBGHEHKGGJEIHGFFDGCFDGFHEDGGFFFGC?E': 1,\n",
       "         'B@DFEEFEGEGGGFFHHHGGFGG@GDGGHIGEFGFGEGFGHHEHG?GFGEHEGHJGHGFDGEFGEHFGDFGBFGJGEGGFIDGFFGGFF>EGGFIFEGI@': 1,\n",
       "         \".@D<E.F@BIG4B64>AE?A13?4=>9-=9/A:-F;C(9(D'-(G,CF6,A-,,,)F3)-F,76E,?,B8,,D,6?)G**C*+>):3++F*44@E22C+'\": 1,\n",
       "         'B@DCEE=@GBG@GGH2EBGADGFC=I9G.-GA:FFH79GEHG9FGCG9DEHCGHDGF9FDE7?DEEHEBGFFDG>EBDGAG4G4FG@+=@EE4;B*;<+C': 1,\n",
       "         'B@5/EDFEBEGGGHEEAHGGD@F@FCFGDEGEFFFEEBBFDCEHGHGI@GHDAHFGFCF9AFEDGCCGDFHHFFGGEBGFGH4CHGGGF@FFG;FB2K?E': 1,\n",
       "         '4@DFEBFFGHGGGHHGGHGIFGHGFIFGGGEHFGFHHGEFGEHFGE@F@EHGGHJGHHFHGEHEEHFEACFGFGIEEIAFGG=CCDGFFEGEGFEF;GCD': 1,\n",
       "         '?@DCEHFFGHGGGGEEGHGCGGFEFIGGEHFH:FFGHGHEGECFGHGIHFDEGHGGHGFHFFHHIHCG>FEGFBGEHGGAFGGGFGEFDFGFGFGFEFEC': 1,\n",
       "         'B@DCEFFGGDBGGGEHEHGAFGFGHFFGGFEHGHFGHFHEHGEFGEDIGGHGGEHEEGFFFFCHGHF6FFCHGDFGIGGIFHGGFDGGGIEBGGHCGFEE': 1,\n",
       "         '?@@FEEFFGIGGBGEFAHGCCCFGFIFGHEHBFHHGHGFEGH9FGHGFGGHEGHJGHEFDGFCGBFCGFFCGDBFJEHG?CG4GCGGF=@<BA@32GF;E': 1,\n",
       "         '@@DFFFFFGFG@GGGEEHGHDCFGFI@GG9H8HFF;HGHFHCEFGCGDHEHGGHG@FHFHFFHGG6CGBFEGFGJGHDGFG44GCG3EBGGEGFGFCGE>': 1,\n",
       "         'B@DFEHFFGHGGGFHHGHGIIGGGHIDGEGEHHGHGHFGFHGHFGHGGGFHGGEJGFJFHGEHHEHHGHIHHGGJIIIGFGHG>FGGFJIGFGGFFEEIG': 1,\n",
       "         'B@DFEHFEGEGGGFFHHHGHFGGGFIGGGGHHGGFGHGGEGDEHGHGGHEHECHGGHHFGEDEGEEFGHFFHEGIGBGGIGGGGHGGEJG@EFDBF;GG@': 1,\n",
       "         '?@DFHBFGGIGGGGEFGHGGFCG@FE@GFGFEBEFGHBHEGGEBGBGFGEHEGHGEFCFDG7DGEHCGFCFHEF>BHD?I>4G4C:GEHFDFD@GACFEG': 1,\n",
       "         '?@DFEBF@BIB@GA@HE<GAG@EG=ILG.AFHFHBG7BHFGEHFGHBDDEHGGAJ8HE@98BHDGHHGHCEK?=GJBGGAFHG+C>CA43GEG;3F?EC1': 1,\n",
       "         'B@DF?HFGGBGGGHGHEHGFFGEFGCFGEEGHFDHHHFHEH6E9G6GFGGHGGEGGECFFEGEHIAFGDGEGEG6JIIGAG>GGHDCFJFGEGEIFEG?E': 1,\n",
       "         \"?@@CHBF@8DBGG6F2A0GI>GE@D>GB=IH8FD8-C9F;76EHGC7F@@H9CEDC79@F8??EEDACBG>5FDF6BB6ICC4KCDCGH>G4>2+2?2+'\": 1,\n",
       "         'B@DFEFFFGHGGGFFHGHGIIGFGHIGGGEHHHHHHHFHFGGHFGHGGIFHGGHGGGHFGGDFFIHFGHIIHFGJJFIGIGHGGHGGFHIGFGFEFEGGG': 1,\n",
       "         '@@DFEF=FGGGGGGGHGHGEGGGGEIDGGAFHFGHGHGHGGFHDIHGGGEHEGHHGEHFGFGDGEHFGHFEHGGFGEGGIGGGKHG3GBEGBGEIFD@GC': 1,\n",
       "         \"@@@FEDFFBE6GGGF>AEGI>GGCEIDGF9FBFHFE79G;7G9FGFGIDEHEA,GGF-+9GE76,?4(>C6'7C6GF4=5>4+>+4+AD+2++D+2C2CD\": 1,\n",
       "         'B@DFEEFEGGGGGHGHEHGGGEFGFIFGEGEHIHFHHGFFGEGBGHGDGEHEGHJGHEFHGHHGIFG=HFFFGGJJIGGFGDC>FGGFJGGEGGHFEKG1': 1,\n",
       "         'B@DFEHFFGEGGGFFHEHGIGGGGHIGGGIFHGHHGHFIGHGEFGHGFGGHFGHGGGJFHGDHFIHFGHEHFFGJIJHGIGDGGFDGEGIGFFGIFEGEC': 1,\n",
       "         \"B@@C@H=@87DGFAEHEA?AGG3@=/.G=FH7:-B;H-BG+C+DDG1@6GD;5HGDEECGB?:7GE;=H4FC:C2E2>GDD4G4+*FEBFF4F;+5?<;'\": 1,\n",
       "         '?8DC@DF@BEBGGA@>GHGAFF?@GIDGEECHF-FEE9BEGGCBGHDDD8AD@HJGEEBDGBDGEC?CHF>>GCG6FDG,GHGFHAEAG>@GGEBF*22G': 1,\n",
       "         'B@DFEHFEGEGGGHFHHHGAIGGBFFDGDGFHFGFHHGGE7GHBGE@FGEHEGDJ8HHFGG?HFGDFGFEIGDGJGIGGAGDGGF?GEFEGHGFEFDEI9': 1,\n",
       "         '@@DFEFFEGEGGGFFHEHGIFGGGHIGGHEEHHHHHHGFEGFEHGHGGGFHGGHJGFJFHGDHGEHFGHIIGFGIEHHGFGHGGFGGFH@GBGGFFGCIC': 1,\n",
       "         '?@DFEBF@BBG@BAE)5<?H>@3@F09G=G/8BFF-799EGGEFGH>9GEH9788,7BFGGHHGGH4E5,65EGF66+>?>D@4H4=4=3G+>FE?E<?1': 1,\n",
       "         '@@DFEHFFGHGGGFGHGHGGFGFGHIGGGIFHGGHGHFHGGHEFGHGIGFHGGHJGFHFHGDHGEHGGHIFFFGIGFGGIFGGGHGGGJIGFJGFFEGI@': 1,\n",
       "         'B@DFEFFEGFGGGGEFGHGAFGFGHIFGGGEHHHFEHGHFDDHDGHGGHFHEGHGGFGFGFFFEIHGEHIC>EGFEIGGIGGGFFAGFFIDBAFFFEEG>': 1,\n",
       "         'B@DFEHFFGHGGGFFHGHGIGGHGFIGGFHEHHHFGHFHGG6EFGHGFGFHGGHJGGHFHIHHHIHGGHFFKFGJJFIGIJGGGJGGFJIGGGFIFGKGD': 1,\n",
       "         'B@DFEFFFGGGGGFGEGHGIIGGGGIFGFGEHGHFGHFHGHHHHGFG9HGHFGHGGFJFHGGHGGHHGHFEFGGJJFGGFJGGGHGGEHIGEGDFFG@E>': 1,\n",
       "         '?@DCEDFEGIGGGFGHGHGHIGGGFIGGEHEHHGFGHFEEGCCHGHGDHEHEGHFGFHFHIDHFEHCGHFHFEGGGIGGICGCGFD3FLFGGGGGFGFEE': 1,\n",
       "         'B@DFEFFFGIGGGGFHGHGFFFFGFIGGFGEHGGEHHFFGHGGHGHGFGEHEGDGGFJFDGGHFIHFGFEIHFGJEHIGIFGGFFGGFHIGEGFFFGFID': 1,\n",
       "         'B@DFEHFEGGGGGFGGGHGFFGHGGIHGDHHEGHHHHFHGGGCFGHGFGEH9AGDGEHFHIFEEEFFC>?F>?GIGBGBIFDGFFG=FGEGEAGGFGCG>': 1,\n",
       "         'B@DFEDFFGHBGGHFEGHGFGFHGHILGGHHHHGHGHFHEGGEHGHGGGFHGGDJGF9FHGFEGGHGGFE>FFDFJEDGAGDGGHGGFHIEFJFECGFID': 1,\n",
       "         '?@@CEHFFGGDGGGG>ABGHF@GGGI@GGAFH:EFEHBHFJBC97FCFDGHDAGAEGHFDFDHH,6GE>CFBFGJJJDGDFD?CHAGAD3F4AD<FGFIE': 1,\n",
       "         \"B@:<CD=GBE6GGFF>AH?A>F3@FED9.ECAF:8-EBFEG6GDGC79DEA-@8H,A9=9AFHDCD+E+6,F7,C66+,D+C+4+'GA=+D'GD'A*2I1\": 1,\n",
       "         'B@DFFHFFGEGGGGGEHHGIGEFGHIGGGIEHHHHGHBHGGGGFGHGFHFHEGHHGHGFHIGEGGHFGHGFFEGGIEIGIGHGCHGGGHEFFGEIFGEED': 1,\n",
       "         '@@DFEEFFGHGGGFHHHHGGFGGGHIFGGGFHFGFDHFHGHGH(GHGIGFHFGHJGHCFHIHHGIHFGHGIFFCIIIGGIJGGGJGGAGIGFJGFFGEEG': 1,\n",
       "         'B@DFEFFEGEGGGFFEGHGFIGFBFIFGHEEHGGHHHFHE@GEF@HGGGEHEGHJGHGFGEHHG7HFGFCFFFGGGIGGGGGCGHGGAFDFGGGI9DGGE': 1,\n",
       "         'B@DFEFFEGEGGGFGHGHGHGGFGHIFGGGHEGHHGHFHFHGEFGFGFGGDEGHFGHHFFIFHGGFFE+FFFEGCGIGGFGDGGFACFDG<GAEGCGCIC': 1,\n",
       "         '@@DCEBFFBIDGGFFFAHGIFFGGFDGGEEHHHGHAHFHEGHGDGHGFHEEEGHGGFHFGGDDDGEAGFGF>FGIBFDGIFGGGHDG>JEEFGFHFEKE1': 1,\n",
       "         'B@DFEFFFGIGGGHFFEHGGIGGEFIFGGGHEFHEGHFIEGHCHGHGFGEHGE8JGFHFFGHHGGEFGFICHFG>IFGGFGHGCJGGFGIGFGDEFEGIE': 1,\n",
       "         '@@DFHH=EGBB@BAFFAHG4>EF@DIFGGFHBFEFGHFBEDEG97HGFGEHDGHFEFEFFG?FDECF=>?E5E6FEE>G?G>EG=4GAB+<FA2GF?@C@': 1,\n",
       "         '?@DFEBFEBDAGBHFEGHGADEGBDIG?EAEHBEEEHGFFHBC9GBG-HFHGGHFGFHFF8D?GCFA=5C,FFAFB?GGIFHG>FD@FDFDBA@CF?CC1': 1,\n",
       "         '?@DFHHFFBDGGGFGEGHGEFGFGEFHGHACEBHHHEFIGGEAD@HGIDEHEGHFGHEFHIHHGEFCGFGFFFDGEEIGGFHGCF=GEDIGGG@HFDGEG': 1,\n",
       "         \"B@@F@B=3BE6@GA@HAHGADCGGE>D@.9FB.DF-7GHG7B9H?HGFH,EDEAJ8H9FHGF7DEHG6'FC5FGCGBG6?4CGCF:GA4I24G2B<?<;1\": 1,\n",
       "         \"A@DFEEFEBGGGBGFFGHGGDGGGDFGG.FFHBFEAC(GFGCE-G?DF6,CD-AFGHHIDF,C@,DHG+F,D?CD,,4GI'D+444C+G324+*3*22+1\": 1,\n",
       "         '?@DC@FFEG8GGGFFH:H?HDCGGHIGDHFCBBFFGHFGFGGCFGHGGHFHEGHAGFHFHGHCFEHFGFFEG?GIJIIGFGDGGHDGABFDBGFFFGGEC': 1,\n",
       "         'A@D:EHF@GGGGGFHHHHGHDGGGHFFGEEGHFEFEHFIEGGC:GBGFG9HGGHFGHEFGFHHFEHHGHFEDDCF;IGGFGGCFFGGAHFEFGFFFGEEC': 1,\n",
       "         '@@DFFDFFGEGGGGGHGHGHDE3GGIGGHAFAGGEGEGHGHDCFGEGDGGHEGDFGEHFHGD?EEFFGFIGGFGFJIIDFCDCG=DGFFGGBGF<FEG+G': 1,\n",
       "         'B@DFEFFFGFGGGGGHGHGGGGGGHIFGGEFHIGFGHFFEGGHFGEGGHEHEGHGGFHFHFHHHIHFGHIFKGGJIIGGFJGGG=GGFFIGFGFFFGEE9': 1,\n",
       "         'B@@FEBFEGEGGGHGEHHGFFEFGGIDGDHEEB-HHHFEEGFGFGHGFHEHEGDHGFHFHGHHFEAGGFIHGGGFEFHGIJDGGHGGFGFGGF@IFGCIC': 1,\n",
       "         'B@DFEEFFGEGGGFHHEHGIFGGGFIGGEEHHHDHHHFHEGGHFGHGFGEHGEDJGHHFHGHHFGHGGFIHFGGFJIGGIFHGGH:GGHIGGFGIFGGIE': 1,\n",
       "         \"@@@FFFFGBH6@GAFHAH?HC@?@=I99GH<8FF8GH9B;@BCFGHCD@EDDGHJ@GGFHG??EEAACA6I>FGJEIHGD>44CJ>@E+D2B>E<F2'G1\": 1,\n",
       "         'B@DFEFFFGDGGGHGHGHGHGGGGFIFGDHHHGGFGHFHGGDCFGHGFGFHEGHJGGEFHGFHFEHFGHIIKFGJGIIGIFHGGCGCFDIGGFFIFGFE@': 1,\n",
       "         '?@DFHHFGGGGGGFF>EHGAF@?GFIDB=EHAFFFGDGHEGHE9GH@DHGH97AF87BFFAGEFECG=FG>DEGFBB>GACCGCCG=E4>E>D*B*DGGD': 1,\n",
       "         'A@DFEFFFGGGGGFFEGHGHFGGGHIFGFHEEGGHGHGHEGCHDGHGFGEHGGHJGHGFGGDHHEFFEFEEHFGGGHIGGCDGGFGGFGFDFG@HFGGIE': 1,\n",
       "         'B@DFEFFGGFGG;FGGGHGGFKFGHIFGFEEHGGHHHFHGHHHHGHGGGEHGGHHGFGFHI=HHEHHGHIIHGGJIFGGIGGGKHGGFD8DEJCIFGKI4': 1,\n",
       "         'B@DFFFFEGEGG>HFEHHGIGFFGFIFG=GHHHGFGCGBG@GHFGHGIHEHEGDHGGBFGF=DFGAFGHFHHFG>GHIGFG>GGFGGF4E7GDCHFEEIB': 1,\n",
       "         'A@DFHBFEGIGG6DGHHHGIGG?GHIFGFGFHBGFHCGHEGEHHGHGGD@HEGHFGEHFDF=HFIHFGHGFHGDGIEIGGGHGGFGCFBEDGGCHCGGEB': 1,\n",
       "         \"B@DCEFFGGDBGGHGEEHGHGFFGHIGGEGCHBFHHHGH;HEEF@HGGG@HEGHGGHGFHGHEDGFCGHEFBFGFJIIGIJDGFHDGFDE@BGGGAE=G'\": 1,\n",
       "         '@@DFEEFEGEGGGGFFGHGFGGG@FFFGEGFHBGFGC9HEHFEFGBGDGEHGGHFEHCFFGFDEEFH=FCEDDGGEEG>?FDG>HGCGF@GBD;FFG2?D': 1,\n",
       "         'B@DFEFFFGEGGGAGFHHGHGCGGEIFGGGFHFGFEHGGEHGEFGFGFDEHEGHGGFGFGGHEHGDFEF6FFGCDGHIGIFGEGFAG4B>GGD@HCDC;E': 1,\n",
       "         \"?@@CEHFDBI6GGD@EGHGED@GGFI@GHFEHFFFDH9EFDC9HGEGGGE89C8HEA9@AFHEDGH?CD6>5E,C664,?G4+4HG++++G++'3*2E;*\": 1,\n",
       "         \"@@:CDHF@BEG@GFGHAHGH>)G4=>9G=F/BF(F(799.(C99G6@'+@-CAH8GH(5-E7,6,D46D6C+76,E6+B?'44CF+'+='2B+'<**2+*\": 1,\n",
       "         '?@DCEB=EBIDGBGFFGHGEIEFBFIGGHHFE:FFHH9FEGHEFGEBIGFDECEDGHHF98H?GEDACF?EHEGGBIIGIJHGKHGEEG@GGADECDFG1': 1,\n",
       "         '88:C36=@8BBGG*@>AHGAC@3@=IFG=9<-I:8D7B9.7CC9@6@FG@-G-EH?A9F9A7DGB,FE5F,F?FDGIIG,4HG+4G34=+24A2+A*F;>': 1,\n",
       "         'B@DFEEFEGFGGGHGHGHGHFEGGHIHGFHFHHGFHHGHGGFHHGHGIGEHGCHFGGHFHGHHGIHFGHFEBGDJGFGGIFGGGHCGFDIGGGFGFGECE': 1,\n",
       "         \"B@DFEFFFGFGGBGFHDHGHGGFGHIFGEFCHGFFH7GHEGFGFGC>GH@HDGDFGG959GGDEE64CBF6B?B,BI>?5>>?'4+GA'D24A@+2*<+*\": 1,\n",
       "         'B@DFEHFFGHGGGGGHGHGGGGGEHIHGFIEHFFEGHFHEGGHHGHGIGEHFGHJGHGFFFGHFIHHGHEFFEGIJFDGIJGGGHGGGHFGEGEIFGFGG': 1,\n",
       "         'B<AFEFFEGEGGG2GHGHGIFKBGFIFGGEEHGHFHHGFGJGHFGHGFGEHGG>JGFJFGGHHHIHG5HGGFFGFJIHGFGGGGHGGFHGGGGGEFGGIE': 1,\n",
       "         '?@D<EE=@8IDGGAFFEH?H>@?4DIFGEFH8HD8AHFHEG6AFGFD9@E8E7GF@FGFHFFHGE64=5F6KFC>B?HG,FDG4C4GF4+D4DFEBGG+*': 1,\n",
       "         '8@:;EE=E8D6GGF@>EHGE>@FBDC9?=FCB:-FE?B9E@CA-@H7-6EHD7HJCF9FDGGCGECFEDCCF7,C?BGG?C>4>C>GFFD*>42GF;G?1': 1,\n",
       "         '@@DFEHFFGGGGGFGHGHGIIKGGHIGGGIEEGGFHHFGEHGHFGHGGHFHFGHGGFHFGGDHGIHHGHFHGFGJJJIGGJGGKFGGFGIFHGGFFEGIG': 1,\n",
       "         'B@DCEFF@GBGGGGFE5BGHGFF@=0F-HEH8FFFGCB9E@CHFG?DD68AC@E8GA9FDEFHDEEFCDGED7G>?,HGDFDGGFDCE=F2FD@BF?<?1': 1,\n",
       "         'A@@FDBFEGFGGGDGGGHGHG@GGFIHGFAEHGEFGHF9EHHEHGFGGIEHEGHJGEGBDGFHEIFHEHIFG,CJGIGGICGG4FGEFFG*4>2CFGEIC': 1,\n",
       "         'B@DFEHFEGGGGGGEHGHGHIGFGFIGGGIEEGGFGHFHGHGGFGHGGGFHFGHGGFGFHFDHGGHGGHIEHFGGGIHGIGHGGFGGGJIFGGFFFGGIE': 1,\n",
       "         '?@@FFEFEGDGGGAFEABGCCEG@=IGGEIGHFHF;E9-F@CCBGECF@EHECADGFEFGFFCDBCCGBICDDBJJBIGG4D4GF?3FDF2GAFEF;2EE': 1,\n",
       "         '?@DCHFFE8BGGGD@2GHGCIGGFDI@G=A<H::8;H-E.GCAFIF@9@@HC@H,CGBFHG77HEE4=F?657,JBI>6IJ>4444=G+32+4DG2G*+>': 1,\n",
       "         \"B@DF@BF3GGB@GFFEEBGAFCG@HDFB.AHH:GFH799E76-F7(G-(8C9-?,@7(=-(77H,,A6+,,H,,6J,+A,G44GF?E4GEG++'+22*I*\": 1,\n",
       "         'B@DFEHFEGGGGGFFHEHGHIGHGFIGGEIFHGHFGHFHGHFHFGHGGHEHEGHJGHJFGGHDFEHAGHGEKFGGGIGGIGGGFFGGFHIGGGGEFDGGG': 1,\n",
       "         'B@DFEHFFGFGGGHFHGHGIFGHGHILGGEEHHFHHEGHGHGHFGHGFGFHGGHJGFHFGIGFGGHBGFEFGGGJJFIGIGGGKJGGFLIGEFGFFEGIC': 1,\n",
       "         '@@DFEDFEGGGGGHGEEHGGFEFGHIFGGEFHHFFHEFHFGCHFGHGFGEHFGHFGGHFHGDHFIHBGFFFDEGJIFHGFJGGGFGGGJFEGGDFFEKEG': 1,\n",
       "         'B@@FEFFGGBB@BFFEEHGAGGGBFDFG=9FHFGFDBBFFGCGFGFCFGFDGDHF?7CFDAGC@EFGEFG>H?F>GEDGDFGGCHDGEJFG>DFBF?C?9': 1,\n",
       "         'A@DC?EFEGBG4BHGEDH?AG@?@FDDGEECEFDEDDFGEHDHFGBGDG@EEGHHGEGFHFHHDEEG6FFH5EGFJ?DGIFCGGCGG4JIGEGFGF?GGE': 1,\n",
       "         'B@DFEHFFGHGGGHHHGHGHIGHGHIFGHFHHGFHHHGHEHHHFGHGGGEHGGHGGFJFGGHHHIHGGHEIGGGJJFIGIGHGGHGGGGIGGFGFFGGIE': 1,\n",
       "         '@@@F@FFGGEGGGDGHEHGGGEGGFFGGGEHHGHFGHGHEGGHFGEGFGFHEGHFGEEFHGGHHIHFGFFI>GGFGIGGFFDCGHGCGFFEGAGIFGGE9': 1,\n",
       "         'B@DFEFFFGHGGGFHGGHGGIGFGFIHGGIEHGEHHHGHEGHHHGHGGGEHGGHHGHJFHGDHGIHGGFGFHGGFGHIGG>GGGCGGGBIFEGGECGKGE': 1,\n",
       "         '?@:<HB=E8I+GGG@GAAGAD@?B=EFG=ACB:DFHHGHE@BGHG6GF6EHE@HDGA-F-AF7DE,4CHFHH7=,GH4$54>G+4>=AH@G4G2BF2*E9': 1,\n",
       "         '@@DCEDFEGBDGBGGHAHGCGEFEDCDGHEEHG:HGHFG;@DCHGHGFHEHDGGGEH9FFFE<D7DGGGG;>GD>EIIG5CDE4FG3F43DH>DGFCGED': 1,\n",
       "         'B@DFEFFEGGGGGFGHGHGGIGGGHI@GDFHHIEHDHBEEDCGHGHGFGEHGGHJGHGFHFDHGEFHGHGEGFDJIJGAIFGGCFGCFFIGGGEI<CEG9': 1,\n",
       "         '?@DFEEFEGEGGGF@GEHGHFGGGHDGGFFEEGEHGHFGEGGCHGHGFHGHFGHJGFJFFGFHHEHFGFFFHDGDJIHGFFHGCFGEFFFGBGFHFGGCD': 1,\n",
       "         'A@DCEHFEGF<GGFFHGHGHFGGGGIGGHEHHGFFGHGEEHHHF@HGGHGHFGHJGEHFHGHHFGHFGHIHFGGIEEGGGGGGGHGGFGIGEGFIFGKGE': 1,\n",
       "         'B@DFEEF@GGDGGHFEGHGHFGFEHIGGHFEHIFFHHFIEGHEFGFGDGEHEGHHGFGFFGHHGIHFGHFFKGDJIIGGGFDGGFGGEGIGFGFHF?EI9': 1,\n",
       "         '8@@FDB=@BF6@GFF>GB?FDEF4DH@B=9FABDHAH9B.GCA9@CB968GG-HHG7B+AF7F@IA?6D6,BFDCG?GGICKC>HGG4B@2+4FI?2>IC': 1,\n",
       "         'B@DFEHFFGGGGGHFHGHGGGGGGFIGGDHEHIFHHHBFEHGEFGHGIGFHGGHJGGJFHGDFHGHFEHGIDGGGJEIGIGGGFHGGFHIEEGFFFEEIG': 1,\n",
       "         'B@DFEEFDBDGGGDGHGHGGGGGGHDGBDEFHGGFHHGFEDFHFGHGGHEHECEGDFEFGGGFGIHFGHFFFDGGIEGGDIGGCFGCEFIDGGD<FCEGG': 1,\n",
       "         'B@DFEHFFGDGGGGGEHHGIFGGFFIGGG5EHGHHGHGFGGGAFGFGDHEHGG<JGHGFHGHDFIFFGHGHGFGJIIGGDGHGGHDGGHIGEGGFFECE@': 1,\n",
       "         'B@DFEHFFGEGGGFGHEHGGFGFGDIDGDEHHGEFEHBFEDFGGGHGGHEEGGHJGHGFHGHHFGH?GFCHHFGFJIGGFGCCGHG@FGIGFDGIFDGGD': 1,\n",
       "         'B@8CEF7FGFGDGF:7GHGHGGFGHIHGG3EHFGHHHGHEGGHFGHGGGEHEE?HGHJFHGGFGIHGGFFIGFGJJIIGFGGGGFGGEJFGGGGGFCKIG': 1,\n",
       "         'B@@:EH=EGGGDGF7?GHGHIGGGHIHGFBEHGGEHHFHFHGHHGHGFGEHFG?HGGJFGGHHFIHHGHGFHFGJJJIGIGHGGHGGFGGGGGGECEEIG': 1,\n",
       "         'B@DFEHFFGGGGGFGHGHGHGGGGHIGGFGEHGGFGDFHGGEHFGHGGGFHGGHJEFCFHGHEFBHGGHIIFGGIEIGGIGGGGHGGGFIGEGGEFGCGG': 1,\n",
       "         'A@DFEBFGGDGGGFFHHHGGGEFGHCHGHHEHIFFGHFHFHGHFG@GFGEHGGHFGFGFHGEEFGDFCBCI>GBFEID6IJDGCFGGFHE2EG@EFEFIE': 1,\n",
       "         'B@DFEEFEBIGGGGGHGBGFGGFGDHGGHHEHFEFEHFHGGFE9GHGDGEHEADHGHHFGGDHDEEFCAFHHFFDJ?HGFFDCGFDGF4FEEGG<F?G?E': 1,\n",
       "         'B@DFEHFFGGGGGFGHGHGIGGHGFIGGEEFEFHHHHGHGJHEFGHGFHFHFGHJGFGFGIFHFIHHGHGFFFGFIFIGIFHGGCGGFGFGFGG<C?G?G': 1,\n",
       "         \"?@@CDD)@B7GGGGFEA<GG>EF@F>DGEFCEBGFHCFB;GC9(7?>DD8EEGEF,A9BDA7(@%,4=+,,>,G6?,'B,'4?4+4G4++2E4*+FG*21\": 1,\n",
       "         '@@DFEFFFGGGGGFGHGHGHIGGGHIFGGIFHFHHGH--;7,99,,796E8DG,AG7H+9F?,,E64G5665,G6,64GIJD+4+++4+@<+A*F*2*E1': 1,\n",
       "         '8@@CHEF@GBGGG64GEH?A>@?@=>F-=-<8:-BHH99E,GE-G?7-+G8C7HG,7H+A-,76E6+6+6F5GD6,,4,5++444+3+++*++2<F22GC': 1,\n",
       "         'B@DFEFFFGHGGGFGHGHGIFGGGH>FGGGFHHGFGEFHEHGHFGHGGHEHGGHDGGHFFGFDGGFGEHGFHGGJGIIG?GHCCHGEFHIGGGGCCGKG*': 1,\n",
       "         \"?@@FEDFEGDGGGGFEEHGFDEGGFDFGG9FABEFDDGHFG69B76G-GFH9D8G+7BFDFBG)EBF,5)6/8EF',+=D+8=C+4GA4D*4>'3'?2'9\": 1,\n",
       "         '8@DF@FFF8DGGGHFFGH3IGEFCFIFGFGEHIEHEHG-FD,HHGEGFG@8DDHHCHEFFFBHEEDGGHECGFBD?HG6AJCGC4DGFHFGGDEHC?EG>': 1,\n",
       "         'B@@FEFFFGBGGGGEDHHGIIFFBD>-GDFCHGFBDB9GEDFEHG6@FH@>DDEDGFHFHA7HFEFFGBGCDGBFGHIGDGGGGCDGAGGGEDFE<CEIE': 1,\n",
       "         '@@@FEEFDGDGGGHEFEH?HFEHGHIGGHFFHHHEGHFIEGCCF7FGFG8HGDDJGFGFHGGH@GHFCHGCFFGDEHHGAFHG>FAGF=EFGGFBFGEIC': 1,\n",
       "         'A@DFEHFEGDGGGHGFGHGHGGGGGI9GGGEHHEF;H9HEDCHDGFGF6GEEGHJGHHFFEFEGEHCEDFCHGFJII>GFFDGG=GCEBGGGGGEFDCE9': 1,\n",
       "         \"B@DAEFFEGIBGGGFDHHGHGFGGHIGGFIHHFGF;EG9EH6HFGHGFGEHEGHDGEHFGEDHGGHFGAF>FGGGGEHGIGDGGFGGFLIGBD'IFE@C9\": 1,\n",
       "         \"?@D<DE=@BG6GBAG>AH?AGFECDI@@E9<8FDH;H-G;7ECFGBGFH@A9DGGC7-F9-E,GC,C,'6>'E6F'?+,D'44CC4G>43*4A*<22C?'\": 1,\n",
       "         \"B@:<DBFDG76GB6@>A<GA>@?4=F--GA<8FF-;H9-E@FE9GH,D68DE7AAGABF9AEC6IF4E56E5?G,6,B65FH44H+GA4>FG+2+?G<?'\": 1,\n",
       "         'B@DFEFFFGGGGGFFHGHGGGKGGHIGGGGEHGHHHHGHFHGHHGHGG@EHEGHJGHHFHGGHHGHGGHGIHFGJGIGGIFGGFFGGAGFGGFGIFEEI@': 1,\n",
       "         '@@DFEBFFGGGGGHFHDHGHDGGGHIGGEEFHFHFHHF9EGFCDGHGIGEHGGEGGEHFHFFFGGFFGHFFBFGFE6GGIFDGGFDGGFFEEGFBF2<IG': 1,\n",
       "         '8@DFFFFGBDDGGHFHEHGHGGFFFIFGFIEHHDFH?GHGHDHFGHGGHGHEGHGGFGFGGEHFEFFG?@E:GGFEGGGFFDGCFGGFHFGGGFFCGKG9': 1,\n",
       "         'B@DFFHFEBEGGGFGFAFGFFFGFFIFGHGFEGFEEHGBFHHHFIHGDH@HDGHACEEFFFGHFEDFGD@E7FGFGGGGAGDGFFGGGBEGEA2FCGFEE': 1,\n",
       "         '?@DFEEFEGDGG:F@HGHGFFGFGFIFGHIFEHGHHEGHGGEHHGHGGHFDEGHFGHHFHE=HGIFGGHIFFFFIEIHGICGGKFDGEDEDGG)CAGFEB': 1,\n",
       "         '?@:FEBFEGEBGGGEEEHGG>GGEG>DGDE<HBGEDHFHEGFEHGFGGHEHDGEJGGHFGGGEDIHCGHGH+GGDGIG>FCH4GCDEFGFGGAEHCECG@': 1,\n",
       "         'B@DFEFFFGFGGGHFHGHGIIGFGHIGGGHFHIHEGHFFGHHHFGHGIGEHEGHHGHGFGGHHGGHGGHFIHGGJGFIGIFGGGHGGGJEGFGFIFGKGE': 1,\n",
       "         'B7AFEEFGGGGGG8FHEHGGIK6GFCFGGIHHGEFHCGHEGHEFGH@FGEHGG>HGFJFHGHHGEHF2HGHFGDIJBGGFGCGGHDGFGEGGDGBFG2G1': 1,\n",
       "         'A<AFEFFEGEGGG8FHGHGGFG7GFIFGFIHHHGHHHGHGDDHFGHGGHEHEG>HGGGFHFHHFGEG2HGEFGGJJIIGIGGGGHGGGGIGGDF<FGKIE': 1,\n",
       "         \"B@DF@0:FGGG>G:*>5<G/G3EFE793)(,D-G*CH9BB''-F/B,-+E-9-88C7$=(87CG,A4G>?6BE,,?'4A,'4'44+3'+@&+42'**<;1\": 1,\n",
       "         'B@DFEHFFGDGGGFGHGHGFIGHGHIFGGGFHGCFGHFGFHGHFGHGGG@HDGHFGFEFHEGHHEHFGHGHBFGIGIIGGGDGFCGGGHFGGAEC<?EIC': 1,\n",
       "         'B@DFEHFEGHGGGAFHEHGHGGFGGFFGDFEHFHHDHGIGGGHFGEGFGGHGGHFGHCFFGDHGGDFCHCHGF=JGFIGGCHGGHGGFFF@>GFHCGEGD': 1,\n",
       "         '6@DFHBFFGBBGBAFFEHGAFGG@=C@@=FEAF:F;HFEED6C976,FG@-CDEACECFGADEEEH?GF?6DDBFEBGGF>C?CCA@>FID44F<F;C2@': 1,\n",
       "         '4@DFE:FEBDGGGGFEGHGFIEFGHFFGHGEHGHFAHGH;GFCDGHGDGEHE8DHGGB9GGHHFCDCGHE>3DGIGBGGBFAFGCGGFGFGGGECFCKGG': 1,\n",
       "         'B@DFEEFGGGGGGHFHGHGGGKGGHIHGEEHHHHHHHGHEGGEFGHGGGEHGGHFGHHFHIHHFIHHGHEEHGGJIIHGIIHCGFGGFJIGGJGFBEGIE': 1,\n",
       "         '?@DCFFFEGDGGGHFFGHGHGGFGFIFB=EFHFGFHHBHF@GHFGHBDGEHECHHGFCFDFHHHEHGGDC>DFGJE?GGFJ>GGHGGABIGBDEEAGEG@': 1,\n",
       "         '8@DFEEFEGIDGGFEHAHGEGEGGFC@GFFEHBGFG?GE;GCHHG6G9GEHDGAGGFEFHAE7EEHFGFCIBECGBIGGFC>GCFDGFBFGFGEEBDG2*': 1,\n",
       "         '?@2:EB,FBBB1BF;7EB?4DC?@F>9BE8HB:FFG799F7,9-,?>FD@DGG0,8EBF9GEFGG64EH?C5E,6?,4GAF+4GH4=E=3GEA@3BGK;E': 1,\n",
       "         'B@6CEH:FGHGDGH@#HHGIGGGGHILGGBFHGHFHHFHEGGGFGHGGIFHGG?HGGHFGGHHFIHGGHIIFFGJIIGGIFHGFHGGGGIGFGGHFGKGE': 1,\n",
       "         '@@@CEE7EGEG6GG@1HHGIGGGGDIDGG8EHGDHGDGBG@GEFGFGGHFHEG?GGEBFHFDHGGHFGBFEFEGGJIGGI>D@CCGGFGIG4GG3CGC;G': 1,\n",
       "         '@@D1HBFEBHBGBDEEGH?IICEB=C@GGGEHBHFHBFGFGH-AGHGFG9HGDEACF9FAFGFEBAH65I>5GBJ56IGAFDGCHDG4=FGG>D+F;*;1': 1,\n",
       "         'B@DFEFFFGGGGGFGHEHGIFGGGHIFGDAHHHGEAHBHEDDHHGHGGGGHEGHGGGHFGEH?GEFCGHIHFFFJIIIGIGDGGFGCEDIGEAFHFGGGD': 1,\n",
       "         \"?@DC8BFF,7A4GA@FA<G4>@?@GIG-=EGAFFFAHGG.76EDG6G9@E>9A8F?AEFA8B,@(D4=+FC+FG>?6G,D4++4+DG443*'+D<F*'''\": 1,\n",
       "         'B@DFEFFEGEGGBGEEGHGIGEFBFHDGEHEHGGBGHBHEGGEHGFGDH@HEGGGGHCFFIFHGBEGGFCHGECGBHIAIGDGGF?@FH+GGGEC<GG;D': 1,\n",
       "         'B@DFEFFEGEGGGFGHGHGIIGGGFIHGFHFHGCHEHGHEDHHFGHGGHFHGGHJGFGFHGHHGGHGGFFIBGGFEIGGIGGGGHGGEDFEEGFI<GEIG': 1,\n",
       "         'B@DFEHFFGHDGGFHHGHGIGGGGHILGHIHHHFFGHFHGHGEFGHGGHFHGGHGGFJFGGHHGEHGGHEIFGGJGIIGIGGGGFGGGDIGHGGHFGGIC': 1,\n",
       "         'B@DFEHFEGFGGGFFHAHGHGG?GGFFGFEEBHEFECGBEGEEHGFGIGGHGGHJGHCFFGFEHEHCGFFHDFGGIBIGI>HGFFGGFFIGEDGGFCE;E': 1,\n",
       "         'B@DFEFFFGHGG>FGHGHGIGGGGHIGGGIHHFGFGHFHGHFEFGHGGHEHGGHJGFJFHG=FFGEFGFIIDGGJIIIGIFGGKFDGFHEDGDCEFEC?B': 1,\n",
       "         \"B@@CDB/@B7B@BFEFAC3E1@?GD>@9E-<HG:F;,BH;76A(IB79@@---H,,F9+D-?E@(6A65$,F?,>'?'=FC>4>4+=>4+&4>23*22+*\": 1,\n",
       "         '8@DFE;9@8IG5G=C>EBGB>F?GG89?6F4$7D2CBFE86CAH;EGGD8EDGE8GAEFGEFD@CAF,F6C5DGFG?GGA4HG4F4CFF@DHD@+92GE>': 1,\n",
       "         '@@DFEFFFGGGGGFFHGHGIFKHGHIGGGGFHGHEHHFEFGFGFGHGGGGHFGHDGFHFGIGHGIHHCHEFGFGGJFIGIGKGGFGGGGIGFJEEFGGEG': 1,\n",
       "         '?@DFCFFFGDGGGFFHGHGHGKGGFI@GGEEHHEFHHBEFG6EF,HGGGFHEDHGGGHFDGGEHGHFGFCEBFCJEEIGAGDGCCDCFFIGEGDEF2EE>': 1,\n",
       "         'B@@CCEFEBIGGBDEHE<GAG@GEFI9GEFGHH:FGEB9EH6EHGHGFGEHDGHFCEGFFFFE@7HCEFCCDGFFJEGGFG4GKFG@AFFGBAGFF;GG9': 1,\n",
       "         'B@:BEHFFGGGGGFGFGHGHGGGGGIDGGEFHGGHHDFHEGGGHGHGDHEHEGGFGAGFHFBEGEHHEFFHFGAFGFHGFG4GGFDGFBGDE>FIFEFEC': 1,\n",
       "         '?@DFDBFFGHB@GDEGABGACE?GH>GGEEFEFEBGHGEEGBCHGHGDH8HDAEGGGHFDGG?GICGGHGCHFGFEIIGDCDGC=DGEDFFEDFB2C229': 1,\n",
       "         '?@@CEBFEGEBCGFFHHH?C>@G10>FGHACH::HEHFEEGFCH@?GD@EHEGAHGGEFDF?E@BH+=FCE>?DDG?G6F>DG44D=GBFEFD@3AGGC9': 1,\n",
       "         'B@DFEFFEGEGG;FFEGHGGFGGGHIHGGHEHIHHGHGIEHGEFGEGFHFDEGHJGFHFGG=HDEHGCHGIHFDFGEGGIF4GGFDGFGEDEFCHF2EG4': 1,\n",
       "         'B@DCEDFEGEGGGGFGGHGHGGGGFIGGEGCHIGBHHBBED6EFGFGFGEHEGHJGHEFGGEEFEH?GFEHFFBDEHDGAFHGKHDCE=FEGFGGF2EE9': 1,\n",
       "         '?@DCHFFEGEGGGFF:GHGHGEGGHIFGDHHHHFFHEF9EGGEFGHGFGEHEGEJGEGFGAHHGGHFCFECF7GGGBGGFFHGGF?GF=EFBGFGCDGGC': 1,\n",
       "         'B.AFEFFEGEGGG9GHAHGEGG8GFIHGGFEEHHFGHFHEGGGHGHGDGEHGG5GGGEFGGDDHGHG9FIID?CDJIIGFGGGGHGGF=IGGFFIFGEI@': 1,\n",
       "         '@@DFEFF@GIGGGHGEGHGFGFFGHIGGEIHHIEFGHGHFJCEHGHGFHEHDGEDGGG@GGED@IEGCHIIDGGIJIGGFGCGFF>GFHGGF>FFFDCI9': 1,\n",
       "         'B@DFEFFFGHGGGFGHGHGIIGHGHIGGGEEHIHFHHFHEGGHFGHGGHFHGGHGGEHFHGFHHIHGGHIEFGGIEIIGIGGGCHGGGJIGEGFIFGGIG': 1,\n",
       "         'B@DFEHFFGFGGGHGHGHGIFGGGHIGGGIEHIHFHHGGEHFHFGHGGHEHFGHJGHHFDGHHGGHFGHFEKGGJGIIGIFGGGF>GFFGEGGFIFEGGE': 1,\n",
       "         '?@DFEEFEBE6@GGGEGH?HGEFBD>@GDFCHBGFGH9GFHEEFGFBFHGHDGGHG7EFFG??GEF?CBG>DEGFJIGGFCCGGCDCFHF<F>;3AD2?*': 1,\n",
       "         'B@DCEFFFGIBGGFGHHBGCFGFGHIGGGE<8GGFHHGHEGHC9GHGDGEEEGHHG7EF9EGCFIDFCHF>>G6DGHG=FCD=GHGGFB@GF>GEFC@2D': 1,\n",
       "         '8@@<36FEBE6@G64FAHG4>FG@FIFGDA/HFEF;C9HE@E9BGH,9DE-EG8AGFGFHE?D@7?C=F,CFF6FJBB?5G>4K4:+F=E2+4*G*?2;1': 1,\n",
       "         '?@DFDEFFGDGGBF@GDHGHC@FGGIFGHFHBFGFGEFGFGH9FGHGDHEEDGHJGHCIGGGHDGECGHFHDGCGGJBGFGHGFFDGFJGFFAF3FGEE@': 1,\n",
       "         \"@@@FEFF@BBBGGF@D5C3EGG?GFC9GEF<HFFE-CFB;,C9BGHCD(8HC@H8GACF(E7D67C+(+?CD,,G,6I6?4+='+>=E+3<'DD%22*;1\": 1,\n",
       "         'B@DFCFFEGDGGGFGHGHGGGFG@FIHGEHGHHGFHHFFFHFH9GHGFHEHEGHHGHEFHF7?EIHFE>CEGGGFEHHGFFDGGFDGF=I@GA@G<C@CC': 1,\n",
       "         'B@DFEEFEGEGGGFFHEHGFGFFGGIGGGEHHGGHHEGGFHDCFGHGIGGHEGHGGACFFFBHHGHFGFIFFEGFGFHGICHGGJGGGJFG>AEHFGEEE': 1,\n",
       "         'B@DFEHFEGHGGGHHHGHGFIGGGHIFGFIHHFFFHHGFEGHEFGHGGGEHEGHJGFJFGGFHFEEGGHFIDEGIEHGGIGHGGHGGEHFEGGEEFECEC': 1,\n",
       "         'B@DFEFFGGGGGGFGHGHGGIGGGHIGGGGHHGHFGHFHGHGEHGHGEGFEEDHJDFJFHFHGDEB7GHDFCEEFEIIGDJCGFFGGGBFGGGGFFCEGG': 1,\n",
       "         'B@DFEHFFGEGGGFGHEHGIIGHGHIGGFHEHHHFHHFHEHEHFGHGIGEHGGHGGHJFHFHHFIDGGHIHFGFGJIGGIJGGCHGGFLIGGGFCFG<GG': 1,\n",
       "         \"A@DF@DFGBBGGBAFAG<GAGG?@FE@GG9GAB:FE7G-EG6C9,@7DGEHEGAA8EH598B,DB6C,BGEF?6>B6G,5FC'444@4FEE>+F+9;G$D\": 1,\n",
       "         'B@DF?FFF:HGGGH6HG3GGIGGGFIHGG:EHIHFHHFFGGHHFGHGD=48GGHJGFGFHGHHGGHGCHFFHFGIJIGGFGGGGHGGFJIDEAEE?G<ED': 1,\n",
       "         'A@DFEFFEGDGGGFFGGHGIGFGGHI@G=FEHGFFDHBEF@DCHGHGFHEHEEHGGGHFFFFDGEHFGFGCFGGFGIDGGGD@KHGGFFGG>G@IFDEG@': 1,\n",
       "         'B@DFEHFFGGGGGGGFGHGHGGFGHIHGGIEHIFHHHFHGGGHFGHGGGEHGGHFGFHFGGFHGIHGGHEFFGGJEFDGFFHGFHGGGHEDGGFFFGGGE': 1,\n",
       "         \"8@DCEEFDBBGGGF4>5<?C)3?4=0@-=FG-(:FH,BBF7'-(&,&9(,(('(%('-=9-(,6C,+6'',+'%'',+,,44+44'''''&''23'2'2'\": 1,\n",
       "         ':@DFE@FFGFGGGHGGGHGIFGGGFIFGGHHHGHHHHGHGHGEDGHGGGGHEEGJGFBBFGGHHGHGGD=IGFGGBBGGBCA8CCGGFBFGHGDIFGEG@': 1,\n",
       "         \"B@DFEFFEGEGGGFGHGHGIGFGGHIGGGHHHHFHHHFFFHHHHGHGFHGHFGHJGGHFHGHHHEHFGHIHHFGFGIIGIF'@4C+3>++&$>2+*2<'1\": 1,\n",
       "         'B@DCEDFEAGGGBFGFG2GIDGFG=FFGEAHHGHFEHBG;GEGFGHGDH4DEEHHGHEFDGBHGEDCEBGH>EDGBIGGAGDGK=DG>F3E4GFFBG2C9': 1,\n",
       "         'B@DFFHFEGIGGGGF:HHGFFGFGGIGGEGFEFFHHHFHFGGHFGHGIGEHEGHGGHHFGFDHHGHAGFGEFEDIEIGGIFDGCHGGF=>FGG@BFDF+>': 1,\n",
       "         '?@1FDBFEBEB8GDE2GHG8DEFFFFFGEFFH:HHGHGHFFFC9GEGDD@AECGHE7CFFFGDCCE;GFG7BFG@GHGGFFCDGFGGAGED>GFF?DEG@': 1,\n",
       "         'A@89EF=EGFGDGF<2GHGIFGG@HIHGGBHHFHHHHGHGGHHFGHDFHGHGG?HGHJFGGDHFGHGGFGIHFGIGIGGFGGGGHGGFJIGGGGHFGGGD': 1,\n",
       "         'B@DFE8:EGGG;GD?EGHG6GEGGH98?DEDDGH<CHFHBGFCF;HGFHEHDGHGGHHFHG?EEEFHGHIEGGCFEFIGDGHCGFGGFHFDFGG<F?CG@': 1,\n",
       "         'B@DFEFFFGHGGGFGHEHGHFGGGHIGGFHEHHFHHHGHGHHEFGHGGGGHGGHGGHGFHGGHGIHFGHFIFFGIJIHGGGGGFHGCGJGGGGFGBGGIC': 1,\n",
       "         '@@DFFEFEGEGGGFFHHHGHFEGFDIFGFFFHBFFECB9GDGED?CCFHEHGGHGGECFFF?DEGCFG>FHFEGCEIDG?GGGGCDGFFGEEAFHCG@CE': 1,\n",
       "         'B@DFEEFEGGGGGFFHGHGIIGGGHIGGGHHHHFFGHGFFHGEFGHGGIFHEGHGGGJFHGHHFIHGGFIEHFGDIIGGIGGGKFGGGJIGHGFHF;KGG': 1,\n",
       "         '@@DFEHFFGIGGGGGHGHGGFGGGFIGGGEEHHEFGHGBGGGHFGHGGGEHEGDGGFHFHGEFFIHGGFCFHDGJGIGGIGHGGFGGFHIEGGG3AGGG>': 1,\n",
       "         'A@DFEHFFGGGGGFFHGHGIFGFGFFLGFGEEHHBHHGHFHGHFGHGGGFHFGHGGGCFHGFHHIHGGHGFHFGFEBGGFFGGGJGGGFFGFGGHFGGGG': 1,\n",
       "         'B@DFEHFFGHGGGFFHHHGII@FGHHGGEH<EHGEHEFHGGHHDGFGFHFHGCHJGHCFHFGHGEEGGHGHHDGIGFGGGJGGGJGGGLIGEGGHCGFEE': 1,\n",
       "         '@@DCEEFEGFGGGHHHEHGEFG?GGIFGFGEEHEFGHGFFHGHFGHG9GEHGGHHGGJFGGGDHEHHEHGEDGGJJIIGIGGGFHDG>LIEEFGHFGKIG': 1,\n",
       "         'A@DFEEFFGGGGGGHHGHGGGGGGHIGGHIHHFGHHHGIEGEHFGHGIHEHFGHGGGJFGGDHGGHFGHIIFFGJIIIGFGHGKFGGGBIGFJEIFEKGC': 1,\n",
       "         '?@DCEHFDGDGCBHEHEHGEFFF6FIDGEEEEFGFHDGEGHHHFGFGFG@DGCEJGFCFGFFHGEEFG5GEGFFCGE4GGJDGGH4=G+FGEG;C2?2CG': 1,\n",
       "         'B@DFEFFEG:GGGHFH<HGHIGHGHIGDHEEHHEHGHGHGGFEFGHGDHGHEDAGGGEFFGHFFIHGGFFIHGGJGIIGFGHGFFGGFHGGGGGBFGEG>': 1,\n",
       "         'B@DFEHFFGFGGGFGHHHGGGGHEHIGGFGHHGHHGHFFGGEEDGHGGGGHFEHGGFHFHFEBHIDFGGGEHGGDJFIGIGCGFFGGEGIGFGFIFGGEE': 1,\n",
       "         '?@DFEE=@GIGGGHF>GBGHGCG@HIFGEGGHBGEDEBEFGC9-?,GFH@HEGHHGHEFDEBHDGCCG=@C7FA>GGIGIFDGGFG3FDD<FA@EF;G;C': 1,\n",
       "         \"?@D<H6FD8BB@BA@>A<GAC@?BHC@G=AHA.HFGCFEEDCCFGHGFGEHGGHGGAHFHGDDGGFAG5FFFEGDEHGGI>CGKH4GA4IGFA;3<D)+'\": 1,\n",
       "         '@@DFFFFFBDGGGGGGGHGGFEFGFIGGGGFHFHFGHBHEDEGFGHGGHEHEG8FGHGFGGFHGGHHGFIHGFDIJB>GIFHGGHDCFDGGEGDGCGFED': 1,\n",
       "         'A@DFEEFFGEGGGFEHHCGGIFEGEHGGEFFHBGFDHGHEGEEHGHGI6FHGGHJGEGFHEFHGEHHGFC>FFFJG6>AFFC?KFGGFFI@GDFHFEE;D': 1,\n",
       "         \"?@DFEHFFGGGGBFFEEHGGDFFGHIGGHFFHFFFGDGHFGGEHGFGIGG8DGH,,F-+-(,7,(H+,+,,BFF'6?>G,++'C+:C+43*'+'+'CF+1\": 1,\n",
       "         'B@DFEFFFGHGGGFFHGBGHFGFGFIGGEEFEFFHGHGHFGDHFGHGGHGHEGHFGGHFHGBHGIEFGDFHGFGJIIGBIGGGCHGGGGDG>GDEFGCGE': 1,\n",
       "         'B@DFEEFFBBGGGFGGEHGEFEFBHIGGDEEHFHFADGFFHECF7HGIGEHDGEGGFEFHGDHGGHFGHGIBGDJGIGGGFHGGFGGFDIGBGFBFGGIE': 1,\n",
       "         '@@DFEFFGGGGGGFGGGHGHFCGBGCFGFHHHHFFEHFHEHGHBGEBGHEHEGHJGGGFGFFBFEDGGGFEGGGIJIGGGFHGGJGGFLIGGGFIFGFE@': 1,\n",
       "         'B@DFEFFFBHGGGFGHHHGIGGFGHIHGHGEHGFEGHGHEGGEFGHGGH@HEGHGGGJFHGDHEGFGGHGFFGGGGFGGIJGGGHGGFGFGEFEIFEEE>': 1,\n",
       "         'B@DFEFFEGHGGGFFHGHGIIGHFHHGGGEFHHGHGHFHFGGEF@HGGG@HEGHJGFGFGAHFHEHGGFFFFGGIGFGGIFHGGFGGFLEGEGGFFGKIE': 1,\n",
       "         '@@DFEFF@GEGGGF@HEHGFIGHGHCDGDE<EFHFGHFIFHFHFGHGDGE8EAGJGEGFHEHFGEDHGBIHFDFD?HDGFFG4CFDGEDFGB4GGFCEE*': 1,\n",
       "         'B@DFFHFEGEDGGFFFGH?IFGFGF>LGFEHHGEFDHFGGGCADGHGFDFHFGADGFGFGGGCEECCG=@FBFDCJGG6IF>G4FGEAJIDGAGGCGGI@': 1,\n",
       "         '8@DFCBFEBBBGGFGFGHGHG@EGF>GGFFFHGGEDHFH;GDCBGFBFDEHEGGFDFCFGFGFGEHHCFFCBDFIEIDGAFH4GF:GFFGEGGE3FEFGC': 1,\n",
       "         'A@DFEHFEGIGGGGEFEHGHFEFGGEGGGGEHFGEAHGHFGDCF?HBDGEHGGHDEGGFHFFEHEHGGFFIBDGJE;BGI>4BFDG:EHFDGFFIFDCCC': 1,\n",
       "         'B@DFEDF@GIGGGGFHAHGFIGF@HHGGDGFHHGHHHFIEGHEFGHGFGEHEGHGGFHFAGDHDECFGAGHHFFGGIGGGGHGCFGGEF@FEADHFEFE@': 1,\n",
       "         'B@DFEHFEGGGGGFGHGHGHGGFGFI9GGEGHIFH;HFGFGFEHGHGFGGHDDHHGFJFHGGHEGHAGHEFGEGGEIGGFFC?GFG3F=GEGGGHFCEE9': 1,\n",
       "         '@@DCCFFEBBGGBAF:GF?EC@GBF>GBEAGHFH8;HGHEGG9FGHGGH8H9GHDGEHFGFFHGEHHGFFEHEGFIIGGIFDGGCGGFJ@2F4DHFE@IE': 1,\n",
       "         '@@DF8FFFDDGGGF5HH8GIFGHGFCDGH8FHGHFGHGEGDFHFGHGD&:9EGGHGFJFGGHDFEHHGFFFFGGGEHGGFGDGGFGCFBI<BFGEFEFED': 1,\n",
       "         'B@DFFFFEGIGGGGGEGHGEGGFGFIGGEGGEGGH;HFHEGHEFGCGIHGHGGHHGEBFGGFEGEHAGBFHHGGDJ?GGFFDGGHGGAF@DGDEHAGCGC': 1,\n",
       "         'B@:FEFFFGFGGGGGHHHGIFFFGDIFGHAHHHGFHHGHFHGHFGFGFGEHGGHJGHGFGGFHGGHFGHFIGGGFGIIGGGGGKHGGFGEGEGFIFGEE@': 1,\n",
       "         '@@DF?EFFGEGGGHGGGHGGIGGGHIGGGIFHGHHHHGFGGHEHGEGFGEHGGHGGGJFGGHHHIHFGHEFHEGFIFIGIGKGGHGGGBIGEGFBFGKED': 1,\n",
       "         'B@DFEEFGGDGGGFFHGHGCGGGGFCDGEEFHGGHGCGBFHCHFGHGFGEHEGHFGGEFGFFHHGFGGFGCBFCJEFGGFJGGFHGGFGEEBG2CFGFEE': 1,\n",
       "         '*@:<@BFFBIBGBA@>DBGA>3FGE0FBDA<H.GFA7-9(@D-976>-H8HEG8A?7-+-(G7@CCHE56,5?,>??+6,4CG4=+3F4>D4>2E2C<21': 1,\n",
       "         '@@DFEHFFGGGGGFFAEHGHGKHGHEGGHIEHIGFHHFFGHGHFGHGFGEHGGHJGHHFGGGHFIHHGFIIDEGIJFIGGGGGKCGGEGIGFGFHFEGEG': 1,\n",
       "         'B@@CEEFFBDGGGGEGGHGHCK?GEIF?HEFHFHHGEFHEG6HH@CC9DEHDGHDGH9FFF?HEECCEFFFBFGIEIDG?CG=K=GG>DFG>G;EFDF?C': 1,\n",
       "         'B@DFEEFFGGGGGFFHGHGGFCFBDIHGEHGHBHEAEGHGDEGBGFGDGFHEGHJGHHFHEDCGEHHGHIHHFCGII>GFFDGCFGGFJGDGGEF2G2GE': 1,\n",
       "         'B@DFFHFEGDGGGHFDGHGFIGHGHIFGFEFHGHFHHFHGHFEHGHGF6FHDGHHGHHFHG?HHGFGGHFIHFGFJIGGFF>GFHDGGHFG4DGFFGGGG': 1,\n",
       "         'B@DFEEFFGHBGGFGHEHGFFGFGFIFGGGFHHFEGHGHEGEEHIEGG@FEEGAAGEJFDEFEEEHFGDFGDGGDIJGGDGDGKCAGEBI<EGDIFDCGD': 1,\n",
       "         'B@DFEEFGGHGGGHHHDHGAGGFGHIFG=HCBBFFGHFGFDCEDGHGFDEHDGHHGGHFGEGFEIHGGFFFFEDGGIGG5GGGGHGGFGFG>GFF2EFE1': 1,\n",
       "         'B@DFEHFFGGGGGFFHGHGIFGGGFIFGGHHHHHHHHGHGHEHFGHGFHFHEGHGGGHFFGGHGGHGGHIHFFGGEFIGIGGGGHGGGGIGFFFFFECGE': 1,\n",
       "         'B@DFEHFFGEGGGFGHEHGHIGHGHIHGHIHHGFHGHGHGHEEFGHGGHFHEGHJGFHFFGHHFIHHGHGIHGGIJIIGAGGGGFGGGGIGGGFEFEGGC': 1,\n",
       "         'B@DFEHFFGHGGGGGHEHGIFGHGHIGGGHHHIHHHHFIGGHHFGHGGHFHGGHJGFGFGIHHFIHGGHIFKFGIIFIGIGHGKJGGFJIGEFGIFGGEE': 1,\n",
       "         '@@DFEFFFGGGGGHFHEHGICGFEHILGDFEEGGFEHGHFGEGHGHGGGFHFGHJGEHFHFGHHIDGGDEEFFGFGIIGFCGEKFGGEGIGGGFIF2GGE': 1,\n",
       "         '8@DCDF=G8BGGGF@2ABGE>C?BD>99=GHH:E8;C9HFDCEH,C79@8H-GHA8ACFDF?HGCH?G=@F4EGI?GGB?>GGCF4GEFFEEG2<F;EGG': 1,\n",
       "         '?@:<@BF@GB6@BGGDDB?CCEGBHD9GE9FHFEHHC9HEGCGFGHG9@ECGGDAG7BFDGFEDCECGD@C9F6>EGD6D>GC>4>GFD>G4G;CF?2EE': 1,\n",
       "         'B@@FDEFFGDGGGGG>EH?HGFFGGIFBEHGHHEEGHGEEDCEH@HGFGEH9GHGGFGFFFHHGEHFGHGGDGDCIIHGAFGGGFGGFGDGBF@HFG@GE': 1,\n",
       "         'B@DFCHFFGHG%GFGHHHGGGEH8GIGGGIFEHHFGHGFGGHHFGHGGGGHEGHJGFHFHIGDFEFFGHGIGFGJGIGGIGHGCJDGGJIEFGGIFGKIE': 1,\n",
       "         '8@@FEBFEBBB@B6F.GB&A1@E7H.F-EFHH:HFDH9GEDD9BGHGDI,HDG8GGHHFH8FHG,CFG>665GF>GEGGAF4GGHDGABDEFADFGGC;8': 1,\n",
       "         'B@@FEB=E8D6@BGFFAB?G>@F@=IGGFA)HGDBDH9BEDGCF76G96EDDGAAGF9=9F?H@EAAGD66B7GCE,BGA4DGGFGG4DF*G4F3*DG?9': 1,\n",
       "         'B@DFEBFEGIGGGFFEGHGHFGGFHCGGEFEHIFFGDGEEGGHDGHCDHEHEGHHGEHFFGEHHIHCGDC6KFDFJEIGIFDGCFGEFBDDGDG<FGEEE': 1,\n",
       "         'B@@CHDFGBEBGGHFDEHGA>@3GDCGGHFE8FDHAEG9EH6HF7HGF(FADGH8GAC5DA?DG7H?GAC>BEFGBEHGA>CGCF?GFDGGEG;IC?CC9': 1,\n",
       "         'B@DFEEFEGGGGGGFHEHGHFGHGHIGGGIHHHGHHHGHFGGHFGHGGHEHGGHJGFGFGGGHHIHGGHCF5EGJEIHGIJHGKFGGGGIGGG@HFGEGE': 1,\n",
       "         '@@DFEHFFGEGGBHFHHHGHFEGGFIGGHHFHGGFGHFHGGEHFGHGFHEHEGHJGHHFGGHH@GHGGHGEFFGIJFGGICDGGFGCF=IEGGFIFGECE': 1,\n",
       "         'B@DFEHFFGHGGGGGHEHGIFGHGFIGGGHHHIHHHDGHGHDHFGEGIHGHEGHJGGHFHIGHHIHHGHFIKEGJJIGGIGDGGJGGFGIGEGEHFGGIG': 1,\n",
       "         '?@DCEDFEGIBGBAEEHH?AC@F4DIFGEGFEF:EDHGGFGEEBGHGD@G-CDGD,GGFDGH7@EFG=F?CBFDFEEGGFCHGG=?EGB3DEDDC?D<21': 1,\n",
       "         '@@DCE87FGDA9G:CFGHGBGE!CFD<?DIDDGD!CC9!BGD9F<HGDGE!CEGJGHEFGGFFFEHCG>?EDEGFEHGGIF>GGFGCFFFGEDEFFGFGD': 1,\n",
       "         'B@DFEFFEGGGGGFFFHHGGFEHGFIGGEGHHFFHGEGEGGGEFGEGFGGHGGHHGEEFGGGEEIHGEFGFDEGFJHHGIFCGGFGGFGIGGAFIF?CID': 1,\n",
       "         '@@DFEHFFGFGGGFGHGHGHIGGGHILGFIEHIHHHHGHGJHHFGHGGGEHGGHGGGHFGGHBGIDGGGIEFGGJGIIGIJGGFHGGFGIGFFGFFGKIE': 1,\n",
       "         'B@DFEFFFGGGGGFGHGHGHIGGGHIFGEHHHGGHGDBHGGHEFICGDHGHGGDGGFHFHGHEEGHFGFIEGFFFJIIGIIGGGHGGFJIEGDFFFDGIC': 1,\n",
       "         '?@@<@B/EBBGGGF@FHB?AFGEG=DDG=F<-:-EHEGB;D6997HBFHEHDG8A@AHFAADDEEEHGD@H7GGD,GBG5F+GGHGGE4@G>DFFCDCE>': 1,\n",
       "         '?@:<DBFDB7:4BAF>GHG4>FEFGIFGDEEEFHEG7B-FGG9B,,G-@@HD78A8AG5GA??6CHGEDCCFFGIGI+=5>H4>FD=EB+FBG;BCG221': 1,\n",
       "         '8@@<@EF@GB6G66F>AHGE>3?400@B.EHHG:HHCBH;7B9FG6@9G8HCGH8GAGFDA?H@GEH,5C>D76IGF4GAC>=CFGCF=32E42F2G<21': 1,\n",
       "         \"@@DCHHFEBBG@G*EFEH?GICE@DI9BEFHHH:HHC-GEDBHFG?@9DE8EGHA@FHFHFFHEEF4=A6C5?FFGEIGFGDGC=GC+D'DGGFCC;G;>\": 1,\n",
       "         '@@DFE@FFGFGGGHGHGHGFDGFGFIFGEGFHGEFGHGBEDCHDGHCIHEHE:HDGEBBHIBHHBHGGFEEGEDJJB4GBGAFGCGGEJFG4G*<FGGC@': 1,\n",
       "         'B@DFFFFEGEGGGAFFGHGHFFGGFHGGDIEHHGFHHGFFGGHFGHGGHGHGGHJGHGFFGHHGGEHGHGFHF9FGBGGDJHGFFCGGDDGFGFIFCGED': 1,\n",
       "         'B@DFEHFGGEDGGGGHHHGAG@GEGIFGEEHHB:FHHFGFDCEDGHGFHEHEGHDCAHFDIFDEEFHGFGFFGGFEIDGACCGGFGGGFFFFDDCFCFC>': 1,\n",
       "         'B@DFEHFFGDGGGHGHDHGFFGFGGIGDGGFHGFFGHGGFHHHBGHCFHGHEGHGGHGFGFHEGIHHGHGFGFGIIIGGGFGGGHGGAGFGEGFEF;G;E': 1,\n",
       "         '?@4CHEFFGBB\"GGGFAH?7>@FBD>GG=HCHFDFGHFGGFGCDGHGFGEHEEHG=GC:GFGHCC69GAGABFG=EEGGF4GDGF?CFDF<GGFGFGECG': 1,\n",
       "         'B@DFEFFEGGGGGFHEEHGGFGGGHIGGGFFHGEHHHFHEHGGFGHGGGEGEGHJGFGFGGHHGEHFGHFFFGGGEIGGFJHGCHGGAGIGEJGEFEEGE': 1,\n",
       "         'A@DFEFFEGEGGGHFGGHGHGGHGFIGGDHEHFGHHHFFEHGHH7HGFHGHGGDJGFHFDEFHGEEGGFFHHGGIEJGGFFKGGFGGFHIFGGGHFEFGG': 1,\n",
       "         'B@DFEDFGBEGGGAFFGHGFDGG@HIFGDGHHFGFHEFBEGFCFG@GIGFHEGDDGHGFGAGEGEEFGDGEFGDFEIGGIGDGCHGGGHGGEDGHFG<IE': 1,\n",
       "         'B@5BEEFFGGGGGFFHGHGICFGGHIGGGAFHHEFDDGHEDCGHGHGGHFHEGHGGGHFHGFHGGHGGHGIBFGJJIGGD>HGGHGGFGDGGGDGFCCGE': 1,\n",
       "         'B@DFEEFFGEGGGFHHGHGHGGGGHILGGEHHGHFGHFBEGGHFGHGGGEHEGHJGGHFHFHHFGHHGHIHHFGGJHHGIJHGKHGEFFIGFGFIFC@IG': 1,\n",
       "         'B@DFFHFEGFGGGFFHGHGAGEFBGIDGEH<HHFFGHGHFGDEDGEGGGFHEGHFCGJFGGGHHIHGGHIIFFGI,IGGFGGGFFGGFGGGGF@HBGEEG': 1,\n",
       "         'B@DFEFFDGDGGGHFHGHGGFGFGFIGGGGEEIHHHHGIFHHEFGHGGGFEGGHGGEJFGGFHGIFFEHEGFFGJJIGGGGDGKHGGFGEGHGFGFEGG9': 1,\n",
       "         'A@DFEHFEGGGGGFGHHHGFFEFGHIFGHHFEGHFHHFEFGGEFGHCFHEHGGGHEECFHFEHDGHFE1@EBFGJ6GH=FJHGGHGGFBIGB>FGFGFGD': 1,\n",
       "         '9@DFE<FEGDB@GDFDDHGEGEFGFIFGFGHHHEHHHGHEGGHDGHGFGFAFEHGGFBBHEEHFGHFCHEHGFGJIBGGBFAFGCDGFFFGEGGFCGEIE': 1,\n",
       "         \"B@DFHHFEGFGGGF@EHHGFIGGGFIFGFHEHGFFGEGHEGBEHGHGDHFHDGHGGEJFGE7,D7HAGHFFGEFFJFHBG'DGGF4CFFD<EDGC2G=EE\": 1,\n",
       "         'B@DFEB=E9DGGBFFFA2GACE?BFE9GEFH8FGFDEB9E@HEBGCGGG4HC@GDGABFDF7HDBHFGFFIBG6DG?DG5GD@FFG3>4EDGF@BFG@E9': 1,\n",
       "         'B@DFEDFEGFGGGFGFEHGHFEFBHI-GDFEAHFF;H-HF7CAFGEGFGEHEGHJGGHFFFFHDGHAEBI6GFGGEIGGI4GGFH?3EHFGGGGB<D@?D': 1,\n",
       "         'B@DFEFFEGDGGGGGGEHGGFGGGHIGGGHHHHHFGHGHEGGHFGHGIHGHEGHAGECFGGHHGIHFGHEEFFGFEIIGIIDGFHGGFGIGEGGHFGGEG': 1,\n",
       "         '@@DFEEF:GIGGGFGEGHGHFFFGGIAGEFFFCGC8C-CDEBFE@?DFG<CFEHD:AFCCACF@3B:3DD@6FF1EAE:BBE;2FFCDBDDBE:>ACCC@': 1,\n",
       "         'A@DFEBFEGGGGGFGEGHGEFGFGHIHGDAHHGEHGHFGFHHAFGHGGHE>EGHGGFGFHGFEGGHFGBGF>EGDG?HGIGGGGF?GFGFGEGGHFEGCG': 1,\n",
       "         'A@DFEHFEGFGGGFGEGHGHFGFGHIGGFHFHIHHHHFGG@GEFGHGIGGHDGEDGGHFHGHEFIHFGHFFHFGFGFGGGGGGG=GGGDEGEGFFFDKEG': 1,\n",
       "         'B@DFEHFFGGGGGHGHDHGIGGFGHIFGGHHHHHHHHGHFJEHFGHGGGEHEGHJGGJFGGHHFIHGGHFIFFGFIHGGIGKGGFGGGJIGFGGFFEEEG': 1,\n",
       "         'B@DFEFFFGEGGGFGHGHGHIGHGHIGGFGHHGHHHHFFFHEHFGHGFGEHEGHHGFHFFGHDFEHGGFFEGGGFJIIGGJHGCFGGFJIEGFGCFGCIG': 1,\n",
       "         'B@DFEHFFGEGGGHGGEHGIGFFGHIGGGHEHGEHGHFFFGGHFGHGIGFEGGHGGEGFHGDHHIFFGHGIHEFFIIIGIIGGGFGGFJIGFGGIAGFGG': 1,\n",
       "         'A@DFEHFEGGGGGFHHGHGHGGGEHIHGFHHEHFHHHGGGGHHFGHGFGEHFCHFGFGFHGDHHGHGGHGGGFGGIFGGIGGGGCGGEGEGGGGICGFGD': 1,\n",
       "         'B@@F?DFEGFGGBDGFG<GHGEFGFIGGEGCBIFHEHFEE@HEDGHGFHECDGEFGACFDFGEGBHGGDECDFDJGIDGIJGGCCAEFBFGGAFBFECEE': 1,\n",
       "         'B@DFEEFFGGGGGFGHGHGGIFGEEEFGEEEHFGFHDFHFHHEDGHGGHEHEGEJGHHFHGFEFGHFGHCCGGGIIIIGIGGGC4D=FGEGEGEEFGEI>': 1,\n",
       "         'B@DFEDFGGHGGGHGHGHGGFGHGFFL-GHFEIHHGHGHFGFHFGFGIGFHGGHJGGCFHGDHFIFCGHEHHFGIGFGGIGKGFHGGFJGGFFGFFGGGD': 1,\n",
       "         '?@DCFE=FBEAGBA@HAH?CG@FGFFGGEAGAFFFDCBHF7CEHGFGDGECGGDH@FEFDGB?DGFFCBE>5DFCIBGGFFGGG=:@FB>FFG;FFG@E@': 1,\n",
       "         'B@DFEHFEGGGGGFGHGHGFIGGGHIFGGHEHIHHHHGIFHHEFGHGIHEHEGHJGGCFHGGHGIHGGHGHGGGJIIHGAFHGGHGGGGIGHGFICDKEG': 1,\n",
       "         'B@@CDEFDBIG@B6@EACGDGFF@=>DB=FCH.-F;HFEEH6E-GFGD@8H9AADCACBDAG7@ED?EFCCBFD>EIBGACD@>4ACFGFFF>FC??@+E': 1,\n",
       "         'B@DFEFFFGHGGGFHHEHGHGGGGGIDGHGCHFFFGDFHGDCEHGHGDGEHEGEJGEHFDGEHFIHGGFFEFFGJJEGGIGGGFFGCFBGGG4FIFGCGC': 1,\n",
       "         'B@DFEFFFGEGGGHGHEHGGFGFGFIHGFGEHHHHHHGHGGFHFGEGGGEHEGHJGECFHGHHGIHFGFFEFFGJJIGGIGGGKCGGGGFGFGEHFECGC': 1,\n",
       "         '?@DFCEFEGEGGGG@EAHGFD@?FE>FGGFHBFFHD?GIFGGGH7FGGGEDEGADGGEF9EHDDEHGCBG>B7=>GIGA5FGG4F:3F4@GE>@BC?@?G': 1,\n",
       "         '@@DFEHFEGEG@GHFGGBGHGGFGFIGGFGFHFHFHHFHEGHGHGFGFHGHEAHGEHHFHGHFGIDFGHIEHGBGGIHGGFGGFHGGFFIGHDGCFGCGD': 1,\n",
       "         'B@DFEHFFGEGGGHFHEHGIIGFGHIHGHHEHHFHGHFFFGGHFGHGGGGHGGHJDFGFHIGHHIHFGHGIHFGJJIIGIGGGCHGGGFIGGGEEFGEID': 1,\n",
       "         'B@DCCBFEBDBGBFEHAHGGIEF@DEF9EFEHFFFGCFH.@EEFGECIGE89AHGGFHFHFHHGGDAGFF>DEG>EIGGAFGGKCDGFG>@GGDCCCGE1': 1,\n",
       "         'B@DC?BFG1GGGGA)FDF?FD@FEDID?E1GAFHFACBGE7FCHGH,D188CGGHEFCFFFFH6IHGGFFFGEBJEJBGIJDGCCAGGHIGFG@GCGGE9': 1,\n",
       "         'B@DFEFFFGFGGGFGHHHGHFEGBFIFGEECEGFFGHGHEGGGBGFGDGGHG7HJGGJFGGDHGCHFEFEIDFFGGIGGFFGEK4AGEGIEHGGCAECGE': 1,\n",
       "         '?@@FEFFEGEGGGGFHGHGHCFFGHIFG=FFEHEBHEGHEGEGHGHGIHGHFGEJDG-FHAEFEEHFGHIEDFGGG;GGIFG;GD?DGJIFGFFGF;GI@': 1,\n",
       "         'A@@FEBF@BIGCGFGHHBGAG@G2=IDGE9FHFFFEHGGFGHCFG?BFGEHDGDFGHHFHEFEGIDHGHC,B?GGG?GGF>D?>=D3GDIFGGDIFG@I*': 1,\n",
       "         \"6@@FEE=@8DGGG64.H<0H>@E6H7HGEAEEFFF;BFGE,6H-7,,I@8E-GAGEFHFFF,,F,,',56C>?6>,,B?5>CG+++<F'+*>D;GGG*+6\": 1,\n",
       "         \"?@@CDBF3BDBGBGFEAHGCG@?@GID-=9<AH-8G,-B;7G9-@,7-@FH-D8A)F(F-7,G)7'*EFD,8:E6G,>G+4844++C++F*4+;32'''1\": 1,\n",
       "         '?@DCEEFFGGGGGFGFGHGFGEFEHIFGDGFHHHHHHFHFHGGFGHG:HEHEDAGDFJFHFFGDIBFGHDICEECEFIGDFCGGH:GFBI@BGGCFDK;G': 1,\n",
       "         'B@DFEEFEGGGGGHGHHHGGIGGGHIGGFGEHHHHHHFHGHHEFGHGFHFHGGEJGGJFHGHHHIHGGFEIHFGJIJGGIGGGFFGEFGIGFGGEFGEIC': 1,\n",
       "         'B@DFEBFEBDGGGAHFAAGAICFB=IFGE9/BFEFDHFIFGCE9GHG9DGHEEHAGHGFDEHEGEDFGFCHHEADEE4GGGDCGF?GEJDGEDF<AE<?E': 1,\n",
       "         '@@DAEEFFGEGGGHHHGHGHIGHGDIGGGHEEGGHHHFHGHFEFGHGGGFHGGHGGHJFGGDHFIHFGHIHHFGJIFHGIIGGGFGGEFIGEGGCFGGEG': 1,\n",
       "         'B@DFEDFFGFGGGHGEGHGGGFFGHIHGDAHHGGFAHFHEGCCFGHGGGEHGGHGGHHFFGDHFGHHGHFHDGFFJEGGF>GGGJGGFLFGEGFGF;GEG': 1,\n",
       "         'A@DFHDFEGDGGGHGGDHGECGEGHEHGEGEBGFF;HFHFGHAFGEGD@EHEGHJCHCFGGFHEIHCGFCF>G6JEFGGFGDGGHGG4=FEGD@IFG<?E': 1,\n",
       "         'B@DFEHFEGEGGGGGHEHGGFGGGFIGGFHHEGHHHHFFGHEEFGHGIHFHGGHAGHHFHGHHGIHGG=@FBFGFIGGGIGGGGFGGEGIGGGGHFEGI@': 1,\n",
       "         '?@DFEFFFGGGGGHGGEHGHGFGGHIGGHIEHHFFGHFFEGHHFGHGGHGHEGAJGFHFGGHHHIHFGHFFGGDJJEGGAGGCGHGEFDIGGFEGFGKC1': 1,\n",
       "         \"B@DFEDFFBDGGGD@>AFGH>CGG=HGGEFCHBEFHCBHE@C9B@,BGDG8GG8A8A9@9-BD67EACB'>',=>I/G>5F4++6+14G+*3*E+*22+G\": 1,\n",
       "         \"A@DF@EFEBEBGGGFFEHGHGGFGHIFGGFHHFEFA7F-.DGA-,6GIGE89-88,7(F-A,E6,6A,'6CF76IE,'6,4+'++?3+43G++FGF?C+1\": 1,\n",
       "         'B@DFEFFEGEGGGHFEHHGFCGHGFEGGDFFHHFHGEBBGGCEFGHBIGFHEEHGGHHFGGFEDEDFGFGFGGGFGHHGGGDGFHDCFFFGGGFB<GCG@': 1,\n",
       "         '?@@CFFFEGBDGGGEG5BGIG@G@DC9GHFFAFFHGHBGFHDE9GHGD6EDEGH8GH9FGGF?HGFACFGHB?GFEIGGF>D=GFDGAG>GFGFHFEFG@': 1,\n",
       "         'B@DFCEFEBDBGGA@EGHGHD@GBDE@9GI<HBFBG?FGEGHCFG@BFG@AGGHJGEB@HGEHGE6ACB?>>GGDBBGGFFDGGHDGAD3F4DEGAGGCE': 1,\n",
       "         '?@DFCEFEGDGGGFFHEEGFFGFFFDFGEEGHG:FGHGHFGEHF@HGFGEHGGD8GHEFAGFFDGHAGHFFFFFFEIGGGGDGFHDCABFDGGD<CG@GC': 1,\n",
       "         'B@<FEFFFGGG>GGFHGHG1GGFGHILGGHHHGHHHHGFEFEEHGHGFGFHGGHG;H5FGGGHCC;DGDEABFG@EIIGIFGDGFGGFFGGGGEHFGKID': 1,\n",
       "         'B@9FEHFGGFG>GFFHGHG6FGFGDIFGGGHHFEFGHGHFFGHFGH@GGEEGGHHEGC8HAGCCCE9GHFABFG=GIDGFGDDF4GGFGIFFJFEF2G2G': 1,\n",
       "         '?1\"FEFFEGDGGG8FFAHGEGE9GFCFGEFFHG:FHHGGFHCEDGHGDHGHEG1A8EHFFGHHGECF5FFID7GF?HGGIFDGGFGGE=3GEGFG<C@C>': 1,\n",
       "         '?@DFEB:EGEGDG:CHGHGBGGFGH99?DGDDGG<C7FHBGECF<HGFHEHEGHFGGHFHEEHGEHFGHFIBDGJIEIGIFCGGH4GFFGGGGEEFGCE>': 1,\n",
       "         '?@D<@BF@8DGGBFF>A<?AI@E4=0DGH-EA.:-;HGEG7G-B,HBF+E-9-HA?7-5F87HFGD46>CCHD66BHBGFCGGCHGG>D3F+A;<A2C21': 1,\n",
       "         'A@DFEFFFGGGGGFGHGHGHF@FEFIFGFGGHHFFDDGHGHECFGFGFGEHFGHGGGGFGEEHFIHCGHFEFFGFGIDGIGDGGHGGFFIGGDDFCD2GG': 1,\n",
       "         'B@DFEHFBGHGGGGHEGHGFIGFGFIAGGGFFCGCDCECDEBFE@?DFGCCFEHD:AFCCACF@BB9BDD@BFFBEAECBBEDEFFCDB7DBEC>ACCIE': 1,\n",
       "         \"B@DFCFFEGBBGGG@H50GE1@?4=0F9.9C-:-F;H9H;HCC9GEG-+E8D7A8,,95H8HCGEA4,FCFDGCCG?D>F+GGFH4'>4'<>>2EBCEE1\": 1,\n",
       "         '@@DACEFGGEGGGFFHEHGGDGFFFIGGGGGHHFFGHGHEHGCFGHGFGFHEGAHGFHFHGBDGEHGGDFEHGGJJI>GGFHGFFDGFDIGEGFHFGFGD': 1,\n",
       "         'B@DFEEFEGEGGGGGHGHGHIFGGEDGGGGHHGFFHEBBFGHHDGHGGHEHGGHGGHHFGFGEGEHC=FCCGFDG?BGGGC4GCCDGFHDGEG;BFGCEE': 1,\n",
       "         'B@DFEHFFGHGGGFFHGHGHGEGGGIDGHIGHHHFGHFHGJGHF@CBFHGHEGHGEFEFHGFBGGDGEGF:FGGDIEGGFFDGCHGGFFGEGGGIFC2E1': 1,\n",
       "         'B@DFEFFEGHGGGGHGGHGIIGGGHIGGFHEHGHFGHGFFHGEFGHGFGEHEGHJGFGFHGFBGEDGGGIEFGGJJFGGIFGGGHGGFHIEGFGIFGCIG': 1,\n",
       "         'B@:BEFFFGGGGGFGHGHGHGGGGFFLGFIEHGHHGHFFEGFEHGHGIHEHEGHJGHJFHGEHGIHFGFFFFGDIJIIGFFHGKHGGFGIGFFGIFECID': 1,\n",
       "         '?@1BEFFEGEDGGG@EHAGFFEGFFCGGDFFHGDFGHGHEGGHFGHGGG@HDGHG8FG@DGFEGGHFGFI>GFG>JEGGIGHGGFG3ELEFEGFGFGCEG': 1,\n",
       "         'B@DFEEFFGEGGGFGHGHGGGGFGFFGGFEFHGGHHHFHGJFGFGFGFHEHGGHJGFGFDFFHEIHGGHCFFGGFJIGGFGDCCH4GFGGGGGFHFEKEE': 1,\n",
       "         'B@DFEHFEGFGGGFHHGHGIIGHFHEHGFHHHFGFGHFFFGHGDGHGGHFHGGHJGHHFHGHHGIHFGHCEHFGFIJIGIJDGGFGGFHGGFGGFFCEE@': 1,\n",
       "         '@@DFEHFEGFGGGFHEEHGHGFEGHIGGFHHHGFEGHGHGHGGFGHGFGEHGGHGGHHFHGEHHGHFGFGFGFFDGIGGIFGGKFDGFFIGEGEHFGFI@': 1,\n",
       "         'B@DFHFFEGDBGGGGEGHGHFF?FFIGGHEEHFGFDHBHFGGCFGFGFHEHGGAHGECFHGDHGEEFGFCFFG5GGIIGIFGGCHCCGD>GGAFCFGEC@': 1,\n",
       "         'B@DFEFFEGEGGGHFEGHGFD@GGHFFGGAFEBFHGHBGFHCCFGHGFGGHEGEFGHGFDGF7GGHHGHCEB?GFGEGGFGGGKHGGFHIEEGF3FGCC>': 1,\n",
       "         '<@DFEFFFGDGGGHGEGHGHFGFEFIFGGHHHFHHGHFGEDEHHGHGFGEHGGHGGFGFFG?HGEFGGHFEFFGFEIGGIFGGGHGGFBGEGGFHFEGGG': 1,\n",
       "         '?@DFFHFFGFGGGHGHEHGHGGGGFIHGGGEHHHHGHFHEGGEFGHGIGEHGGHGGGHFGGHEFIHGGFFIGFGFGIIGIFGGKC4GGHIGEGGIFGKCE': 1,\n",
       "         'B@DFEFFFGFGGGFGHHHGIFGFGGIFGEFFHFFFGHGHEGGEDGFGGGEHGGHHGFHFDFHHGGHFGHGFHF=JJJHGIGHGGHGEEB3EBGGC?GFGG': 1,\n",
       "         '?@@FFFFEGEGGGGFFGHGEGGFCHIFGFEHBIFEGHGEFGGHDGBGGHE>EGHAGEGFGGH;FB6FEGFEDGGFEFIGFGDGCCGGE=GEEGEIFGF;E': 1,\n",
       "         '8@59FF=EGBAGGAFFEBGGG@E4FIHGEE<AI:8-?FGEGBEBGH>96@8EAAG@HCF987?DCDAEHGF>G6J6IB6F4DGGHG@+H@@4F;HCG<E*': 1,\n",
       "         \"8@DFFEFDGBBGGAF>AAG4>C3G=I9GEAG8:FEA,9F.D'G9GH>9@EG9GAA,ACF9EDC,E646H6>>?6C,6G65FG+444=44DFBG2B2*2$'\": 1,\n",
       "         'A@DFDEFGGBGGGDGEAH?CGEFBGFFB.GGHFDHEHGGEGGHHGEGFG@HDDGAGFEBHEBHHGFCE5FEFGDGJIGGIG>?CFDG4BIFGFGCF;F2G': 1,\n",
       "         \"B@DFEHFFGIGGBHFHGHGHFGGGFFFGGGEHHGH;DGEEDDEHGF>FG,H9EH8EFBFGGBFG7,4C5C(5,D,6,%G,CD+'+4'G++24>D3F**+>\": 1,\n",
       "         'B@DFEHFFGGGGGHGGEHGHFEFGDIGGDHHHHHHGHGFEGHHDGFGIGFHGGHGGEJFFFHHHGHGEHFGFGGFGJGGFGGGFHGGELFEGJG3FGGIG': 1,\n",
       "         'B@DFEDFFGFGGGHFHEHGFFFGGHIGGHIEHGFHGHFHFGGHFGHGIGGHGGHGGFGFDGHHHGHFGHIGHFGJEFIGIGHGKFGGFLGGBGEIFGGIC': 1,\n",
       "         'B@DFEHFFGEGGGFGHGHGIIGHGFIGGGGHHHHHHHFFGGHHHGHGFGEHGGHGGFHFHGHHHGEFGHIFGGGJJIGGIGDGKHGGAHFGGDEEFEKEC': 1,\n",
       "         '?@DFEF=@BBBGBHFFDHGHCC?B=>@9EFGHFFFA7GH.G6EFG@GDH@CEGHF?FC5AFFDDC,F,+6EFF6JE6B=FFDC4F:@FBDGG4G<<GEGD': 1,\n",
       "         'B@DFEEFGBGDGGGFHEB?CGFEEDCFGEFHHF:F;HBHFGFEFG@GI@8HCEDGGFHFDGEH@CHFGFGHDFCFGEBGDGG44=DGAFDDEG@3ACFGD': 1,\n",
       "         'A@D<CFFF8BGGBHFDAHGAGGF@=>9G)A<BFDEGHBHFGCHFGCGDHEHG7AJGFBFDGFHEC?FGFCFHFG6?J46F+CGGCAGF+EG>>F3<?@?D': 1,\n",
       "         '@@DFEFFGGEGGGGGEEHGHFGFGFIGGHEHHGHFGCFBGJGEHG?GFIEHEGDJGHGFGGHHGEHGGFGEGGGCGIIDIGGGGCGGGHIDHGFIFGEG@': 1,\n",
       "         '?@DFEEFEGBGGGAGEEHGGDFEFFIFGEEEEHDHGHGHEGDHFGHBFGEHDGHGGFHFHEEFE7HGEFFEGEGDEHGGFFDCG=GGF4IFEA@BFDFEG': 1,\n",
       "         'B@DFEEFFGFGGGFGGGHGGIGGGHIGGGGEHGHFGHFHGHGHFGHGGGGHEGHJGFGFGGHHDEHGGHIHFEGDGFGGIJGGGFGCF=IFHGFHFGGEE': 1,\n",
       "         '@@DFEEFFGIGGGH@FHHGGFCEFFIGGDI<HHFFAHGGFGCHDIH7IDE-D7A,GE9FFEF7GEH4CA?FF7GCEEGG?FDGGHGGGGF2G>DGFGGCD': 1,\n",
       "         '?@DC@FFEGDBGGAFEABGAGEE@FCFGEAFEGGHGHFHEGGEF7HCDG8HDGEJEHGFHGEHGBAA=FFHD?DFEBGGFFDGGFGGFBDEE>FE9D<?E': 1,\n",
       "         \"?@D<@FFEGIB@GG@>GHGIG@E@DIDG=ECHBEHGH9FF7EGF?6GD6GHD78D8FG+GG,H,,,+=+F6F%C,66>,?'H4'++=A4F*+A@<''<;G\": 1,\n",
       "         'B@DFFHFGGGGGGHGHGHGHGGFGHIHGGEFHHGFGCGFGGGHFGFGGHFHGGHJGGGFGG?HHIHGGHEFHFGIG?HGIGGGKJGGGHGGFGGEFGGGE': 1,\n",
       "         '?@DFEEFEGEGGGFFFGHGHC@FGHIGGE9FEFGFHHGG;DCGHGHGGH8HGGGAG7HFFFEEGGFHCHIEDFGFIEGGF>DGCFGGFH+GGAEBF?<EE': 1,\n",
       "         \"?@@CFBF@GBBGGAFFDHGAFEFGDCFGE-FE::F(CGBF@69F,?GFDE-9G,88FC(DAE7@,64,A'>D,,,E6+=,4G(C6+7F=>*G**F*C2'1\": 1,\n",
       "         'B@DFEFFFGIG8GGFHGHGIIGG1HFHGGHHHIHFGDGHGGGEBGFGFHGHGGHFGFHFGEHHFIHGGHIEDDDFEEGG5JGGGFGGGFF<EDG3CGEE@': 1,\n",
       "         'B@DFEHFFGGGGGFGHGHGHIGGGFIHGEGHHFHFGHGHGHHHHGHGGGFHGGHGGGGFHFGHHIHHGHEHFFFJJFIGIFGGGFG3FFFGGFG<FGGIG': 1,\n",
       "         \"B@@FEF=EGDB@GAFDGC?AD@?CFID9HHF-::8A,-(E,,A-,(C'DEH-78F,,9F9E7E,7646F6C57F>EI4,I444C=+3GF+*>4'+*'F+1\": 1,\n",
       "         '?@DCCB/FGBGGGHFDAHGAIF?@FC@GEF<HG:F;C9FFDCHBGBGD6@HEGHJG79FFF,EDCEFGF?HFFCFBI>GDJD?GFDCEB@EGG;G*2F?G': 1,\n",
       "         'B@3FEEFFGHG8GHGHGHG8FGFGHIGGFEFHGFFHEGFFFEEFGHCFGEHFGHHEFCFHGGHCC<=EFGABFG@EIGGFCDDGHGCFHGDFGFFFGGI@': 1,\n",
       "         'B@4FEEFGGEG0GGGGGHG1GFGGF>GGGFCHHDHGDBHG:GEFGHGFGEHGGHH=F:FGFGECCE=GFFABFG?EIIGFFGDGHGGED>GEAEGF;GEE': 1,\n",
       "         \"B@@9EH4FGEG'GH@?GHGGGGGGHFGGGBFHGHHHHFHGHFHFGHGGGFHEG?JGFEFHFDHGIHGGHFEFGGIGIIGFGHGGHGGFGFEFGGIFGCIG\": 1,\n",
       "         '?@D5HEFEBBBGGFGEDHGADG3C=IDG=A<EFFFAEFB;DDE97HCFD.8CGEDDH9F9FD?GGHFGFEHHFAI5BH,FF>CKFGG>BDFBG23FE2IC': 1,\n",
       "         'B@DFEFFGGHGGGGGHHHGGGGHGHIGGHIEHHHFGHFGEGGHFGHBDGEHGGHJGGEFGFFHEEHFGFFFDGGCGIHGGFHGCHDGGHGGGGFC?GKIC': 1,\n",
       "         'B@DFFHFFGEGGGHGHGHGIIKGGHIHGGGEHIFHGHFHEHECFGHGFIEHGGHGGGHFGGGHHEHGGHEIFFGJGIIGIGHGKHGEFFFEEGFFFD@IC': 1,\n",
       "         '?@DFHBFDBBBGBF@>AH?4>@?@GD@G=9<AGF8D?BIEG6H976,96GHD@GAC7B5HAH76CC?=>F6DD6DIEBGA>>+4=GGFHF@4GFF<;CI>': 1,\n",
       "         'B@DFEFFEGIGGGGFHGHGGF@FGHHGGGFGHIGFGHFEEGGHFGHCF@EHDGHGGGCFDEHBGG6CEGG:HGDFGHHGIFHGCFGCAFGEEDGIFGGGG': 1,\n",
       "         'B@DFEHFFGEGGGFGHEHGHIGGGFIFGFIHHGHHGHGHGHGHHGBGFGEEEGEGGEHFHGGHHGHGGHIIGFAGGIGGFGHGGHDGFHDGFGGGFGKEG': 1,\n",
       "         'B@DFEFFFGGGGGGGGGHGDGFFEHEFGEGFBFGFGHBF;DGEFGEBFHEHFGHFGEHFGIEHFGFFGFFEDDGGEIGGGGDGKFDGFD@FGGGEFGEGC': 1,\n",
       "         \"@@DFEFFFGGGGGHGHGHGGGGGGFEGGGFHHGFHHHFHGHF99,,,-+8(D7,,8AHFG8H?6EA46'6,H7,66,+,,+4GG+++++3<4GG3BE*+1\": 1,\n",
       "         '@@DFEBFEGIDGGAGHEHGGFGFGECGGHGEHGEFGHGHEHGHHGHGDGGHDGAHGFGFDF?HFEEHG;@HBFG>EGGGGGDGFHGGFHFGGGEIFEGG9': 1,\n",
       "         'B@DFEHFFGGGGGFFGGHGHFEHEGIGGHIEHGFFGHFHEHGHFIHCFHEEEGGHGEEFFIFHGEEFGHGEFFGFJHGGIJHGKH4=G=FGEGFFFGEEG': 1,\n",
       "         '?@DCEFFFGEA@GAEFGHGCCEGGGF9GGHHHFFH;?BHGDG9FG,GFG@HDGA8CE959GF7HGH?GFG6GGG>EIGGIFDGKF>GF+G*E>DBF2*GC': 1,\n",
       "         '@@DFEFFGGEGGGFFHGHGHIC?EE>HGGFF8H:FD79EEH6H9GHGFHFHEGHJGHHFHFFFGIHGGFG>FF=FEBG=GCD4CC>GEBFEEGFHCCB$1': 1,\n",
       "         'B@DFEEFFGHGGGGGHGHGGFGHGHIGGEHEEIHHGHGHGHEEFGHGFGGHEGEGGHJFHGFHEEHGGHEIHGGGJIGGIFKGKHGGGGFEFGGFFGGGG': 1,\n",
       "         'B@DFEDFEGGGGGFFHGHGIGFGGHIHGEIEHHHHGHGIGHEHFGHGFGEHGGHJGFHFHGEHEGHGGHEIFFGGIIDGIGGGGFGGGLGGEDEFFGEIE': 1,\n",
       "         '?@DCEHFFGEGGGGGHHHGHCFEFDIFGHFCHFGEGEFHEGGEHGH>DGFHDGHFGEHBGFFHGEFHGFGHGFFFGEGGFFDGCFGGGGFFGGEEFDGG9': 1,\n",
       "         'B@DFEFFFGHGGGFGHGHGHGGFGHIHGGGEHFGFGHGHFGGHHGHGFHEHEGHJGHHFHGHHFEEGGHFHGGGGIHIGGGHGFHAGFDFGFGFI<E2CG': 1,\n",
       "         'A@DCHDFEGEGGGFFFGHGIGEFFHI9GGFFHGGHHEGEEHCEBGFGFHGHEEHJGEBF9FFH@EHAGHFHD?GFEIGGGGDGFHGGGBFFGD;IFEGCD': 1,\n",
       "         'B@DFEFFFGGGGGFFHGHGHFGGGGIGGGEEHHHHGHGHGGGGHGHGDIEHEGAGGFJFDEFCGIHFGHFEHFBGGHGGIGKGFFGGFGIGG>FIFDEGG': 1,\n",
       "         'B@DFEE=FGHGGGFEHEHGIIFFGHIHGGFHHGHFDHGHGHFEDGHGFDEHEGHGGFGFAGDDGGHFGD6IHFFJIIIGFGKCGHGGFJ3GBGEEFECE>': 1,\n",
       "         'B@DFEHFFGFGGGFGHGHGIIGHGHIGGGGHHIHFHHGHEGHHFGHGDGGHGGHJGGHFFGHHFIHFGHIEGFGGEIIGIGGGKHGGFGIGGGFFFGEEE': 1,\n",
       "         '?@@F@B/F8EGGGA4>AHGAG3?@DC@GEFC8F-EE7B-.GCE-GFG9@ECD7HHGE9FFGE,ECAAC>?6G7ACE6DGI4D=G4DG4FF2+GGB2EC?C': 1,\n",
       "         '@@DFEFFFGGGGGFFHGHGHIFGGHIGGHHEHHHFHHFHFGHEF@HGFGEHGGHJGFJFGFHFGGHFGHFHGFGJIIIGIGGGGFGGFGGEGDFFC?ECD': 1,\n",
       "         '?@DC@EFE8BB@6AFEAHGAF@?GE>9?.9HHGGF;HBBFH,C9GFGDH8HCD8F8HE5DF7BD73HGG?EFG66BI4BAFH?>HGGF4FG>AEFF;2GE': 1,\n",
       "         'A@DFEHFEGEGGFGFHGHGIIFGGFG<GFGHGIHFHHGHGGCFDDGC@GFHCGHGGHHCGBH<DGEFGHCICECFJCGGFDHGKCFFFBIGEFGEFEGID': 1,\n",
       "         '?@DFEHFEGBGGGGG>EHGIGGFGGIGGHFEHIHHGBGGGDGEDGHGIGEHEGHJGHGFHEFEEGFGGHGIFFDGGIG=GGDGGFGCFLGEB>FEFGFCD': 1,\n",
       "         '@@:C@E=GGBGGGD@EEHGAD3EBEFFGE9<HBCEAHBHEGHE9GEG9@8DD78JEEHF-87E6EHAGDI65DGIBB4,AF>C4FG=GL3<GA;EFGK2D': 1,\n",
       "         'B@@FEFFFGFGGGHGHGHGDFGGGFIGGGFHHHHHGHFHGGGHHGHGFGEHGGHG8FHFHGGHHEHGGHIFKGGJJIGGIGGGKHGGGGIGGFGIFEGIE': 1,\n",
       "         'B@DFEFFEGFGGGHFHGHGDIGGGFIGGHFEHHHEEHF9EHGGHGHGGGFHECHGGFHFHGDEGGHGGHF>FFDIIFIGIJGGGFGGGGIGEGFFFGEEE': 1,\n",
       "         'B@DFEHFFGHGGGHHHGHGIIGGGGIFGGHHHGHFGHFHEHGHHGHGGGEHGGHJGGGFGFHHGIHGGHIIGGDJGIIGIJHGFFGGGJIGEGGIFGGIE': 1,\n",
       "         'A@DFEEFEGGGGGFHHGHGHGGGFFIHGGHHHFHFHHGHGDGHFGHGFGGHGGHGGFHFHGHHGEHHGFFIGFGJEFGGGFDCFFGGFGIGFGEEFGGGE': 1,\n",
       "         '?@DFCEFGGEGGGGGFEHGCGC?FFFGGHGHBBHF;BFEGGDHH7HGDGGHGGHGCFCFFFFCGG?FGHCHGG,>IIGADJHGCHAGFF3G>A;HB2C+E': 1,\n",
       "         'B@DFEHFFGEGGGFGHEHGHGGGGFIGGGHHHGHHHHFHGGGGFGHGFHEHGGHJGHJFGGHFHGHGGHIEFFGIIIGGFGDGFFGGFGIGGGGHFGGE@': 1,\n",
       "         'B@@FEHFFGGDGGF@HEBGFGGGGFIGGGGHHG:HDHGEG@HEFGECFGEEEGHHGAGFAGDEGEHCGFCIDGAGGEGGF4DG+FGGFJFEFDFECGCEE': 1,\n",
       "         'B@DCFFFFGEGGGFFFAHGECFEFFIDGE9<E:FFDH9H;DDGHIFGD@F8EG,GGGEFG8EH@BFFE5FEFFGGEIDG?F>GCFG<ABFEEDF<22C2D': 1,\n",
       "         'B@DFEDFFGEGGGFFEHHGGIGFBDHFGEEEHHFFGHGHEGEEFGHGDHGHGCHGDHGFHGHC@EHHEFGFBGGFJHGGFFGGGHG=FHIGGAEHFGCIE': 1,\n",
       "         '?@DFEFFEBEBGGGGEGHGGFEFGFIFGGEGHHFHAHGHGGHCFGHGDGEHCGHDGHGFGFFFFGHG6HIHFFGGJIGGIGGCGFAGFDIGGADCFDGIE': 1,\n",
       "         'A@DFEHFEGHGGGHFHGHGHIGGGHIGGHEEHHFHHHFHGHDHHGHGFHFHDGHJGFJFGGHHHIFGGHIFGFGJEIIGFFHGGHGGFDIFFF@IFGGI@': 1,\n",
       "         '?@D<DBFDGEBGBFFEGHGAC@?GD>GGFFGHBFHHHBB;GDEHGEGF6EGCGHAGEE5DAF?DEHGGFCEFFBFBIGDFJDGGFGGFFFFEGGCFDKG1': 1,\n",
       "         '?8DC3B=EBBB@BA@FEHGE>@3@GEG9EFFHFH8GHBFF@D9HG6G9@EAG@?A879F9-F?,EH46F6IDED6?B4?FF4G4H:+4B@<BGF3*?C?E': 1,\n",
       "         'A@DFHFFEGGGGGAG2GHGHF@GGEI9G=FCBFEH;H9G.GFHB?EGDDGCEGHDGEBFDAEH6EEFEF?EGFGGIH>DFFD@C=>C>DFG+D;HF22CG': 1,\n",
       "         'B@DFEFFEGHGGGGFHEHGIIGEGHIGGEFEHGGFHDFHFGGEFGHGIGGHFGHJGHEFHEHFFGHFGFFHDGDJGIGGIGGGGHGGFHIGH>EHFGKIE': 1,\n",
       "         'B@DFEHFEGHGGGGFHGHGHFGFGHFGGEHFHGGHHHGHFGHHFGHGGGGHFGHGGFJFHGHHFIHGGFEHDGDGGFGGGJGGFFGGFJIEEGGEFGG;E': 1,\n",
       "         'A@DCEFFEGGGGGFFEGHGHIFFGHIFGFE<HFFEGHFH;HGHFGHGFHGHEGHJGFGFF8FFDEHFEFIIFFGDEEGGGJDGGFDGFHFG>DFBFGGGG': 1,\n",
       "         'B@DFEFFGGIGCGHFHGHGHGE?3FEFGEGFHH:FHHFGFGGHFGHGDDEHGCDGGEHFHFEHFGHGGDIHDFGDGIIGIJGGGFAGGGIGGDDFCE@CD': 1,\n",
       "         'B@DCEFFFGEGG:FGHGHGHGGFGHIFGGHFHGFFHEFHFGHEFGHGDHEHEGHGGGJFDF=HDEHGCHFCFFAGIIIGGCGGCHGGFHEDGGCGFGFGB': 1,\n",
       "         'B@@<EFFG8EGGGDFFAHGH>GFFEDGGEFFAFHFACFHEDGGHGHGF@EEEG?FCEHFHFF7@BC?=DFH>ECDGHIGDFDG4HAG4BE*B>@BCEFE@': 1,\n",
       "         'B@DFEHFFGGGGGHHGGHGGIGFGHIGGGHFHGFHHHGHFJGHFGHGEGGHFDHJDHGFHFGG<GBFGHDICEEJJHGGDGCGFHGGFFIGFGFEFGEEE': 1,\n",
       "         \"?@@<@BFDGBDGGAEEAHGGFF3EHF@GDFGH:EF;CGB;@GHDG?7'6EDD7?GGA9FHAGC@EHFG+FFHEDGI6GGDCC4+FDGADED4GFHF?C?E\": 1,\n",
       "         '@@DFEFFEGGGGGGHHGHGHFGEGGIFGGEHHHFFGHFEFHEGHGHGFGEHEGHFGEHFGGFEGGHFGHEFGGFGG?IDFGGCGJGGFBGGGDGCF2G;E': 1,\n",
       "         '@@DC@8:D,GG;G:;HGB?6>CG*F7;36F4:GEB%C.H86FC-;FCFHEDDA8AG7HI987HDCDFCAFEBFGJEH>GICHGGFG<FBIG>DFGFDG;>': 1,\n",
       "         'B@DFCFFFGGGGGFGHEHGIFGGGFIHGHEHHIHHGHGGEGHEFGHGFGFHGGHJGHEFDFGHGGHFGHFIFFGFGIIGGGGGGHGGEHGGEGDGFCCEG': 1,\n",
       "         'B@DFEHFFGHGGGFFHEHGIGGHGHIGGDFEHGHHHHGHFHHHFGHGGGEAGGHJGHJFHGGHGIDGGHEFGGGFJFIGFGGGFFGGFGIGEFEIFGKIC': 1,\n",
       "         'B@DFFDFEGEGGGFGHGHGIFGGGHIFGFGEHGEFHDFHEGGHFGHGFGGHGGHJGGGFHGFHGCHGGFFIHFGGGBGGIGGGGFGGFJEEGGDHFGGIG': 1,\n",
       "         '?@DF?FFEGGGGGFGGHHGHFKFGFIGGFFGEGDFGHFIEG6HFIEGGHEHEGHDGECFHGDDHGHFEHFIGG=>EED=FFG=CFGGFDFGF>F<FG@+G': 1,\n",
       "         'B@DFEFFEGGGGGFFHGHGIFGGEHIFGFFHHIHHHHFHGHGHFGHGIGGHGGDJGGHFHGDHFIHGEHFHFGGJIIGGIGGGGFGGGHIGGGFGFGGGE': 1,\n",
       "         'B@DFEHFFGHGGGFGHEHGIGGH@HIFGGIHEIFHHHFHGHGEFGHGIHGHGGHGGEJFGGFHFIHGGHFIFFGIGEIGFGGGGHGGFJIGFFEFFGEEE': 1,\n",
       "         'B@D<FBFE8B6GFHFDAHGF>@F@FG9?=EGGGDF;CGHGGC4DDGC4G@H;GHGGHCCG5B?7587GFCH89CFB:B6ID>GGCFFFBID>FFIF?K?1': 1,\n",
       "         '@@DFEHFEGFGGGFGHGHGIFGHGHIHGGHHEGHFHHGFGGGHGGHGIHFHFGHJGFGFHGDDHEHHGHFFKFGJIIHGIJGGGFGGFGFGEJGIFGKEC': 1,\n",
       "         '?@19EEF@BBG@BAEEGHGC>EF@ECF?GFGHFFFGBB9EGGCHGCDFHEADGDHGHGFGGDHHGHFGHCFD7FF?BGGF4HEGFAGEHIGFAGCFGFGE': 1,\n",
       "         'B@DFCFFEGHGGGHGHGHGIIGGBHIFGGEHHIHHHHGHGGGHFGHGGHEHGGHJGFGFHGDHHGHHGHFFDGGGEJIGIIGGGFGGGGFGGGFHFEGEE': 1,\n",
       "         '?@DFEEFFGEGGGFGHGHGHFGGGHIFGGHFAGHHHHFIFGHHFGHGIG@HEGHGGFCFFGGHECHGGHFEDFGJEHDGFFGGGFGGFDFGEAEFFGGI9': 1,\n",
       "         'B@DFEFFFGGGGGFFHHHGIFGGGHIFGFHEHIFFHHFHGHGEFGHGFHFHEGHGGGHFHGDHGBHFGHIGBFGDIIDGFFGGFFGGFLGGEAFFFEGEE': 1,\n",
       "         'B@DFEFFEGDGGGGFFGHGFGGEGE>FGEFFHFEEHHGHFDGEDGH>F6FHDGHGGGHFHGEDG7EAGFI>DDCFG?HGFJCG>HG@EF3EEGE<FCC;C': 1,\n",
       "         'A@DCHEFEGEGGBFGDDHGIGGH@=IGGEFCEHHFHHBEFGHHBGHGGGE8DGHGGAGFAEHHGEF4EBCIDGAJBEIGGFCGFFGG443F+DFICGCGC': 1,\n",
       "         '.@@C@EFDGGGGGGF5EBAH>CG4=1G9DGFHGEEEHBHEG6HDGHGFGEEEGHAGECFGEHCDGCCCFFEGDGIBEIBIFDGCHDGFJGEGG;CGDGG:': 1,\n",
       "         \"8@@FDEFFGFB@GF@>AHGA>@?@0I@-=GCBG:E;HG9FGDCBG6GDH,HGC,G,7CF-8B,6E,C6BI(+?,CB,+,,+4+4$+=EG+*'DD'**<2*\": 1,\n",
       "         'B@DFFFFFGEGGGHFHDHGHGGFFHIHGHEEEGHHGHBGGGGHHGHGEGEHFDHJDHHFGFEGDGB8GHDHC;EDGEIGDGCCGHGGGHGGEDFGFGFED': 1,\n",
       "         'B@DFEHFFGDGGGFGGGHGGFGGGHIHGG4HEGEHGHGFFGDEFG?GFHEHGG>FGGHFHEEHEGHFGHIEFGGGJIGGIGHGGHGGFFGGFFFIFGEI@': 1,\n",
       "         'B@DFCEF@GDGGGAFFDHGIGEEBHF@DHEHHFFFGDGFFDBHFGFGF@EEGGHGGFGFFF?H@CFGGBFCFEGCGHGGICDGCHG3EBIGEGF3CCGC9': 1,\n",
       "         'A@DFCFFGGEGGGGFAEHGGGGFGFIDGEEEHGGFHHFHGGHHDGHGFGEHFGHHGGGFHGEHGEEGGFFIBFGDGIGGIJGGFHGGEDIGGGEIFGGGD': 1,\n",
       "         'B@<FEDFFGHG(GFFHHHG1GGGGHIGGGEHHGHHHHFHE9DEHGEGGHEHGGHGEFCFHGGHCCEDGHFABGG@IIGGAGCDCHGGGJIGEGGHFGEIE': 1,\n",
       "         '*@D<@B/DBBB@BD@G5<G4>3GGDCGGEAGBG-FG7G-F7CG9,,GD(@89-A8C7-5D8,?6CH4GFCE+D,DGI4=,CCG4C+CABI2+G2C9?CG*': 1,\n",
       "         '@@DFEDF<GGGGGFGEHHGIFGFGEIAGHHFFCHC:CEC:EBFE@?DFG<CFEEDCAF9C4CF@BBD6DD@BFFBEAECBBEDEFFCDBDDBEC>5C;ID': 1,\n",
       "         '@@DFEHFFGHGGGFFHHHGIIGGGHIFGHGHHHHHGHGHEGCGFGHGIHGHGGHJGFHFHFHDGIHHGHIIHFDIEIIGIJHGGHGGFGIGFJEHCGKGG': 1,\n",
       "         '@@DFH6=DGEGGGAEGGHGEGGGG=CF9DA<HFFEDCGGEGCGBGHGFGEECGHHGGJ=DGFHGGAF6F?EFFFFE,GGAGDGFFAE>HFGFD@C?GKI@': 1,\n",
       "         'B@DFEFFFGFGGGFHHGHGHGGFGHILGFHHHGFHGHFFGHHGFGHGIIGHFGHJGHJFHFHHFIHGGHFIFGGJJIGGIJGGFHGGFGIGGGGIFGKGG': 1,\n",
       "         '4@DFEFFEGFGGGGEHGHGGIGFGFIFGGGHHIEFDHFGEDDCFGFGFG@HEGDHEFHFHEDHEEHFGFGEDGGDIIB>AFD?GFD3EHIGGGEGFCE2D': 1,\n",
       "         '@@DF?DFE4IBGGG:FE1GIFGFGEIGBE@<EHEFGEBGEH6CDGF>G,62DDGAEAH5HFGE@E6CEHCCHFDFGBIGIFDGFFDGEJFGFGFE2GEI1': 1,\n",
       "         'B@DFEFFFGEGGGHGHGHGHIGGGFIGGDEEHFEFGHFGEGFCFGHGGGFHEGDJGFHFGGHHGGH?GHEFFGGDEIIGFJHGKFGGFJIFFGGCFGEEG': 1,\n",
       "         \"A@DFFFFFGDGGGHGEGHGGGGFGHEGGEEGEHGE;HFHEHDHHGHGGGGDEGHG8FCFHAGHEGHHGHGHFFCFGIGGFFDGC=DE4DFDGG;HCC2;'\": 1,\n",
       "         '8@DFEDFFGBBGGHFHHHGHFGGEFIFGEFFBHEHGEFHEGHHFGHGGGEHGGHJGFHFHFHHDBFFGHG>HEAIEIBGFJDGKHGGFJFGE>FH?GGE9': 1,\n",
       "         '?@DFH6F@BBGGGFGEGBGI)@FGFCDGE-GH:GFEBFH;7BEF7F,GDEHEG?,8,H+FFB7EEAFGF?C57G6?,G6F4C4CC4<AFI<G4FFF22GE': 1,\n",
       "         'B@DFEHFFGGGGGFFHGHGGGGGGHIGGGHEHHFHGHFIGHGGFGHGFGFHGGEFGGHFHGHHEEHFGFFHGGCGGEGGFGGGGHGGFGGGGGFHFEGIG': 1,\n",
       "         'A@DFEFFFGGGGGFGHGHGHFGGGFIHGGHHHHHHGHGHEHGHFGHGGHFHGGHGGFHFHGHHHEHGGFIHGFGJJHIGIFHGGFGGFGDGGFFEFDGIG': 1,\n",
       "         'A@@C@BFEB7BGGFF>GB?AFCF4FF@G=FGEHHHGCGHFDDCHGH7DGE>DGAFGAB5HA7?FE?46FFEFFFCGI4G?FDGGFGEA4FGFFFGFDEED': 1,\n",
       "         'B@@<@FFGGG6G66@>EH?AG@?@=>99.AG8GDFHH9HEGBHHGHB9GEH9DHGCFGF9GB?,CHF6DC,D7FI?BB=5G4G4FGGF4I<FGE<<D<C9': 1,\n",
       "         '?8@F@BFEGGGGGHFFAHGEFG?GD0DGH9CH::F;H9E;DF-DGEGG@ECDDAJEH95HGHE,G?F=+FCFEDCE?HAIC+GG443FJE2GGG<922;1': 1,\n",
       "         'B@DFEHFFGFGGGGGHDHGIIGGGHFGGGGFHGGHHDFHGHHEFGHGGGEHGGEGGGEFGGFHGIHCGHGEFGGFJIGGIGDGGJGGFFIGFFGGCGGGE': 1,\n",
       "         'B@DFEHFFGFGGGHHHHHGIGGFGHHGGEGEHHEHHHGHGHGEFGHGGHFHEGHGGHHFGGGHFGH?GHFFKFGJJIHGIGGGKFGGFHFGGFGIFGGID': 1,\n",
       "         'B@DFFDFFGDGGGHGHGHGHIGFGHILGDIFEGGHGCGIGGHEFGHGGGFHGCHFGEEFGGGHFEHFGHGIFFGJJIGGFJHGKFGGGFGGFGGGFDGIE': 1,\n",
       "         'B@DFEFFFGEGGGHFHEHGIIGHGHIGGHGHHIGHGHGHGGHCHGHGIGFHGGHGGHGFHGFHGIHAGHGFBFGJIEIGAFDGFFGGFGFGGGGHFDGGD': 1,\n",
       "         'B!DFEFFEGGGGGAEFEHGHDCFBECGBEGFEFFEGHGFGGGHFGF>I@EHGGAHGFHFGEHHHG6GGBFIFGADEHHGFGHGFCGGAF+GEADHBG<E@': 1,\n",
       "         'B@DFEHFFGDGGGGGHGHGGFGGGHCGGDFEHFGHGHGFEDE9FGHGFGFHGGHGGEGFGGGHFIHFGHFFGGGDGIIGIGGGFFGGF4FEGDF<FGFEE': 1,\n",
       "         \"?@@F@B=@BEBG664EE<GCC3ECE>FG=FGH:E8EHF9FGGHDGH7F6E897D,G7-59F,D,CH?=+,G5',,,6H6,4++4+GG+BFGG4*+*2*EG\": 1,\n",
       "         \"?@:C@BFGB7D@6A@>EHGA>@3@0IG?=9C-BFFECBEF@GH9IBBD@E8CG?F8G-FD-?D@B'F6DF6D,BIEFGG,CGGC4$GF+I24>D'2GC;1\": 1,\n",
       "         'B@DFEFFEGGGGGGGHGHGGGGGGGFFGEFEHHGFDCGFFHDEFGHGGGEHECHGGGCFGFEHGEHGEHCIDFCFEEGGFFDGGHGGGDDGHGFFF;FGC': 1,\n",
       "         '?@DFEFFEGEDGGFGHGHGHFGGGGIFGFFHEGGFHHGHFGFEBGHGFGGHECHJGHGFHGDHFGHFCDFHGFGJEIDGIGGGGHGGAHD@EGECFGEEC': 1,\n",
       "         'B@DFEHFGGFGGGFGHGHGFGEGGHIDGGFEEGHFGHFHEHFE9GFGFGEHGGDGGHEFHGHCEIHF6HFHGGAJGIGGGFGGGFGGFHIEGGGIFDFGG': 1,\n",
       "         '8@DC@BF(8BB@GFGFAHGH>EEG)CFGEI<EB:FECFH;G6H9?HGDDE8D7DHGF-FFF7CGEFCG>6CF7CCIEGG5FD@CF:GFFF<B>GCAG@;1': 1,\n",
       "         'B@DFEDFGGEBGGGGHEHGEFFFGDIFGGFFEFGFHHGHEGFCFGECGGGEEEHGGEGFDGFFGIECGF?CBFCFIHDGIFHGGFG3FHEEG>FFCGFI1': 1,\n",
       "         'B@DFEEFEGIGGGFFEEHGEFGFGFCGGGGHEGH8EHGGGGDEDGHGFGGHECAFGHGFFGEEGCHGEBFEDGGFEEGG?FHGGFGGFHFGGGFEB;F?G': 1,\n",
       "         'A@DFFFF@GDGGGHFHDHGEFGHGFIDGEE<EFFEGCBHFGFEBIHGIHEHEGHGGFHFHFEH@BHFEBFEB?GGGIIGICC?CHGGFHFG>GFHF?2CD': 1,\n",
       "         'A@DCEEFEGGGGGFGHGHGHFGGGHIFGGEEHHHFHHFHGHEHHGHGIHGHEGHJGEHFFGEHGBHFGHIHGGGDJIGGIFGGGHGGFGFEEGGHFGGGG': 1,\n",
       "         '?@@FEB/FGDGGGGE>GHGFDEHFFI99GFCHIEFHCGGE@HEDGFGEHEHDDEDDEGF94FG;BB8EFDE7EECGHHGDF8GFFGGFL3GFGFG22CG@': 1,\n",
       "         '?8:C3HFEB7B@664FA<G4IC?GDC)9=ECH:F8;CGH;7EE(?H>9@E8E78D8H95A-?F6G6HG5?>B7A6?,4,ACD+GFGC4432>A;+??<;1': 1,\n",
       "         'B@DCEFFFGFGGGFFHGHGHGGHGFIGGHIHHGHHHHFFGGGHFGHGGGFHGGHAGFGFHFHHGEHFGHGHGGGJGFIGIGHGGHGGGHIGGGGIFDCEE': 1,\n",
       "         '@@DFEHFEGEGGGGHHGHGGFFGGHIGGFHHHIFFGHGHEHHHHGHGIHFHGGEJGHGFGGGHHIFHGFIIFFGIIEIGFGGGGFGGFLFDGGEHFGCEE': 1,\n",
       "         'B@DFEEFEGFGGGGGFGHGGGGGGFIGGGIHHGEHAHFHGGDHHGHGIGEHEGHFGFHFHFDEFEDGGHFCDFGJEIHGFFGGGHGGGFFGGFFEFGCID': 1,\n",
       "         'A@DFEEF<8HGGGGFEGHGHGGFGHIAGFF6FCHCDCECDEBF5@?DFH>CFEHD<AF>CACF@B68B8D@BFFBEAE:BBEDEFFCD7<9BE8>AC7CE': 1,\n",
       "         'B@DCFE=>GGGGGFGEGHGHGGFGHCAGEFFFCFC;C6C99BFE8?<FG-CFEED9AF>CACF@BB99<D@80FB7AECBBE7-F2CD9<DB7C>4:CE@': 1,\n",
       "         '?@DFDEF<GIDGGAF7GHGFCEFE=CAGEEFFCHCDC5CD7BFE@59FH>CFEG99AFCCACF@BBDB89@BFFBEAECBBEDE5FCDBD5BEC>ACCEG': 1,\n",
       "         'B@DFEEF8BFGGGFFEDHGGGGFGDCAGFEFFCFC5CEC8EBFE@?DFGCCFEHD:AF<CACF@B7DBDD@BFFB7AECBBED7FFC5BDDBEC>AC9EE': 1,\n",
       "         '?@@FFEFBGIGGGFFEGHGGICFGHHAGGHFFCHC:CECDEBF5@?DFH>CFEHDCAFCC3CF@B7DBDD@BFFBEAE:BBEDEFFCDBDDBEC>ACCGD': 1,\n",
       "         '@@DFEFFBGEGGGFFEGHGHGFFGHIAGHGFFCFCDCECDEBFE@?DFHCCFEEDCAFCCACF@BBDBDD@BFFBEAECBBED5FFCDBDDBEC>ACCIG': 1,\n",
       "         'B@DFHEFEGEGGGFGHHHGHCFGGFIFGEFEHGFHHHFGEGEEFGHGIGFHGGAGGGHFHFFHGGHHGFIHGEGDEFGGIFHGGHGGFFIDGGEHFGFCE': 1,\n",
       "         '@@DFEHFFGGGGGFFHGHGIFGHGHIGGFIHHIFHGHFHGHGHFGHGGGFHEGHJGGHFHGGHHGHGEHEFKGDJJEIGIIGGFFGGGLEGFGFIFEEIC': 1,\n",
       "         'B@DFHHFEGFB@BAEFGBGH>GFEGIF?DEFABFHH?BHG@CGBGEGFDEAEDAGGEJFDGBEECCF=+FIGFBJ?HGGD>GGFFGCGB@E>>@<FG@EG': 1,\n",
       "         'B@DFEHFFGDGGBFFGEHGFGGFCHIGGGIEHGFFGHFHGHEHFGHGFGGHGGHJGHGFHFHFGEHGGHEHHEDCGIGGIIDGKCGGFDIGHGEFCGGIG': 1,\n",
       "         'B@DFEHFEGGGGGHGHGHGIGGHGHIHGGIEHHHHDHGHGGGHFGHGIHGHGGHJGHHFFGDHFE?GEFFFFGGJGIIGFGHGGHGGGJEGEGFIFEFID': 1,\n",
       "         '@@DFEFFGGFGGGFGHGHGGFGEEDIFGGGGHIFFHHGGFJGHFGHGG68HGGHJGFGFGGFHFIHCEFGI>GGF?HGGIJDGFFGGFDFD4AGGAGC?E': 1,\n",
       "         'B@DFEFFFGGGGGFFEGHGDIGFGHIG?FIFEGFHGHFHGGFEFGHGGGEHGGHAGHJFHGFFHGHFGHFIFDGJJIIGFGGGGHGGFJFGEAGIFGGED': 1,\n",
       "         \"8@D<3E=@GB6@6HF>5H?E1@?@=I9'.9/A:H-G79-;76H-G?>9G@8G788E7E5-8B?6CH?C5C>>?G>??+GAG4GGF434G3<>AFE922+9\": 1,\n",
       "         'B@DFEHFFGHGGGHHHGHGIIGHGFIGGGIFHGHHGHFHGGGEFGHGIGGHGGHJGFHFHGDHFEHFGFFFFFGIJJIGFGHGGFGGFJIGFGGIFGGED': 1,\n",
       "         'B@DFEHFFGGGGGHGHGHGIIGGGHILGHEHHGGHGHGFEGGEHGHGIHGHFGHJGFGFGGGHHIHGGHEHHGGFGIHGIGGGKJGGFGIEFGGHFGFIE': 1,\n",
       "         '@@DFEDFEGDGGGFGHEHGIFGFGHIG-GHEEGFHGHGHGGEEF@HGGGGHECHGGGGFHFFH@GFFGFFFGFGFJEGG?CHGFFGGGHIDEGGIFGF?E': 1,\n",
       "         'B@DFEFFEBEGGGFGGHHGGFCFGDEF9DGEHFFFAHGBGGGGHGH@F6EHEGHHGFHFHE?HECDCGDG>HEGJEIHGDGGGGCGGGFFG>GFICE@?E': 1,\n",
       "         'B@DFEHFEGDGGGFFHHHGFDFGFGIHGDEHHGHHHDFHFGHHFGEGFDGHDGHGGEBFHGGHFIHFGAGIGFAJJIGGIGGGGFGGFGIEHGFICGGEE': 1,\n",
       "         '3@DFH;FFGFGGGGGHGHGHGEGGFIFGHGFHGFEEHGHFGG9DGHCFGFHEEG8GHBBDEDDD7DFEFEHGDCGGBGGBGAFFCGGEFFDFGEGFGEI>': 1,\n",
       "         'A@DFEHFFGGGG>GFHGHGIGGGGHIGBGHCHHGHEHFGGHGEFGHGGGEHFGDJGGEFGG=FGIHFGFFCFFGGGEGGGJDGGHGGFGE/FGCIAGGGB': 1,\n",
       "         '@@DFCHFE8FAGGFFEEH?HGGFGFIDGEFFHFFHHEGGFDFEBGH7FGF89GH8GECFHGFHEG?GGACEF?GDGFGG5>DGGFGGFF@DGGDBC2=EG': 1,\n",
       "         \"?@DFED=@BBB@BFFFGAGA>FEGF>@9E9<8::B-79E.D6CH,HGF@FEED(HG7EF9FFF@E,GE5'>B7<>?B>DIFD+4FC+FDG2G>FGAC@E@\": 1,\n",
       "         'B@DFEFFE8FGGGGGEGHGIFGFGDI9GEFEHHGHEHFE;GCEFGHGFD@DEGDJGFHFDGFHEEH4EFCE+DGCJI>=AGDGGFG3>F@GE>DEFGGG>': 1,\n",
       "         '?@DFCBFEGIGGGFFHDHGGGGFGHCGGE8EHFHFDHGEE@GEF7EGFDEHE@;GGGG@FEFEDBHHCFFIHGAFJEGGFFCGFFGGFJGFBG@IFGG?@': 1,\n",
       "         'B@DFEFFEGFGGGGGHGHGIGGGGHIGGHIEHFFHGHFGEHGHFGHGIHFHGGHGGHHFHGDHGGDFGFIEKFGFGJIGDJHGFHGGFJIGEFGIFGCEE': 1,\n",
       "         'A@DFEDFEGGGGGHFHGBGGGGHGHFFGDGEH:EHGCGHFDDEFG@GFH@HDGHHGEHFDFFEFEHFEBFCB7BF6I4G?CGGGFGCFHDGBD2FFGCGE': 1,\n",
       "         'B@DFEFFFGHGGGHGHEHGGGGGGFIHGHIFHFEHAHFHEGGHHGHGGGGHGGHHGHHFGEDHFICFGHFEGFFIEFHGIFDGFFGGELIGGFGIFGFCD': 1,\n",
       "         '?@@C3H=E8BGGBFEFEBGAIGFGFIF@FIGHFGF;HGGEHDEFGH>FGEHE78FGGBF9E?DEB,AC5E>HEBDG?IGICDG>CA3A=IGEGGHFE<E1': 1,\n",
       "         'B@D<EFF@BIGGBH@EAB?ACEGEDIGGEFGH:GBDCGGE@BCBGEG9GEDEAH,GHCFHFBDGE?FCF?H5EFG?EGGAI4G4CG=>HDF4G23FEKGC': 1,\n",
       "         'B<AFEFFEGFGGG8HEGHGGGG7GFIHGFEFHIFFGBFGG@GHFGHGGGGHGG;JGFGFHGHHEGHF.HIGKGGJJFGGDFHGKHGGFHIGFGFIFEGIG': 1,\n",
       "         'B@DDEHFEGFGGGGGFGHGIIGFBHIFGFGHHHEFGEFIEHFHAGHGGH9HEGHFGFGFGFDHGIHHGFFIFGGJ;IGGGFGGKHGGFGIGGGGHFGECG': 1,\n",
       "         '@@DFHFFEG+GGGFGEAHGIGFGGHIDGEIEEBFFDDFHFGCCHG?GGGGHGGHDGEHBGIDEEIACGFF>F7BFGHGGFGDGCHDGAFIGG>FGCGG;1': 1,\n",
       "         '@@DFEFFEGEGGGGGHEHGIFGGGFIFGDFEHGFFHHFHEJGHFGFGGGEHEGHJGFJFHGGHHEEGGHIIHEGGJFGGIGGGFHGGGJGGGDGHFGGIG': 1,\n",
       "         \"A@DC@:2EG+B>6.:>A0?BGG?4=8/()F47G:*CC9-8GFC9<@,FG88E7AG87EF-EHEGCE'G56>+FC>EB4GG+44>H4=FGF2BGEH222+9\": 1,\n",
       "         '?@@CH6:DGBD9B=:HGH?6GGEGFDE?.FDDGG2679G8G6EF<EGFG8HDGAFGFCFGEB7DEHFE5CCDGCFB6DGACHC>F?CE4FGFDFBF?@?@': 1,\n",
       "         '@@DFFDFEGDGGGFFFGHGFIEGGHIGGGGHHIFFGHFFFGFHHGFGIHEHGGHHGFEFGGFHHEHFGH6HHGCGEBIGFGDGKFAGFJIGEGGEAGEED': 1,\n",
       "         '@@DFFFFFGBGGGFGEGHGEFGFGFIGGEEEHGGFGHFHEHDHFGHGGGGHFGHGGEGFFGEHGGEFGH6HFDDIJIGGFFHGGHGGAFFEFGFEFGEGG': 1,\n",
       "         'A@DFEHFEGEGGGFHHGHGGIFFGHIFG=IEHHGHHHFHFJHHHG@GFHEHGGGFGFEFFGHHGIHFEFIHHFFJGIDGIJDGGHGGGFIGEGFFFGFI9': 1,\n",
       "         '?@DFFEFFGEGGGGFFGHGEGGGG=FGBGHEBHDEG?FGFGHCBG6GFGGHDGHHGFE5FFDHGGHFEFCEGFG>IE>GFFDGGH?CFG3F4G23FDGGC': 1,\n",
       "         'B@D<EBFFGDGGGFFHGHGEFGFGGIGGGFEHGHHHHF9FGECFGHCGHEHEGDJGFCFHEBHEEHFGHFHHGGDEBHGICHGCHGGFDIEGGGGFGGEE': 1,\n",
       "         'B@DFEEFFGFGGGFGHHHGFG@FGGIGGGGGHFFFHDFIGGEEDG6GGHGDDGHJGFHFFGBFHEHFGHIHKGDJGF4GGFDGGHGEGGIGEGFH9G2CG': 1,\n",
       "         'A@DFEEFEGGGGGGGHGHGFFFGGHIFGGFEEFHFECBHFGGHDGECFHEHGGHFGFCFDGHHGBHAGHGFGGGGGHIGFCDGGFGGFHFGFDFIFGGG9': 1,\n",
       "         'B@DFEEFFGFGGGFGHGHGIIGGGHIGGGIFHIHEGHFHEGGHHGHGFHEHGGHJGFHFHGHHHEHGGHEGFFGFJIIGFFGGFHGGFGIGGGFIFGGID': 1,\n",
       "         \"?@DFCEF@GIGGBA@>DHGCC@?G=>@9EE<A:F8;CFHE7BEF,HGI+(HG788(7B+9ABDD,F4G5?,DG6F6BBG5'>4G''=+BD@>4*392';9\": 1,\n",
       "         '@@DFFHFEGEGGGFFHGHGEGGHGGIGGEIHHHFHGHFIFGFEHGHGIHEHGGHJGGJFGGHHFIEHGHGFGGGJJEIGIGGGFHGGGJEGGGDCFGEG@': 1,\n",
       "         '?@DFFEFFGFGGGHHHHHGHFEFGFEDG=GFHHGFEHFGFGDEFGFGFGGHFGHJGFJFHIGHGIHGGFGIFFDFJJHGIGHGGHG=FHGGFGEIFDG?@': 1,\n",
       "         'B@DF@FFEGHGGGGFHGHGHIG?GGID9GFEEFFFHCGGE@G9FGHCG@EHDGAFGFHFFAF9EE*AGGG9BGADBE4GICGGCF+@4D>@>FFC?E<CG': 1,\n",
       "         'A@@CEBFFGB6@G6GEGH?4DEGGG>99=GFH:DF;H9BE@6A9@BGD@EEDDDA,FEFG8B?G,HC6F,CFE66EHDG5FHGFF43+=DGE+DHCEC?1': 1,\n",
       "         '?@DF@6=DB+6@GA@HAF?G>@GBFDD?.HCH:DF;7F9EG699@H@DG@>9A8HGFJFDGECGBCGGHCCBF6>B?BBIC>=G=>G>=3G4GFG<?GID': 1,\n",
       "         '?@@FEEFEGEGGGFGHGHGGFGFGFIHGGEHHHHHGHGHEHEHFGHGGGFHGGHGGGGFHGHHGEHFGHCIGFGJIFIGIGDGGHGGGGIGGFGHFEGID': 1,\n",
       "         '?@:9@BFFGDBGGF@GAHGACF3GFHDGE-FHB:8GBF9F@EC-GHGF@@DEGDACGCF9FDEGGHFGFE6+EF6BHGG?F>GGFD=GHIG>4@B2?KC9': 1,\n",
       "         \"88DFDBFEBBB@GFFEG<GC>CGGFI@G.9HE:HHE,B-G@DCB76G96@E9D8,8AC=FFB7FBA?EA?CF?'6E6GGAF+G>FD=>=D@4D@CCG<29\": 1,\n",
       "         'B@DFEHFFGDGGGFGHGHGHFGGGHIGGDIEHHHFHHFHEGGHHGHGIHGHFGHHGFJFHGHFFGHGGHFHGGGIJFIGGFGGGHGGFJIGGFGIFEGED': 1,\n",
       "         '?@DCFBFDBGBG6G@2DHGGDEEG=IF9EFCHGFF;HFB;GFEHGHGDGG8CDEFEHEF9FEHHEEC=H?ID?AD?H4GDFD@F4>GE4324GE<FG@G9': 1,\n",
       "         'B@DFEFFEGDGGGFFHGHGHFGFGHIHGHGEHHFHHHGHEGCGBGHGFGFHEGEGGHHFGFGHEGHGGFGFDFGIIHGGIFCGGFGGGJIEGFGFFGKGE': 1,\n",
       "         'B@DFEEFEGEGGGGFHGHGHFGGFHIHGGG<HGEH;HFHGGHHHGHBFH8HDGAHGGHFDEGDGGF4C;@E9EFDGG>GA>>EGFGGFFD<GGFHFGGEC': 1,\n",
       "         'B@DFEFFGGFGGGFFGGHGFIEFBFFFGEFHHFGEAHBFFGFCFGHGFGGHGGHJGGGFGGFHFGHFGHIFHFDIII>GAGHGGFDGEDIGEFEG?GCCD': 1,\n",
       "         '?@DFHHFFGEDGGFGEGHGEGG?FDIFGFGHHHEEACFFEHEHFGHGGGGDDGHFGFCFHGGEGGCFGHF>HGCIIBG=DFDGGFGGFGFGEDDFAEFGE': 1,\n",
       "         'A@@FHDFEGGDGGGFHEHGGGCGGHIGG=FCHFHBA7GGEGBCFGCGDGGHDGHA8GHFFEF?GB?+G>?CDDB,GIGGAGCCGCA=FHFG4A@BFC<C@': 1,\n",
       "         'B@DFEHFFGGGGGFGHGHGGIFFGGIGGEHFEHHFGHFFEHHHHGHGFHEHGGHHGFGFHGGHHEHHGFIHGFDIJIGGICHGGFGGFLIEGJEIFGFED': 1,\n",
       "         \"A@@F@B=EBB6GGFF>A<?GCFFFGCGG=(CEFH-GBG9ED6H9GF@9@@8DD(8,,G5-A,,6,H46AFC5F,',,'6,>CC4=A++++F>GF+<*2G1\": 1,\n",
       "         \"?@:F3+F@GDB4GFE>D<?A1G?4D>FB.FEHFF8;H9-GD6H(@6GIG,8FG&8,H9BDA7HDG,'6A66GF,J,,+?D>4+G44G+F3G4A'EAC2+D\": 1,\n",
       "         \"B@DFEBFEGEAGBFFDEHGAGEF4FCF-EGGH.DH;EGFE7EA-GH>9H88DG?D8AH5DAFF6BDHGB?C>F,,,B4GF+C++4D3E'3*+4D3<*C+1\": 1,\n",
       "         'B@DFEDFEBEGGGHFHGHGEGGFGHIGGFGFEBHHHHGIGGFEFGECGGGHEGHGGEGFFGDHGIHCGFFIFFGDJIGGICDGGFDGFGIGGGFIFGCIE': 1,\n",
       "         \"B@@F@EFDGF6GGGFFEEG4>@FGFF@GEFHEB:FHHG9GDBCHGHGIGEHD7AF@EBFAA??FBHFGH?65FGDEBIG5FC+GFD=FF3FFAFE'GGIC\": 1,\n",
       "         '@@DFEHFFGGGGGFGGHHGEGGFEEI@GGIHEHHFGHGHFDECFGHCFHFHGGHGGFGFHFGHGGHCCHCEFGGGGIGGGCDGFHGGFBFEEAF<FDGGG': 1,\n",
       "         '@@DFEFFEGEGGGFFHHHGHGGGGHIGGFEEEHFFGHGHGDEEFGHGGHFHEGDGGHHFGGHHHGHGCHCEHFGFIIGGIGGGFHGGEDIGGDEBFDCC9': 1,\n",
       "         'B@DFFDFEGDGGGFGGAHGEFEGFECDGEFHHHGFAHG9FGGGBGEGGDGDGGEAGHEFDFDDGCFFEFCCHGGF6EHGI4DGF=GGFFFGEFDEFG22>': 1,\n",
       "         \"?@DCFBFDBBGGBDFHAH?A>CFGFCFG=FGHFGFECGGFDEEHGHCFHEHDGGFGHGFAEGC@EEA=BCIBGF>EBBGFGCCF=GG4DFEEGFC?2'29\": 1,\n",
       "         \"A@DCEDFDGEGGBFFEGHGE>@FBE>F9EGCBB:B;C9F(GDE-,FBD@,8-D(88EB5GA(F,%?4G+,FH7,66,4,,+>++++34=>E+A$'2**+*\": 1,\n",
       "         'B@DFEFFFGDGGGFGHGHGHFGGGHIFGHIHHFGHHHFHEGFEHGHGFGFHDGHFGGHFDGFDGEEFGHFFHGDFGHDGI>GGGHGGEFFGGDFHFGGEG': 1,\n",
       "         \"@@<FEHFFGGG2GAE>GHG%GF3@=>FGG(HH::-;B-GF:C9B7,GF6E>DDDH1734-EG?CC75,HIAB7.@E6I6I+C+F4G+>=@D4+@CF2@'1\": 1,\n",
       "         '@@D<FDFEGDGGGHFHGHGHIGGEHIGGGEHEHEEGHGHEGEHAGEGFG9HGGHGGFHFGGEHFEHGGFFFDGGJ.EGGGGGCGHGGFDFGBGGFFCGEE': 1,\n",
       "         'B@DDEFFFGGGGGFGHGHGIG@GEHIGGDFFHHGFHHFHEGEE8GHGFG9HEGHGGGHFHGFHFEHGGHGIHFGI5JGGGGDGGHGGGLIGBFFGFGCGE': 1,\n",
       "         '?@@FFEFFGBGGGFGEECGACE?FFCFGEEFH:EE;HB9EGFEDG6CDD@DDGEFGFGFF8FHGEHGGAGHFFCDEE>GF+C@F4D@>B@FEA;EF2F;@': 1,\n",
       "         '?@@CDEFFBDGGGGEGHHGHG@3B=I9GEEGHBEEEHBHF@G9BGH796FD9DHD87E@FE??EGHC=D?F5E6D6BG6DFDCCFDCF4>@H4DIFGG+1': 1,\n",
       "         '?@@F@BFGGEBGGGGGHBGE>@FGD>G9EAHAFGF;CG9GGFCFICD9GEHDAGFG7GFD-GDDGFHGHFEDEFDBBGG5FGCCCDGFD@DEDFE2GE?9': 1,\n",
       "         '?@:F@FF@8DBGGHFEEH?AF@?GFIFBEEFHG:FAH-FFH6HFG6GD6E89EHAGFBFGGHHG7EFGF?FDG,>E6BGFFC4CF+G4F+D4>DB*D@C9': 1,\n",
       "         'B@DFEHFFGGGGGHFHGHGFFGGGHIFGFIEHIDFHHFFFHFHHGHGFGGHGEHJGGJFHGDHGGHHGHFFHFGGGFIGIFDGGJGGFGIFHGGICGFCG': 1,\n",
       "         '@@DFEEFGGFGGGFGHGHGIIGGGHIGGDFEHGGHGHGHEGHHFGH@IIFHDGHHGFHFGGGHG7HGGHGFDFGFJIHGGGGGKFGEG4EEFGFEFEEIG': 1,\n",
       "         '?@DFHFF@GIG@8FEHGHGEDGFCGGEGDFEGFHHEDBGFGCFDDGC@GFDCGHGCEJCGBF?7G7F6FCE8:12B746IDG?4CFFGBF<>0@B4?2;9': 1,\n",
       "         'B@DFEHFEGGGGGHHHGHGIGGGGHIGGHFEHGFFHHBHGGGHFGE@GIEHGGHGGFJFGGHHGEFHGHGEFGGJJIGGIGKGFHGGFHIGGFFIFEKIC': 1,\n",
       "         'B@DFEDFEGEGGGGHGGHGHFGGGFILGGFEHGGHGHFFEHGEFGHGFHGHEGHGGHGFHFGHGEHHEHIEFGFJJJGGGJKGGHGGEHGDEDEGFGKG@': 1,\n",
       "         'A@DCEEFEGEBGGGE>AHGAGF?GFFFG=FFH:GFGEGHGGDHDGEGDGGDDGHGCFJFDFEDEEAHGD?>F?GGBEDGDGCG>HGEGBDEF>FFFGKCD': 1,\n",
       "         'B@DFEEFFGHGGGGGHEHGFFGFGHILGGEFHFFHHHFFGGGHHGH>FGFHEGHGGEHFGGGHFIDFCHI>HGFGJFHGIFGGGJGGFGIEG>FGFGGGC': 1,\n",
       "         'B@DFEEFFGHGGGFGHGHGIIKFGHIGGFHEHGHFGHGFGGGEGGHGIGGHFGHJGFHFHIDHHEHHGHFFKFGJEFGGIJGGFHGCGFIGEFFIFGGEG': 1,\n",
       "         'B@DFEHFFGGGGGHGHGHGIIGGGFIGGHIEHHHHGHGFGHEEHGHGIGFHEGHJGGGFGGHHHGHHGFEIGFGJIIGGGGGGFFGGFHIGEGGHFEGGG': 1,\n",
       "         'B@DFEHFFGFDGGFHFHHGGFGFGHIHGDAHHGGHHHGFGGGEHGHGFHFHEGHJGFCFHGDFGGHGEHIFGFGIEIGGFFGGGHAGEGFGBGGHFGC?E': 1,\n",
       "         '7@DFEHFFGGGGGF@HGHGHGGFBHIFGHHEHIGFGHGGGGGHFGHBIHEDEGHGGFHFHGHHDIHFEFIFFEGCJIGGDFHGGHGGG4F2BDFGCGGCE': 1,\n",
       "         \"?@DFEFF@BEGGGA@DAE?GCE?@H>-G=9G(:E8;7-H;,69(76,9GF-E'AA879(9-H(,,,F,>FC+,B66'+,,44@>4+=4=+&++@F'G*+*\": 1,\n",
       "         'B@DCDEFEGBGGGGGFGBGFGCFBHCHGHHFHHGE;HFFEGEHFGHGDGEHGGHDGHGFHFGEEGHHG>FHFF:FGEG=FC>GGFCGFDIGBG@CF;CGD': 1,\n",
       "         'B@DFEHFEGFGGGFFHHHGGGGGGHILGFIHHIGHGHGHFGGHFGHGFGEHGGHJGFJFGGEHFIEGGFIIFFDGJIGGFJGGCHCGFDFGGGGHFGKGE': 1,\n",
       "         'B@DFEFFFGEGGGFGHGBGFGGFGFIFGEFFHFHFHHFGFGDHHGHCGHEEDCHGGECFGGFHEGHGGACFFF6GEF4GGFDCFFGGFGFF>G2FFDEE9': 1,\n",
       "         'A@DFEFFE8EGGGFFHGAGIGEHGHIHGEFGEHFFDHFGEGDEFGHGGD=HGGHGGGCFHGGHFGHHGFFHFGGFGIDGIGGCFCGGEGF@EFEBFEG?1': 1,\n",
       "         'B@DFEHFFGEGGGGFHGHGGIGFGHIGGGFEHHHHHHFHGGGHHGFGIGFHFGHGGFGFHGGHEIHHEHIEHGGFEIHGFGHCGHGCFHFFHGFHFDKG@': 1,\n",
       "         '?@@FDHFDGIBGGHFFECGHGGFFGIFGG9CHGHFG?BGEGDGHGFGF6E8GGHD8ACFGEHFEC?C6F?>HFGJEIGGFGGGGFGGABDGEGDFF?G?1': 1,\n",
       "         'B@DFEHFFGHGGGGGHGHGHIGFGHIGGGFEHHHFEHBFGGGGDGF7FHFHGGDGGEHFGEHHGGHFGBGCKEGFEIGGIFGGGCGGEBFGEGGCF?G2E': 1,\n",
       "         'A@DFEHFEGGGGGFHHHHGIFGFGFIFGHGFHIGFHHFFGDGHGGHGFHEHFGHJGFHFHIHHHGHFGHFFHFGJEIGGIGDGKHGGEGIGFGGIFGEI@': 1,\n",
       "         'A@@FEE=GG8GGGAGF9HGF>EEGF0DDEEGB:F8EHFE;@6HF@H79@8HEG8AGGCB-8,DFE?GGF?C5FA>G6BG5C+=4F+E4HF@EAGG?CF21': 1,\n",
       "         'B.AC@EFEB76GB/@>DH?A1@*4=>G9DAHH::FHEBHEGBHFGHB9D@>D@1JGGGFHG?EGEDC1F6FBD6CIIGDFFG4>=43AH+GB>@CF2FCC': 1,\n",
       "         'B@D:EFFFGEGGGFFHEHGIGGGGFIGGGGEEGHHHHGFGHEEAGHGDH9HFGHJGGHFHFFHGGFFGHIEGFGIDIGGIGDGFHD@FGIGFJGFFGGEE': 1,\n",
       "         'A@DFEEFEBGGGGFFFHHGGIGGGHIGGGGFHGHFGHFGGGFHFGHGDGFHDGHJGHHFFEGFGEHGGFFFFFGGGHHGGJDGFHGGGJFGFGDIFEGG9': 1,\n",
       "         'B@DFFEFFGEGGGFFEGHGHGEFGHIGGHGFHHHEEHGHEDDHFGHGFGEHGGHJGFHFHIHFGGHFGHFI>FGFJIIGIGGGFHGGGHIFEGGIFGGIE': 1,\n",
       "         'B@DFEHFFGEGGGFHHEHGFIGGEHIGGGHEHHGFHHGHEHFHDGHGFGGHGGHJGFEFHGGHFEHGGAFHHGGJJIIGIJDGGHGGFFIEGFEGFGGIE': 1,\n",
       "         'B@DCEFFEGEGGG6FEHHGHDGEG=DFGEAEHFFEGDBHGGGHFGHGGHEHGGHHGHGFHGD7HEF6GFFFFGFGEIHGFJGCFHGGAHD@GAFICG@EC': 1,\n",
       "         'B@DFEEFEGEGGGGFGGHGHGGFGHIGGGFHHHHFGHFFEHGEFGHGGHGHGGDAGFHFHGFHGEHBGFFEFFDJEHHGFF4GFH>G>FFFGGFFFDGGC': 1,\n",
       "         'B@DFEFFBGGGGGFGEGHGIGEFGHIAGHEFFCECDCECDEBFE@?DFGCCFEHDCAF9CACF@BBDB8D@BFFBEAECBBEDEFFCDBDDBE:>ACCGE': 1,\n",
       "         'B@DFEHFEGEGGGFGGGHGGGFHGFIHGDGHHGHFEHFFEGHHFGHGFHFHDGHGGHHFHGGHGGHGGHFEDFGJJIIGGJHGKFDGFDIGGFGHCGGED': 1,\n",
       "         \"8@D;HBF@BD6GGG4HDA?A>@?4=>G9FGG8:DFA,-B.G6'97,@96(DF-,H((-=-EF7DIE4(5?6D,D,GJI,,44+C+'=AF'2>+2BB?';$\": 1,\n",
       "         'B@DAEFFFGEGGGAFHDHGFGGGGDIGGGHFHFFFHHGHEGHGFGHGFH@HDGHGGGEFHGGHGEHGGDCIFF6FEIGGAGD@GHD=FGDFEGFCFDGE@': 1,\n",
       "         'B@DFFFFFGEGGGFFHGHGIFGGGHILGDIFHHGFGEGHEHGHHGHGFGEHGGHJGGHFHGFHHIHHGBGH>FGFJFIGDGDGGHGGFHFGFFGFFEGID': 1,\n",
       "         'B@DFEFFFGGGGGFFHGHGIGGG@FEGGDIHH:F8ECGHEGHEH@FG9HGHEGHJGHHFHEEE@GHHGBGGFDG>EBGGFFGGCCGGFDEGEDFCC?GCD': 1,\n",
       "         'B@DFEH=FGFGGGFGHGHGIFGHGHIHGFIGHGFFHHFHGGFHFGHGGIFHGGHGGGGFGIHHGIHFGHFIGFGJJFGGFGDGGFGGFHIGEDGIFGGIE': 1,\n",
       "         '?@DFDF=@BDG4FF@EEBGEFE?B=69G=ACGBDE;DGHE5C4DD)74@8G55,*,HCCGB?:DG37G5C>.EC2?7GGGD>=GCF6ABEDEFFE6D@I*': 1,\n",
       "         '?@@F@EF@BDBGBD@>A<GAD@34F>9GEEGHG:F;H-9.DCCDG6@FG,8CC8A@FB59-,D6GEF=FFIDFCGB,G6F4D+4=+=E=+F>GF<2G2?>': 1,\n",
       "         '?@@<EB/FGB6GB6@>D0GEGF?@HI9G=F<EG6BGEBBFGCEF@6G-GEHCEHGG7G@9ABEGEHACD6CHDF6BIBG,>D@>HGGF=DF>DDGF?GI9': 1,\n",
       "         '@@DFEEFEGEGGGFGFEHGDGGFGHIGGGGEHGGHGHGHGGFHFGHGDHEHGGDJGHGFFGFHHEHHEDFIBFDFEIGGIGDGGHGGFFFEGJFGCGGGE': 1,\n",
       "         \"?@DC@BF@BB6G6F@HAB?DC@?B=>DB=HC8::BG,F(EDFG9G6,'+EH--,8@,95-G7F,,,+=F6(D?G>,?+,5+4'GF+=>B+*4+23F22E1\": 1,\n",
       "         '@@DFEDFEGDGGGFGHEHGDGGHGFIGGHEEHGHHGHGFEHGHFGHGFGEHEGGJGFHFHFFHFGDGGHCIGGGJIIIGIJHGGFDGFJIGFGDFFEGGG': 1,\n",
       "         '?@@F@BF@BDG4GDEHAHGA>@?ED>FG=F<HGF8HH9EFDEHDGECGGEADGDHGE-FH8BDFIHC=5GIHE=DEIGGGCHG>HGGEJD<F>GB<?K;1': 1,\n",
       "         'B@DFEHFFGGGGGGGGGHGIFGGFGIFGFIEHHFHGCGHGHGHHGHGDHFHGGHJGHGFGGHHGGHFGHFFGEFGJFIGGFDGKHGGEHFGGGGIFGKEC': 1,\n",
       "         '?@DCEFFEGIGGGGGEHHGHGEGGDIHGGECHG:FGHFEEDGHBGEGFHGHGEEGDHEFGFFHFBEGEH?CBEAIBBGGF>DGGFGGGHFE4GEFFG<G1': 1,\n",
       "         '@@DFEEFFGGGGGFHHGHGEFFGGHIDGEIFHH:EHDGHFGFEDGEGGHFHGGDJGHHF9IFFGIEGGFIFHGGDEFGGDGGGGHDGG4EGGG2F*G@G@': 1,\n",
       "         '?@DFHB=FBBD*BDFGAH?ADFFB=C@G=F/8:D8G?B9F@F9D?HG-G8HDAGDGAC@AIFD@CF4,AGCF?AD?,DGFGCGGHGGFDFGEADI?GGE9': 1,\n",
       "         '?@@CEFFEBEBGBG@FAHGFDFF@FFLGEFFEGFFGHBHF@CCFG@GDDEHEDHJGEGF9ADDEEDFCDFF>?DFGIBGDGD?G=?<>B><GGEIFGKID': 1,\n",
       "         'B@DFEEFFGEGGGHHHGHGHGEGGHEHGDEHHGHFHHGFEGHEHGH@IGFHGGHHGFHFDGGHGGHFCFFFDGGGIIIGIFDGGHGGGFFEEGFI<GGGE': 1,\n",
       "         ':@DFE@FGGFGGGGGGGHGIGKGGHIGGFHEHGEEHHFHFGEHDGHGGGFHEEDGGFB8GGDHFIFFG5EFGFDI6BGGBJAFFCGGFGFGGGFEFCG+G': 1,\n",
       "         'B@DFEHFFGEGGGHGHGHGIGGHGHIGGFHHHHGFGHGEGHFHFGHGGGEHFGHJGHEFHGGFHIHFGBGIDFGIJFIGFGGGGHGGEFDG>GFFFGBIC': 1,\n",
       "         'B@DFEFFFGFGGGHHHGHGIFGHGHIHGHHEHIFFGDF9EHEHFGHG9GFHEGHJGFCFHGHFEEHFGAIHDFGFJIIGIGDGFFGGGJGGGJGHFEBE@': 1,\n",
       "         'B@DFEEFFGFGGGFFGGHGFFGG@GEFGGHHEFFFEHBGFHGEHGEGDGEHEGHJGFJFGGHHEGHFGFIIHFGFEEGGFJGGCFGGGGEGHGFIBE2E@': 1,\n",
       "         '?@@FFBF@GIGGGGFEAHGEGF?GFIFGDFFEGGFH?GHEGHG9G@GDGE-E7HJGEG@DG7H@EHGEBFFBDGGIBBGIF>G+FDGFGFEGG2EFGKG@': 1,\n",
       "         'B@DFEFFEGFGGGGGHHHGFGGGGHIGGDFCEHGEGBGHGHCHFGHGFGFHFEHGGHJFHFEHHEHFGFEFHEGJEEGGIFDGGFGGFFFGGGFBFGGGE': 1,\n",
       "         'B@DFDHFFGGGGGFGHEHGIDGGGFCGGEHHEFGFHHGBEHEEDGHGGGFHEGHGGECFDGFHGBHFGHGI>DDGEEGGFF>GGF*GFDFGBGFGCECG@': 1,\n",
       "         'A@DCCF=EBDGGGDFFGH?EDGG@FIGGEAHAFHBHDFHEGCCFGHGDHEHGGAFGEG@DF,H6EH?EHGCF?AC?I+GA>GGCFGGGGI2>F@CBDFIE': 1,\n",
       "         'B@DFEHFFGFGGGHGHEHGFGGFGGIHGGGEEHEHGCFHGHCHFGHGDHGHFGHJGHGFHGGHHEHFGFEFDGGJGIGGFFGGCFGEFBGG>GGCFEEE1': 1,\n",
       "         'B@DFFEFGGDGGGHFHGHGIFFFGHIHGE8<HGHFACGHFGGEFGHGDHEHGEBGGEBFGEG?EEHFCFGE5G=>EEGGGFDGGHGGFFFG4FEGCECIG': 1,\n",
       "         'B@DFEHFFGFGGGHFHEHGIIGHGHIGGGHEHIHHGHFHEGGGFGHGIIGHFGHJGFHFHGHHHIHFGHFFGGGFGIIGIGGGKFGGFJIGGFGFFGKGE': 1,\n",
       "         '8@DFEFFEGIGGBGFHEHGGGCGEFIGGHEFHFDFGHBHFGFE-GBD9GEHEGAHGFGFHGFHGEDCGHCED?GIEIGGFFHEFFGGABF2BF2CCD@GE': 1,\n",
       "         'B@DFEHFEGEGGGHFHGHGIGGHGHIFGHHHHIEFHDGHGHGHFGHGGHFHGGHGGGCFHIHHFGHFGFFGHFGIIJIGGGHGGHGGFLIEFGFHFGGIE': 1,\n",
       "         'B@DFEFF@GBGGGAFFGH?ACC?BHI@GGAEBGFHAHGFEGDCFG@D9@EGDGA8GHEFDE7,DCHF=+6CFF=IBBGGA4>GCFGC+DIGGGFCC22G@': 1,\n",
       "         'B@DFEHFEGDGGGHFH<HGHIGGGHIGDGEHHFGFGHGHGGEHFGHGIGGDEGHJGFEFHGGFFEHGEFEHGFCIJIIGIGHGGFGGGHI@FGEIFEGI@': 1,\n",
       "         'B@@FCHFFGFGGGFGAGH?IGEGGFIGGDIGHHHHHHGHEHFHDGHGGGEHGAHDGFB@9FGHFCHGGFG,FGG>JIGGFF>GGFGCEFFDBGDEAC2E>': 1,\n",
       "         'B@9:EH7EGHGDGG<7GHGHIKHGHIGGHBEHHFHGDFGGHHHFGHGFHFHGG?GGGHFGFDHFEHGGFIIHEGIJJGGFGDGGHGGGJGGFJEEFGEIE': 1,\n",
       "         'B@DDEHFEGEGGGHFEGHGGFGGGHIHGHGFHFFHGCFEFGGHAGEGGH9HGGHJGHGFGGDHHIHGGFCGHGDJ;IIGFGGCKHGGFFIGFGFFFGGIG': 1,\n",
       "         'A@DFEDFEGFGGGFFFEHGIGFFGFIFGGIEHIGHGHGHGHEEHGHGGHFHGGHGGGGFDGGHGGFHGHFEFEGFJHIGGGDGKFGCFHIGBGGIFGFGE': 1,\n",
       "         ...})"
      ]
     },
     "execution_count": 61,
     "metadata": {},
     "output_type": "execute_result"
    }
   ],
   "source": [
    "import collections\n",
    "phix_reads = readFastq('ERR266411_1.first1000.fastq')\n",
    "count = collections.Counter()\n",
    "for read in phix_reads:\n",
    "    count.update(read)\n",
    "count"
   ]
  },
  {
   "cell_type": "code",
   "execution_count": 62,
   "metadata": {},
   "outputs": [],
   "source": [
    "phix_reads, _ = readFastq('ERR266411_1.first1000.fastq')"
   ]
  },
  {
   "cell_type": "code",
   "execution_count": 63,
   "metadata": {},
   "outputs": [
    {
     "name": "stdout",
     "output_type": "stream",
     "text": [
      "7 / 1000 reads matched the genome exactly!\n"
     ]
    }
   ],
   "source": [
    "numMatched = 0\n",
    "n = 0\n",
    "for r in phix_reads:\n",
    "    matches = naive(r, genome)\n",
    "    n += 1\n",
    "    if len(matches) > 0:\n",
    "        numMatched += 1\n",
    "print('%d / %d reads matched the genome exactly!' % (numMatched, n))"
   ]
  },
  {
   "cell_type": "code",
   "execution_count": 64,
   "metadata": {},
   "outputs": [
    {
     "name": "stdout",
     "output_type": "stream",
     "text": [
      "459 / 1000 reads matched the genome exactly!\n"
     ]
    }
   ],
   "source": [
    "# Now let's try matching just the first 30 bases of each read\n",
    "numMatched = 0\n",
    "n = 0\n",
    "for r in phix_reads:\n",
    "    r = r[:30]  # just taking the first 30 bases\n",
    "    matches = naive(r, genome)\n",
    "    n += 1\n",
    "    if len(matches) > 0:\n",
    "        numMatched += 1\n",
    "print('%d / %d reads matched the genome exactly!' % (numMatched, n))"
   ]
  },
  {
   "cell_type": "code",
   "execution_count": 65,
   "metadata": {},
   "outputs": [],
   "source": [
    "# align reverse complement too!\n",
    "def reverseComplement(s):\n",
    "    complement = {'A': 'T', 'C': 'G', 'G': 'C', 'T': 'A', 'N': 'N'}\n",
    "    t = ''\n",
    "    for base in s:\n",
    "        t = complement[base] + t\n",
    "    return t"
   ]
  },
  {
   "cell_type": "code",
   "execution_count": 66,
   "metadata": {},
   "outputs": [
    {
     "name": "stdout",
     "output_type": "stream",
     "text": [
      "932 / 1000 reads matched the genome exactly!\n"
     ]
    }
   ],
   "source": [
    "numMatched = 0\n",
    "n = 0\n",
    "for r in phix_reads:\n",
    "    r = r[:30]  # just taking the first 30 bases\n",
    "    matches = naive(r, genome)\n",
    "    matches.extend(naive(reverseComplement(r), genome))\n",
    "    n += 1\n",
    "    if len(matches) > 0:\n",
    "        numMatched += 1\n",
    "print('%d / %d reads matched the genome exactly!' % (numMatched, n))"
   ]
  }
 ],
 "metadata": {
  "kernelspec": {
   "display_name": "Python 3",
   "language": "python",
   "name": "python3"
  },
  "language_info": {
   "codemirror_mode": {
    "name": "ipython",
    "version": 3
   },
   "file_extension": ".py",
   "mimetype": "text/x-python",
   "name": "python",
   "nbconvert_exporter": "python",
   "pygments_lexer": "ipython3",
   "version": "3.6.9"
  }
 },
 "nbformat": 4,
 "nbformat_minor": 2
}
